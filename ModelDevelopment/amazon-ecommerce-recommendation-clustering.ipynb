{
 "cells": [
  {
   "cell_type": "markdown",
   "metadata": {
    "id": "x2K3ft7Elr34"
   },
   "source": [
    "# E-commerce Product Recommendation System\n",
    "\n",
    "- Name: Nyein Chan Aung\n",
    "- Student ID: st125553"
   ]
  },
  {
   "cell_type": "code",
   "execution_count": 258,
   "metadata": {
    "colab": {
     "base_uri": "https://localhost:8080/"
    },
    "executionInfo": {
     "elapsed": 2888,
     "status": "ok",
     "timestamp": 1731028084182,
     "user": {
      "displayName": "Nyein Chan Aung",
      "userId": "10271779707834005263"
     },
     "user_tz": -420
    },
    "id": "n-q40OQnmO_G",
    "outputId": "fd2ef59f-e9a2-4208-a826-d22719760c9f"
   },
   "outputs": [],
   "source": [
    "# # connect with google\n",
    "# from google.colab import drive\n",
    "# drive.mount('/content/drive')\n",
    "\n",
    "# # Mount drive folder with os\n",
    "# import os\n",
    "# os.chdir('/content/drive/MyDrive/CP4DSAI/_Project/_onlineSalePattern/')"
   ]
  },
  {
   "cell_type": "markdown",
   "metadata": {
    "id": "svEmn9RUlr37"
   },
   "source": [
    "## import required library"
   ]
  },
  {
   "cell_type": "code",
   "execution_count": 259,
   "metadata": {
    "colab": {
     "base_uri": "https://localhost:8080/"
    },
    "executionInfo": {
     "elapsed": 14100,
     "status": "ok",
     "timestamp": 1731028098281,
     "user": {
      "displayName": "Nyein Chan Aung",
      "userId": "10271779707834005263"
     },
     "user_tz": -420
    },
    "id": "IVVU1acQlr38",
    "outputId": "2efb8ae8-a685-42d1-ae56-5cbefd15fdc3"
   },
   "outputs": [
    {
     "name": "stdout",
     "output_type": "stream",
     "text": [
      "Requirement already satisfied: plotly in /opt/anaconda3/envs/venv/lib/python3.12/site-packages (5.24.1)\n",
      "Requirement already satisfied: tenacity>=6.2.0 in /opt/anaconda3/envs/venv/lib/python3.12/site-packages (from plotly) (9.0.0)\n",
      "Requirement already satisfied: packaging in /opt/anaconda3/envs/venv/lib/python3.12/site-packages (from plotly) (24.1)\n",
      "Requirement already satisfied: folium in /opt/anaconda3/envs/venv/lib/python3.12/site-packages (0.18.0)\n",
      "Requirement already satisfied: branca>=0.6.0 in /opt/anaconda3/envs/venv/lib/python3.12/site-packages (from folium) (0.8.0)\n",
      "Requirement already satisfied: jinja2>=2.9 in /opt/anaconda3/envs/venv/lib/python3.12/site-packages (from folium) (3.1.4)\n",
      "Requirement already satisfied: numpy in /opt/anaconda3/envs/venv/lib/python3.12/site-packages (from folium) (1.26.4)\n",
      "Requirement already satisfied: requests in /opt/anaconda3/envs/venv/lib/python3.12/site-packages (from folium) (2.32.3)\n",
      "Requirement already satisfied: xyzservices in /opt/anaconda3/envs/venv/lib/python3.12/site-packages (from folium) (2024.9.0)\n",
      "Requirement already satisfied: MarkupSafe>=2.0 in /opt/anaconda3/envs/venv/lib/python3.12/site-packages (from jinja2>=2.9->folium) (3.0.2)\n",
      "Requirement already satisfied: charset-normalizer<4,>=2 in /opt/anaconda3/envs/venv/lib/python3.12/site-packages (from requests->folium) (3.4.0)\n",
      "Requirement already satisfied: idna<4,>=2.5 in /opt/anaconda3/envs/venv/lib/python3.12/site-packages (from requests->folium) (3.10)\n",
      "Requirement already satisfied: urllib3<3,>=1.21.1 in /opt/anaconda3/envs/venv/lib/python3.12/site-packages (from requests->folium) (2.2.3)\n",
      "Requirement already satisfied: certifi>=2017.4.17 in /opt/anaconda3/envs/venv/lib/python3.12/site-packages (from requests->folium) (2024.8.30)\n",
      "Requirement already satisfied: squarify in /opt/anaconda3/envs/venv/lib/python3.12/site-packages (0.4.4)\n"
     ]
    }
   ],
   "source": [
    "#Library for edit dataset\n",
    "import pandas as pd\n",
    "import numpy as np\n",
    "import datetime as dp\n",
    "\n",
    "#Library for visualization\n",
    "import seaborn as sns\n",
    "import matplotlib.pyplot as plt\n",
    "\n",
    "!pip install plotly\n",
    "\n",
    "import plotly.graph_objects as go\n",
    "from plotly.subplots import make_subplots\n",
    "\n",
    "\n",
    "!pip install folium\n",
    "import folium\n",
    "from folium.plugins import StripePattern\n",
    "import branca.colormap\n",
    "from collections import defaultdict\n",
    "from folium.plugins import HeatMap\n",
    "\n",
    "#Calculate distance on latitude and longitude\n",
    "from math import radians, cos, sin, asin, sqrt\n",
    "\n",
    "#Library to find correlation in categorical data\n",
    "from pandas import factorize\n",
    "\n",
    "# Modeling\n",
    "from sklearn.cluster import KMeans\n",
    "from sklearn.metrics import silhouette_score\n",
    "from sklearn.cluster import DBSCAN\n",
    "from sklearn.preprocessing import StandardScaler\n",
    "import warnings\n",
    "from sklearn.utils import resample\n",
    "\n",
    "import matplotlib.pyplot as plt\n",
    "!pip install squarify\n",
    "import squarify\n",
    "warnings.filterwarnings('ignore')"
   ]
  },
  {
   "cell_type": "markdown",
   "metadata": {
    "id": "Z42y4pIqlr3-"
   },
   "source": [
    "### Load Dataset"
   ]
  },
  {
   "cell_type": "code",
   "execution_count": 260,
   "metadata": {
    "colab": {
     "base_uri": "https://localhost:8080/",
     "height": 446
    },
    "executionInfo": {
     "elapsed": 5408,
     "status": "ok",
     "timestamp": 1731028103684,
     "user": {
      "displayName": "Nyein Chan Aung",
      "userId": "10271779707834005263"
     },
     "user_tz": -420
    },
    "id": "JqGhPZkXlr3-",
    "outputId": "c6dbbc91-e34c-495c-ba6c-554e5508a644"
   },
   "outputs": [
    {
     "data": {
      "text/html": [
       "<div>\n",
       "<style scoped>\n",
       "    .dataframe tbody tr th:only-of-type {\n",
       "        vertical-align: middle;\n",
       "    }\n",
       "\n",
       "    .dataframe tbody tr th {\n",
       "        vertical-align: top;\n",
       "    }\n",
       "\n",
       "    .dataframe thead th {\n",
       "        text-align: right;\n",
       "    }\n",
       "</style>\n",
       "<table border=\"1\" class=\"dataframe\">\n",
       "  <thead>\n",
       "    <tr style=\"text-align: right;\">\n",
       "      <th></th>\n",
       "      <th>order_id</th>\n",
       "      <th>order_date</th>\n",
       "      <th>status</th>\n",
       "      <th>item_id</th>\n",
       "      <th>sku</th>\n",
       "      <th>qty_ordered</th>\n",
       "      <th>price</th>\n",
       "      <th>value</th>\n",
       "      <th>discount_amount</th>\n",
       "      <th>total</th>\n",
       "      <th>...</th>\n",
       "      <th>Sign in date</th>\n",
       "      <th>Phone No.</th>\n",
       "      <th>Place Name</th>\n",
       "      <th>County</th>\n",
       "      <th>City</th>\n",
       "      <th>State</th>\n",
       "      <th>Zip</th>\n",
       "      <th>Region</th>\n",
       "      <th>User Name</th>\n",
       "      <th>Discount_Percent</th>\n",
       "    </tr>\n",
       "  </thead>\n",
       "  <tbody>\n",
       "    <tr>\n",
       "      <th>0</th>\n",
       "      <td>100354678</td>\n",
       "      <td>01/10/2020</td>\n",
       "      <td>received</td>\n",
       "      <td>574772</td>\n",
       "      <td>oasis_Oasis-064-36</td>\n",
       "      <td>21</td>\n",
       "      <td>89.9</td>\n",
       "      <td>1798.0</td>\n",
       "      <td>0.0</td>\n",
       "      <td>1798.0</td>\n",
       "      <td>...</td>\n",
       "      <td>8/22/2006</td>\n",
       "      <td>405-959-1129</td>\n",
       "      <td>Vinson</td>\n",
       "      <td>Harmon</td>\n",
       "      <td>Vinson</td>\n",
       "      <td>OK</td>\n",
       "      <td>73571</td>\n",
       "      <td>South</td>\n",
       "      <td>jwtitus</td>\n",
       "      <td>0.0</td>\n",
       "    </tr>\n",
       "    <tr>\n",
       "      <th>1</th>\n",
       "      <td>100354678</td>\n",
       "      <td>01/10/2020</td>\n",
       "      <td>received</td>\n",
       "      <td>574774</td>\n",
       "      <td>Fantastic_FT-48</td>\n",
       "      <td>11</td>\n",
       "      <td>19.0</td>\n",
       "      <td>190.0</td>\n",
       "      <td>0.0</td>\n",
       "      <td>190.0</td>\n",
       "      <td>...</td>\n",
       "      <td>8/22/2006</td>\n",
       "      <td>405-959-1129</td>\n",
       "      <td>Vinson</td>\n",
       "      <td>Harmon</td>\n",
       "      <td>Vinson</td>\n",
       "      <td>OK</td>\n",
       "      <td>73571</td>\n",
       "      <td>South</td>\n",
       "      <td>jwtitus</td>\n",
       "      <td>0.0</td>\n",
       "    </tr>\n",
       "    <tr>\n",
       "      <th>2</th>\n",
       "      <td>100354680</td>\n",
       "      <td>01/10/2020</td>\n",
       "      <td>complete</td>\n",
       "      <td>574777</td>\n",
       "      <td>mdeal_DMC-610-8</td>\n",
       "      <td>9</td>\n",
       "      <td>149.9</td>\n",
       "      <td>1199.2</td>\n",
       "      <td>0.0</td>\n",
       "      <td>1199.2</td>\n",
       "      <td>...</td>\n",
       "      <td>8/22/2006</td>\n",
       "      <td>405-959-1129</td>\n",
       "      <td>Vinson</td>\n",
       "      <td>Harmon</td>\n",
       "      <td>Vinson</td>\n",
       "      <td>OK</td>\n",
       "      <td>73571</td>\n",
       "      <td>South</td>\n",
       "      <td>jwtitus</td>\n",
       "      <td>0.0</td>\n",
       "    </tr>\n",
       "    <tr>\n",
       "      <th>3</th>\n",
       "      <td>100354680</td>\n",
       "      <td>01/10/2020</td>\n",
       "      <td>complete</td>\n",
       "      <td>574779</td>\n",
       "      <td>oasis_Oasis-061-36</td>\n",
       "      <td>9</td>\n",
       "      <td>79.9</td>\n",
       "      <td>639.2</td>\n",
       "      <td>0.0</td>\n",
       "      <td>639.2</td>\n",
       "      <td>...</td>\n",
       "      <td>8/22/2006</td>\n",
       "      <td>405-959-1129</td>\n",
       "      <td>Vinson</td>\n",
       "      <td>Harmon</td>\n",
       "      <td>Vinson</td>\n",
       "      <td>OK</td>\n",
       "      <td>73571</td>\n",
       "      <td>South</td>\n",
       "      <td>jwtitus</td>\n",
       "      <td>0.0</td>\n",
       "    </tr>\n",
       "    <tr>\n",
       "      <th>4</th>\n",
       "      <td>100367357</td>\n",
       "      <td>13/11/2020</td>\n",
       "      <td>received</td>\n",
       "      <td>595185</td>\n",
       "      <td>MEFNAR59C38B6CA08CD</td>\n",
       "      <td>2</td>\n",
       "      <td>99.9</td>\n",
       "      <td>99.9</td>\n",
       "      <td>0.0</td>\n",
       "      <td>99.9</td>\n",
       "      <td>...</td>\n",
       "      <td>8/22/2006</td>\n",
       "      <td>405-959-1129</td>\n",
       "      <td>Vinson</td>\n",
       "      <td>Harmon</td>\n",
       "      <td>Vinson</td>\n",
       "      <td>OK</td>\n",
       "      <td>73571</td>\n",
       "      <td>South</td>\n",
       "      <td>jwtitus</td>\n",
       "      <td>0.0</td>\n",
       "    </tr>\n",
       "  </tbody>\n",
       "</table>\n",
       "<p>5 rows × 35 columns</p>\n",
       "</div>"
      ],
      "text/plain": [
       "    order_id  order_date    status  item_id                  sku  qty_ordered  \\\n",
       "0  100354678  01/10/2020  received   574772   oasis_Oasis-064-36           21   \n",
       "1  100354678  01/10/2020  received   574774      Fantastic_FT-48           11   \n",
       "2  100354680  01/10/2020  complete   574777      mdeal_DMC-610-8            9   \n",
       "3  100354680  01/10/2020  complete   574779   oasis_Oasis-061-36            9   \n",
       "4  100367357  13/11/2020  received   595185  MEFNAR59C38B6CA08CD            2   \n",
       "\n",
       "   price   value  discount_amount   total  ... Sign in date    Phone No.   \\\n",
       "0   89.9  1798.0              0.0  1798.0  ...    8/22/2006  405-959-1129   \n",
       "1   19.0   190.0              0.0   190.0  ...    8/22/2006  405-959-1129   \n",
       "2  149.9  1199.2              0.0  1199.2  ...    8/22/2006  405-959-1129   \n",
       "3   79.9   639.2              0.0   639.2  ...    8/22/2006  405-959-1129   \n",
       "4   99.9    99.9              0.0    99.9  ...    8/22/2006  405-959-1129   \n",
       "\n",
       "  Place Name  County    City State    Zip Region User Name Discount_Percent  \n",
       "0     Vinson  Harmon  Vinson    OK  73571  South   jwtitus              0.0  \n",
       "1     Vinson  Harmon  Vinson    OK  73571  South   jwtitus              0.0  \n",
       "2     Vinson  Harmon  Vinson    OK  73571  South   jwtitus              0.0  \n",
       "3     Vinson  Harmon  Vinson    OK  73571  South   jwtitus              0.0  \n",
       "4     Vinson  Harmon  Vinson    OK  73571  South   jwtitus              0.0  \n",
       "\n",
       "[5 rows x 35 columns]"
      ]
     },
     "execution_count": 260,
     "metadata": {},
     "output_type": "execute_result"
    }
   ],
   "source": [
    "Amazon_df = pd.read_csv('data/AmazonSalesFY2020-21.csv')\n",
    "Amazon_df.head()"
   ]
  },
  {
   "cell_type": "code",
   "execution_count": 261,
   "metadata": {
    "colab": {
     "base_uri": "https://localhost:8080/",
     "height": 1000
    },
    "executionInfo": {
     "elapsed": 8,
     "status": "ok",
     "timestamp": 1731028103685,
     "user": {
      "displayName": "Nyein Chan Aung",
      "userId": "10271779707834005263"
     },
     "user_tz": -420
    },
    "id": "5U4A0wrQlr3_",
    "outputId": "fb98fe11-72a1-4c99-b53d-cab73dba94df"
   },
   "outputs": [
    {
     "data": {
      "text/plain": [
       "order_id             object\n",
       "order_date           object\n",
       "status               object\n",
       "item_id               int64\n",
       "sku                  object\n",
       "qty_ordered           int64\n",
       "price               float64\n",
       "value               float64\n",
       "discount_amount     float64\n",
       "total               float64\n",
       "category             object\n",
       "payment_method       object\n",
       "bi_st                object\n",
       "cust_id               int64\n",
       "year                  int64\n",
       "month                object\n",
       "ref_num               int64\n",
       "Name Prefix          object\n",
       "First Name           object\n",
       "Middle Initial       object\n",
       "Last Name            object\n",
       "Gender               object\n",
       "age                   int64\n",
       "full_name            object\n",
       "E Mail               object\n",
       "Sign in date         object\n",
       "Phone No.            object\n",
       "Place Name           object\n",
       "County               object\n",
       "City                 object\n",
       "State                object\n",
       "Zip                   int64\n",
       "Region               object\n",
       "User Name            object\n",
       "Discount_Percent    float64\n",
       "dtype: object"
      ]
     },
     "execution_count": 261,
     "metadata": {},
     "output_type": "execute_result"
    }
   ],
   "source": [
    "Amazon_df.dtypes"
   ]
  },
  {
   "cell_type": "markdown",
   "metadata": {
    "id": "urAxAwp7lr3_"
   },
   "source": [
    "## Data Cleansing"
   ]
  },
  {
   "cell_type": "code",
   "execution_count": 262,
   "metadata": {
    "colab": {
     "base_uri": "https://localhost:8080/"
    },
    "executionInfo": {
     "elapsed": 677,
     "status": "ok",
     "timestamp": 1731028104356,
     "user": {
      "displayName": "Nyein Chan Aung",
      "userId": "10271779707834005263"
     },
     "user_tz": -420
    },
    "id": "d3FUNXa5lr3_",
    "outputId": "0b3fbc34-8117-44c6-9e77-f8d4f4852803"
   },
   "outputs": [
    {
     "name": "stdout",
     "output_type": "stream",
     "text": [
      "<class 'pandas.core.frame.DataFrame'>\n",
      "RangeIndex: 286392 entries, 0 to 286391\n",
      "Data columns (total 35 columns):\n",
      " #   Column            Non-Null Count   Dtype  \n",
      "---  ------            --------------   -----  \n",
      " 0   order_id          286392 non-null  object \n",
      " 1   order_date        286392 non-null  object \n",
      " 2   status            286392 non-null  object \n",
      " 3   item_id           286392 non-null  int64  \n",
      " 4   sku               286392 non-null  object \n",
      " 5   qty_ordered       286392 non-null  int64  \n",
      " 6   price             286392 non-null  float64\n",
      " 7   value             286392 non-null  float64\n",
      " 8   discount_amount   286392 non-null  float64\n",
      " 9   total             286392 non-null  float64\n",
      " 10  category          286392 non-null  object \n",
      " 11  payment_method    286392 non-null  object \n",
      " 12  bi_st             286392 non-null  object \n",
      " 13  cust_id           286392 non-null  int64  \n",
      " 14  year              286392 non-null  int64  \n",
      " 15  month             286392 non-null  object \n",
      " 16  ref_num           286392 non-null  int64  \n",
      " 17  Name Prefix       286392 non-null  object \n",
      " 18  First Name        286392 non-null  object \n",
      " 19  Middle Initial    286392 non-null  object \n",
      " 20  Last Name         286392 non-null  object \n",
      " 21  Gender            286392 non-null  object \n",
      " 22  age               286392 non-null  int64  \n",
      " 23  full_name         286392 non-null  object \n",
      " 24  E Mail            286392 non-null  object \n",
      " 25  Sign in date      286392 non-null  object \n",
      " 26  Phone No.         286392 non-null  object \n",
      " 27  Place Name        286392 non-null  object \n",
      " 28  County            286392 non-null  object \n",
      " 29  City              286392 non-null  object \n",
      " 30  State             286392 non-null  object \n",
      " 31  Zip               286392 non-null  int64  \n",
      " 32  Region            286392 non-null  object \n",
      " 33  User Name         286392 non-null  object \n",
      " 34  Discount_Percent  286392 non-null  float64\n",
      "dtypes: float64(5), int64(7), object(23)\n",
      "memory usage: 76.5+ MB\n"
     ]
    }
   ],
   "source": [
    "Amazon_df.info()"
   ]
  },
  {
   "cell_type": "code",
   "execution_count": 263,
   "metadata": {
    "colab": {
     "base_uri": "https://localhost:8080/"
    },
    "executionInfo": {
     "elapsed": 5,
     "status": "ok",
     "timestamp": 1731028104356,
     "user": {
      "displayName": "Nyein Chan Aung",
      "userId": "10271779707834005263"
     },
     "user_tz": -420
    },
    "id": "becEjZH5lr4A",
    "outputId": "7b088d68-1bde-45a6-eeca-ebd1cb462b66"
   },
   "outputs": [
    {
     "data": {
      "text/plain": [
       "Index(['order_id', 'order_date', 'status', 'item_id', 'sku', 'qty_ordered',\n",
       "       'price', 'value', 'discount_amount', 'total', 'category',\n",
       "       'payment_method', 'bi_st', 'cust_id', 'year', 'month', 'ref_num',\n",
       "       'Name Prefix', 'First Name', 'Middle Initial', 'Last Name', 'Gender',\n",
       "       'age', 'full_name', 'E Mail', 'Sign in date', 'Phone No. ',\n",
       "       'Place Name', 'County', 'City', 'State', 'Zip', 'Region', 'User Name',\n",
       "       'Discount_Percent'],\n",
       "      dtype='object')"
      ]
     },
     "execution_count": 263,
     "metadata": {},
     "output_type": "execute_result"
    }
   ],
   "source": [
    "Amazon_df.columns"
   ]
  },
  {
   "cell_type": "code",
   "execution_count": 264,
   "metadata": {
    "executionInfo": {
     "elapsed": 3,
     "status": "ok",
     "timestamp": 1731028104356,
     "user": {
      "displayName": "Nyein Chan Aung",
      "userId": "10271779707834005263"
     },
     "user_tz": -420
    },
    "id": "J_tRjwXqlr4A"
   },
   "outputs": [],
   "source": [
    "# change column name\n",
    "new_columns={\"Name Prefix\": \"name_prefix\",\n",
    "         \"First Name\": \"first_name\",\n",
    "         \"Middle Initial\":\"middle_name\",\n",
    "         \"Last Name\": \"last_name\",\n",
    "         \"Gender\":\"gender\",\n",
    "         \"E Mail\":\"email\",\n",
    "         \"Sign in date\":\"sign_in_date\",\n",
    "         \"Phone No. \":\"phone_no\",\n",
    "         \"Place Name\":\"place_name\",\n",
    "         \"County\":\"country\",\n",
    "         \"City\":\"city\",\n",
    "         \"State\":\"state\",\n",
    "         \"Zip\":\"zip\",\n",
    "         \"Region\":\"region\",\n",
    "         \"User Name\":\"user_name\",\n",
    "         \"Discount_Percent\":\"discount_percent\"\n",
    "         }\n",
    "Amazon_df = Amazon_df.rename(columns=new_columns)"
   ]
  },
  {
   "cell_type": "code",
   "execution_count": 265,
   "metadata": {
    "colab": {
     "base_uri": "https://localhost:8080/"
    },
    "executionInfo": {
     "elapsed": 408,
     "status": "ok",
     "timestamp": 1731028104761,
     "user": {
      "displayName": "Nyein Chan Aung",
      "userId": "10271779707834005263"
     },
     "user_tz": -420
    },
    "id": "YI871liElr4A",
    "outputId": "5960805b-751d-4bdd-ac57-bb13906c9d01"
   },
   "outputs": [
    {
     "name": "stdout",
     "output_type": "stream",
     "text": [
      "<class 'pandas.core.frame.DataFrame'>\n",
      "RangeIndex: 286392 entries, 0 to 286391\n",
      "Data columns (total 35 columns):\n",
      " #   Column            Non-Null Count   Dtype  \n",
      "---  ------            --------------   -----  \n",
      " 0   order_id          286392 non-null  object \n",
      " 1   order_date        286392 non-null  object \n",
      " 2   status            286392 non-null  object \n",
      " 3   item_id           286392 non-null  int64  \n",
      " 4   sku               286392 non-null  object \n",
      " 5   qty_ordered       286392 non-null  int64  \n",
      " 6   price             286392 non-null  float64\n",
      " 7   value             286392 non-null  float64\n",
      " 8   discount_amount   286392 non-null  float64\n",
      " 9   total             286392 non-null  float64\n",
      " 10  category          286392 non-null  object \n",
      " 11  payment_method    286392 non-null  object \n",
      " 12  bi_st             286392 non-null  object \n",
      " 13  cust_id           286392 non-null  int64  \n",
      " 14  year              286392 non-null  int64  \n",
      " 15  month             286392 non-null  object \n",
      " 16  ref_num           286392 non-null  int64  \n",
      " 17  name_prefix       286392 non-null  object \n",
      " 18  first_name        286392 non-null  object \n",
      " 19  middle_name       286392 non-null  object \n",
      " 20  last_name         286392 non-null  object \n",
      " 21  gender            286392 non-null  object \n",
      " 22  age               286392 non-null  int64  \n",
      " 23  full_name         286392 non-null  object \n",
      " 24  email             286392 non-null  object \n",
      " 25  sign_in_date      286392 non-null  object \n",
      " 26  phone_no          286392 non-null  object \n",
      " 27  place_name        286392 non-null  object \n",
      " 28  country           286392 non-null  object \n",
      " 29  city              286392 non-null  object \n",
      " 30  state             286392 non-null  object \n",
      " 31  zip               286392 non-null  int64  \n",
      " 32  region            286392 non-null  object \n",
      " 33  user_name         286392 non-null  object \n",
      " 34  discount_percent  286392 non-null  float64\n",
      "dtypes: float64(5), int64(7), object(23)\n",
      "memory usage: 76.5+ MB\n"
     ]
    }
   ],
   "source": [
    "Amazon_df.info()"
   ]
  },
  {
   "cell_type": "markdown",
   "metadata": {
    "id": "9NuM_DjKlr4B"
   },
   "source": [
    "According to the information from data, following data need to be cleaned or update.\n",
    "- **String to integer**\n",
    "- order_id\n",
    "- month\n",
    "\n",
    "- **Stream to datetime**\n",
    "- order_date\n",
    "\n",
    "- **Label Encoding**\n",
    "- order_status\n",
    "- payment_method\n",
    "\n",
    "- **Change Label**\n",
    "- Phone No . -> Phone_Number"
   ]
  },
  {
   "cell_type": "code",
   "execution_count": 266,
   "metadata": {
    "executionInfo": {
     "elapsed": 4,
     "status": "ok",
     "timestamp": 1731028104762,
     "user": {
      "displayName": "Nyein Chan Aung",
      "userId": "10271779707834005263"
     },
     "user_tz": -420
    },
    "id": "RGF8wkURlr4B"
   },
   "outputs": [],
   "source": [
    "# Change Order ID data type into integer\n",
    "#Amazon_df.order_id =  pd.to_numeric(Amazon_df.order_id, errors='coerce')"
   ]
  },
  {
   "cell_type": "code",
   "execution_count": 267,
   "metadata": {
    "colab": {
     "base_uri": "https://localhost:8080/"
    },
    "executionInfo": {
     "elapsed": 4,
     "status": "ok",
     "timestamp": 1731028104762,
     "user": {
      "displayName": "Nyein Chan Aung",
      "userId": "10271779707834005263"
     },
     "user_tz": -420
    },
    "id": "VhhWNr6Qlr4B",
    "outputId": "814fb5cf-569d-460e-955c-81b34616c64d"
   },
   "outputs": [
    {
     "name": "stdout",
     "output_type": "stream",
     "text": [
      "   order_date  year   month\n",
      "0  01/10/2020  2020  Oct-20\n",
      "1  01/10/2020  2020  Oct-20\n",
      "2  01/10/2020  2020  Oct-20\n",
      "3  01/10/2020  2020  Oct-20\n",
      "4  13/11/2020  2020  Nov-20\n"
     ]
    }
   ],
   "source": [
    "# Change data format\n",
    "print(Amazon_df[['order_date','year','month']].head())"
   ]
  },
  {
   "cell_type": "code",
   "execution_count": 268,
   "metadata": {
    "colab": {
     "base_uri": "https://localhost:8080/"
    },
    "executionInfo": {
     "elapsed": 405,
     "status": "ok",
     "timestamp": 1731028105164,
     "user": {
      "displayName": "Nyein Chan Aung",
      "userId": "10271779707834005263"
     },
     "user_tz": -420
    },
    "id": "6xlj1n1tlr4B",
    "outputId": "3a5b7f70-a630-401c-da47-df248f046ed9"
   },
   "outputs": [
    {
     "name": "stdout",
     "output_type": "stream",
     "text": [
      "  order_date  year    month\n",
      "0 2020-10-01  2020  2020-10\n",
      "1 2020-10-01  2020  2020-10\n",
      "2 2020-10-01  2020  2020-10\n",
      "3 2020-10-01  2020  2020-10\n",
      "4 2020-11-13  2020  2020-11\n"
     ]
    }
   ],
   "source": [
    "# Convert order_date, year and month to datetime format\n",
    "Amazon_df['order_date'] = pd.to_datetime(Amazon_df['order_date'], format='%d/%m/%Y')\n",
    "# Convert 'order_date' to datetime format\n",
    "Amazon_df['order_date'] = pd.to_datetime(Amazon_df['order_date'], format='%d/%m/%Y')\n",
    "# Convert 'month' to datetime format and extract YYYY-MM format\n",
    "Amazon_df['month'] = pd.to_datetime(Amazon_df['month'], format='%b-%y').dt.to_period('M')\n",
    "\n",
    "# Print to verify changes\n",
    "print(Amazon_df[['order_date', 'year', 'month']].head())"
   ]
  },
  {
   "cell_type": "code",
   "execution_count": 269,
   "metadata": {
    "colab": {
     "base_uri": "https://localhost:8080/",
     "height": 424
    },
    "executionInfo": {
     "elapsed": 4,
     "status": "ok",
     "timestamp": 1731028105164,
     "user": {
      "displayName": "Nyein Chan Aung",
      "userId": "10271779707834005263"
     },
     "user_tz": -420
    },
    "id": "NFvhDuHKlr4B",
    "outputId": "0f9bf9ff-d6e9-4f26-f51b-f37670af1ac1"
   },
   "outputs": [
    {
     "data": {
      "text/html": [
       "<div>\n",
       "<style scoped>\n",
       "    .dataframe tbody tr th:only-of-type {\n",
       "        vertical-align: middle;\n",
       "    }\n",
       "\n",
       "    .dataframe tbody tr th {\n",
       "        vertical-align: top;\n",
       "    }\n",
       "\n",
       "    .dataframe thead th {\n",
       "        text-align: right;\n",
       "    }\n",
       "</style>\n",
       "<table border=\"1\" class=\"dataframe\">\n",
       "  <thead>\n",
       "    <tr style=\"text-align: right;\">\n",
       "      <th></th>\n",
       "      <th>order_date</th>\n",
       "      <th>item_id</th>\n",
       "      <th>qty_ordered</th>\n",
       "      <th>price</th>\n",
       "      <th>value</th>\n",
       "      <th>discount_amount</th>\n",
       "      <th>total</th>\n",
       "      <th>cust_id</th>\n",
       "      <th>year</th>\n",
       "      <th>ref_num</th>\n",
       "      <th>age</th>\n",
       "      <th>zip</th>\n",
       "      <th>discount_percent</th>\n",
       "    </tr>\n",
       "  </thead>\n",
       "  <tbody>\n",
       "    <tr>\n",
       "      <th>count</th>\n",
       "      <td>286392</td>\n",
       "      <td>286392.000000</td>\n",
       "      <td>286392.000000</td>\n",
       "      <td>286392.000000</td>\n",
       "      <td>286392.000000</td>\n",
       "      <td>286392.000000</td>\n",
       "      <td>286392.000000</td>\n",
       "      <td>286392.000000</td>\n",
       "      <td>286392.000000</td>\n",
       "      <td>286392.000000</td>\n",
       "      <td>286392.000000</td>\n",
       "      <td>286392.000000</td>\n",
       "      <td>286392.000000</td>\n",
       "    </tr>\n",
       "    <tr>\n",
       "      <th>mean</th>\n",
       "      <td>2021-03-12 11:18:32.008715264</td>\n",
       "      <td>741664.902131</td>\n",
       "      <td>3.011296</td>\n",
       "      <td>851.385253</td>\n",
       "      <td>885.879934</td>\n",
       "      <td>70.039427</td>\n",
       "      <td>815.840507</td>\n",
       "      <td>70048.019054</td>\n",
       "      <td>2020.618778</td>\n",
       "      <td>560853.663395</td>\n",
       "      <td>46.489033</td>\n",
       "      <td>49723.160015</td>\n",
       "      <td>6.069079</td>\n",
       "    </tr>\n",
       "    <tr>\n",
       "      <th>min</th>\n",
       "      <td>2020-10-01 00:00:00</td>\n",
       "      <td>574769.000000</td>\n",
       "      <td>1.000000</td>\n",
       "      <td>0.000000</td>\n",
       "      <td>0.000000</td>\n",
       "      <td>0.000000</td>\n",
       "      <td>0.000000</td>\n",
       "      <td>4.000000</td>\n",
       "      <td>2020.000000</td>\n",
       "      <td>111127.000000</td>\n",
       "      <td>18.000000</td>\n",
       "      <td>210.000000</td>\n",
       "      <td>0.000000</td>\n",
       "    </tr>\n",
       "    <tr>\n",
       "      <th>25%</th>\n",
       "      <td>2020-12-24 00:00:00</td>\n",
       "      <td>659684.500000</td>\n",
       "      <td>2.000000</td>\n",
       "      <td>49.900000</td>\n",
       "      <td>49.900000</td>\n",
       "      <td>0.000000</td>\n",
       "      <td>49.900000</td>\n",
       "      <td>56519.000000</td>\n",
       "      <td>2020.000000</td>\n",
       "      <td>341265.000000</td>\n",
       "      <td>32.000000</td>\n",
       "      <td>26571.750000</td>\n",
       "      <td>0.000000</td>\n",
       "    </tr>\n",
       "    <tr>\n",
       "      <th>50%</th>\n",
       "      <td>2021-03-16 00:00:00</td>\n",
       "      <td>742309.000000</td>\n",
       "      <td>2.000000</td>\n",
       "      <td>119.000000</td>\n",
       "      <td>158.970000</td>\n",
       "      <td>0.000000</td>\n",
       "      <td>149.800000</td>\n",
       "      <td>74225.500000</td>\n",
       "      <td>2021.000000</td>\n",
       "      <td>564857.000000</td>\n",
       "      <td>47.000000</td>\n",
       "      <td>49316.000000</td>\n",
       "      <td>0.000000</td>\n",
       "    </tr>\n",
       "    <tr>\n",
       "      <th>75%</th>\n",
       "      <td>2021-05-18 00:00:00</td>\n",
       "      <td>826124.250000</td>\n",
       "      <td>3.000000</td>\n",
       "      <td>950.000000</td>\n",
       "      <td>910.000000</td>\n",
       "      <td>18.383050</td>\n",
       "      <td>800.000000</td>\n",
       "      <td>92357.000000</td>\n",
       "      <td>2021.000000</td>\n",
       "      <td>781086.000000</td>\n",
       "      <td>61.000000</td>\n",
       "      <td>72645.000000</td>\n",
       "      <td>11.000000</td>\n",
       "    </tr>\n",
       "    <tr>\n",
       "      <th>max</th>\n",
       "      <td>2021-09-30 00:00:00</td>\n",
       "      <td>905208.000000</td>\n",
       "      <td>501.000000</td>\n",
       "      <td>101262.590000</td>\n",
       "      <td>101262.590000</td>\n",
       "      <td>30213.150000</td>\n",
       "      <td>101262.590000</td>\n",
       "      <td>115326.000000</td>\n",
       "      <td>2021.000000</td>\n",
       "      <td>999981.000000</td>\n",
       "      <td>75.000000</td>\n",
       "      <td>99950.000000</td>\n",
       "      <td>75.000000</td>\n",
       "    </tr>\n",
       "    <tr>\n",
       "      <th>std</th>\n",
       "      <td>NaN</td>\n",
       "      <td>95746.031827</td>\n",
       "      <td>4.573837</td>\n",
       "      <td>1741.750751</td>\n",
       "      <td>2073.252179</td>\n",
       "      <td>256.880870</td>\n",
       "      <td>1983.580302</td>\n",
       "      <td>30243.856395</td>\n",
       "      <td>0.485688</td>\n",
       "      <td>255828.418398</td>\n",
       "      <td>16.673288</td>\n",
       "      <td>27597.198873</td>\n",
       "      <td>10.100100</td>\n",
       "    </tr>\n",
       "  </tbody>\n",
       "</table>\n",
       "</div>"
      ],
      "text/plain": [
       "                          order_date        item_id    qty_ordered  \\\n",
       "count                         286392  286392.000000  286392.000000   \n",
       "mean   2021-03-12 11:18:32.008715264  741664.902131       3.011296   \n",
       "min              2020-10-01 00:00:00  574769.000000       1.000000   \n",
       "25%              2020-12-24 00:00:00  659684.500000       2.000000   \n",
       "50%              2021-03-16 00:00:00  742309.000000       2.000000   \n",
       "75%              2021-05-18 00:00:00  826124.250000       3.000000   \n",
       "max              2021-09-30 00:00:00  905208.000000     501.000000   \n",
       "std                              NaN   95746.031827       4.573837   \n",
       "\n",
       "               price          value  discount_amount          total  \\\n",
       "count  286392.000000  286392.000000    286392.000000  286392.000000   \n",
       "mean      851.385253     885.879934        70.039427     815.840507   \n",
       "min         0.000000       0.000000         0.000000       0.000000   \n",
       "25%        49.900000      49.900000         0.000000      49.900000   \n",
       "50%       119.000000     158.970000         0.000000     149.800000   \n",
       "75%       950.000000     910.000000        18.383050     800.000000   \n",
       "max    101262.590000  101262.590000     30213.150000  101262.590000   \n",
       "std      1741.750751    2073.252179       256.880870    1983.580302   \n",
       "\n",
       "             cust_id           year        ref_num            age  \\\n",
       "count  286392.000000  286392.000000  286392.000000  286392.000000   \n",
       "mean    70048.019054    2020.618778  560853.663395      46.489033   \n",
       "min         4.000000    2020.000000  111127.000000      18.000000   \n",
       "25%     56519.000000    2020.000000  341265.000000      32.000000   \n",
       "50%     74225.500000    2021.000000  564857.000000      47.000000   \n",
       "75%     92357.000000    2021.000000  781086.000000      61.000000   \n",
       "max    115326.000000    2021.000000  999981.000000      75.000000   \n",
       "std     30243.856395       0.485688  255828.418398      16.673288   \n",
       "\n",
       "                 zip  discount_percent  \n",
       "count  286392.000000     286392.000000  \n",
       "mean    49723.160015          6.069079  \n",
       "min       210.000000          0.000000  \n",
       "25%     26571.750000          0.000000  \n",
       "50%     49316.000000          0.000000  \n",
       "75%     72645.000000         11.000000  \n",
       "max     99950.000000         75.000000  \n",
       "std     27597.198873         10.100100  "
      ]
     },
     "execution_count": 269,
     "metadata": {},
     "output_type": "execute_result"
    }
   ],
   "source": [
    "Amazon_df.describe()"
   ]
  },
  {
   "cell_type": "code",
   "execution_count": 270,
   "metadata": {
    "colab": {
     "base_uri": "https://localhost:8080/"
    },
    "executionInfo": {
     "elapsed": 2603,
     "status": "ok",
     "timestamp": 1731028107764,
     "user": {
      "displayName": "Nyein Chan Aung",
      "userId": "10271779707834005263"
     },
     "user_tz": -420
    },
    "id": "Rqho8Gh_lr4B",
    "outputId": "d0a1999d-b6b1-4663-8351-a4911f0ad85a"
   },
   "outputs": [
    {
     "data": {
      "text/plain": [
       "0"
      ]
     },
     "execution_count": 270,
     "metadata": {},
     "output_type": "execute_result"
    }
   ],
   "source": [
    "# Check for duplicates\n",
    "Amazon_df.duplicated().sum()"
   ]
  },
  {
   "cell_type": "code",
   "execution_count": 271,
   "metadata": {
    "colab": {
     "base_uri": "https://localhost:8080/",
     "height": 1000
    },
    "executionInfo": {
     "elapsed": 819,
     "status": "ok",
     "timestamp": 1731028108580,
     "user": {
      "displayName": "Nyein Chan Aung",
      "userId": "10271779707834005263"
     },
     "user_tz": -420
    },
    "id": "jzXky9gAlr4C",
    "outputId": "f8932419-c0e8-4591-fb24-8ef8a403b15e"
   },
   "outputs": [
    {
     "data": {
      "text/plain": [
       "order_id            0\n",
       "order_date          0\n",
       "status              0\n",
       "item_id             0\n",
       "sku                 0\n",
       "qty_ordered         0\n",
       "price               0\n",
       "value               0\n",
       "discount_amount     0\n",
       "total               0\n",
       "category            0\n",
       "payment_method      0\n",
       "bi_st               0\n",
       "cust_id             0\n",
       "year                0\n",
       "month               0\n",
       "ref_num             0\n",
       "name_prefix         0\n",
       "first_name          0\n",
       "middle_name         0\n",
       "last_name           0\n",
       "gender              0\n",
       "age                 0\n",
       "full_name           0\n",
       "email               0\n",
       "sign_in_date        0\n",
       "phone_no            0\n",
       "place_name          0\n",
       "country             0\n",
       "city                0\n",
       "state               0\n",
       "zip                 0\n",
       "region              0\n",
       "user_name           0\n",
       "discount_percent    0\n",
       "dtype: int64"
      ]
     },
     "execution_count": 271,
     "metadata": {},
     "output_type": "execute_result"
    }
   ],
   "source": [
    "# Check for NaNs\n",
    "Amazon_df.isna().sum()"
   ]
  },
  {
   "cell_type": "code",
   "execution_count": 272,
   "metadata": {},
   "outputs": [
    {
     "data": {
      "text/plain": [
       "15"
      ]
     },
     "execution_count": 272,
     "metadata": {},
     "output_type": "execute_result"
    }
   ],
   "source": [
    "len(Amazon_df.category.unique())"
   ]
  },
  {
   "cell_type": "markdown",
   "metadata": {
    "id": "X4FZOcaXlr4C"
   },
   "source": [
    "## Data Pre-processing/  Exploratory Data Analysis"
   ]
  },
  {
   "cell_type": "code",
   "execution_count": 273,
   "metadata": {
    "colab": {
     "base_uri": "https://localhost:8080/",
     "height": 649
    },
    "executionInfo": {
     "elapsed": 418,
     "status": "ok",
     "timestamp": 1731028108996,
     "user": {
      "displayName": "Nyein Chan Aung",
      "userId": "10271779707834005263"
     },
     "user_tz": -420
    },
    "id": "eH3nBMEjlr4C",
    "outputId": "d21f808f-cb86-4980-ed96-6ddb7cee53e4"
   },
   "outputs": [
    {
     "data": {
      "image/png": "[encoded data removed]",
      "text/plain": [
       "<Figure size 800x600 with 1 Axes>"
      ]
     },
     "metadata": {},
     "output_type": "display_data"
    }
   ],
   "source": [
    "# count the frequency of each unique category in the 'payment_type' column\n",
    "payment_method_count = Amazon_df.payment_method.value_counts()\n",
    "\n",
    "# # Create bar plot\n",
    "plt.figure(figsize=(8, 6))\n",
    "payment_method_count.plot(kind='bar', color='skyblue')\n",
    "plt.title('Frequency of Method')\n",
    "plt.xlabel('Payment Method')\n",
    "plt.ylabel('Frequency')\n",
    "plt.xticks(rotation=45)  # rotate x-axis labels for better readability\n",
    "plt.show()"
   ]
  },
  {
   "cell_type": "code",
   "execution_count": 274,
   "metadata": {
    "colab": {
     "base_uri": "https://localhost:8080/"
    },
    "executionInfo": {
     "elapsed": 357,
     "status": "ok",
     "timestamp": 1731028109351,
     "user": {
      "displayName": "Nyein Chan Aung",
      "userId": "10271779707834005263"
     },
     "user_tz": -420
    },
    "id": "4vD_aMdolr4C",
    "outputId": "0de4f8a7-3c07-4b51-96c3-106f9fc1762a"
   },
   "outputs": [
    {
     "name": "stdout",
     "output_type": "stream",
     "text": [
      "Unique State 51\n",
      "Unique City 15892\n",
      "Unique Region 4\n"
     ]
    }
   ],
   "source": [
    "# customer location\n",
    "print(\"Unique State\", len(Amazon_df.state.unique()))\n",
    "print(\"Unique City\", len(Amazon_df.city.unique()))\n",
    "print(\"Unique Region\", len(Amazon_df.region.unique()))\n"
   ]
  },
  {
   "cell_type": "code",
   "execution_count": 275,
   "metadata": {
    "colab": {
     "base_uri": "https://localhost:8080/",
     "height": 573
    },
    "executionInfo": {
     "elapsed": 1162,
     "status": "ok",
     "timestamp": 1731028110511,
     "user": {
      "displayName": "Nyein Chan Aung",
      "userId": "10271779707834005263"
     },
     "user_tz": -420
    },
    "id": "SGSD34ZWlr4C",
    "outputId": "8d0f65d6-658e-41b8-bb74-d3a46aa7b229"
   },
   "outputs": [
    {
     "data": {
      "image/png": "[encoded data removed]",
      "text/plain": [
       "<Figure size 800x600 with 1 Axes>"
      ]
     },
     "metadata": {},
     "output_type": "display_data"
    }
   ],
   "source": [
    "# count the frequency of each unique category in the 'customer_state' column\n",
    "states_count = Amazon_df.state.value_counts()\n",
    "\n",
    "# Create bar plot\n",
    "plt.figure(figsize=(8, 6))\n",
    "states_count.plot(kind='bar', color='skyblue')\n",
    "plt.title('Frequency of Customer States')\n",
    "plt.xlabel('Customer States')\n",
    "plt.ylabel('Frequency')\n",
    "plt.show()"
   ]
  },
  {
   "cell_type": "code",
   "execution_count": 276,
   "metadata": {
    "colab": {
     "base_uri": "https://localhost:8080/",
     "height": 564
    },
    "executionInfo": {
     "elapsed": 2295,
     "status": "ok",
     "timestamp": 1731028112804,
     "user": {
      "displayName": "Nyein Chan Aung",
      "userId": "10271779707834005263"
     },
     "user_tz": -420
    },
    "id": "GO-Zj_xMlr4C",
    "outputId": "5b88ba23-30e8-4110-c9bd-7c44ace0270e"
   },
   "outputs": [
    {
     "data": {
      "image/png": "[encoded data removed]",
      "text/plain": [
       "<Figure size 1000x600 with 1 Axes>"
      ]
     },
     "metadata": {},
     "output_type": "display_data"
    }
   ],
   "source": [
    "# scatter chart for city and total amount\n",
    "plt.figure(figsize=(10, 6))\n",
    "plt.scatter(Amazon_df.total, Amazon_df.discount_percent, alpha=0.5)\n",
    "plt.title('Total Amount and Discount Percent')\n",
    "plt.xlabel('Total Amount (usd$)')\n",
    "plt.ylabel('Discount Percent (%)')\n",
    "plt.grid(True)\n",
    "plt.show()"
   ]
  },
  {
   "cell_type": "code",
   "execution_count": 277,
   "metadata": {
    "colab": {
     "base_uri": "https://localhost:8080/"
    },
    "executionInfo": {
     "elapsed": 3,
     "status": "ok",
     "timestamp": 1731028112805,
     "user": {
      "displayName": "Nyein Chan Aung",
      "userId": "10271779707834005263"
     },
     "user_tz": -420
    },
    "id": "ir2Nl2MLlr4C",
    "outputId": "35ae9196-e3d6-4be2-b571-e62f24f0b69f"
   },
   "outputs": [
    {
     "data": {
      "text/plain": [
       "47932"
      ]
     },
     "execution_count": 277,
     "metadata": {},
     "output_type": "execute_result"
    }
   ],
   "source": [
    "len(Amazon_df.sku.unique())"
   ]
  },
  {
   "cell_type": "code",
   "execution_count": 278,
   "metadata": {
    "colab": {
     "base_uri": "https://localhost:8080/"
    },
    "executionInfo": {
     "elapsed": 3,
     "status": "ok",
     "timestamp": 1731028112805,
     "user": {
      "displayName": "Nyein Chan Aung",
      "userId": "10271779707834005263"
     },
     "user_tz": -420
    },
    "id": "SMGu-qTGlr4C",
    "outputId": "71a5cae6-9881-417a-afe9-97a4213d420e"
   },
   "outputs": [
    {
     "data": {
      "text/plain": [
       "286392"
      ]
     },
     "execution_count": 278,
     "metadata": {},
     "output_type": "execute_result"
    }
   ],
   "source": [
    "len(Amazon_df.item_id.unique())"
   ]
  },
  {
   "cell_type": "code",
   "execution_count": 279,
   "metadata": {
    "colab": {
     "base_uri": "https://localhost:8080/"
    },
    "executionInfo": {
     "elapsed": 559,
     "status": "ok",
     "timestamp": 1731028113362,
     "user": {
      "displayName": "Nyein Chan Aung",
      "userId": "10271779707834005263"
     },
     "user_tz": -420
    },
    "id": "sp2RKSqxlr4D",
    "outputId": "4fa1063d-5cad-4660-d8b1-3932a48bb1d2"
   },
   "outputs": [
    {
     "name": "stdout",
     "output_type": "stream",
     "text": [
      "         order_id order_date          status  item_id                    sku  \\\n",
      "31      100359410 2020-10-24        complete   583004    APPANE59BD020E370CC   \n",
      "32      100359558 2020-10-25        complete   583239    APPLIO59BA25191179A   \n",
      "48      100354685 2020-10-01        canceled   574788  cc_samsung_a320-black   \n",
      "52      100354687 2020-10-01  order_refunded   574790            FHM_ECLIPSE   \n",
      "90      100441393 2021-02-01        canceled   723634    APPORI5A433F2870FC6   \n",
      "...           ...        ...             ...      ...                    ...   \n",
      "286358  100562306 2021-09-29        canceled   905095    MATSAM5B1E11184A809   \n",
      "286370  100562318 2021-09-30        canceled   905118    HASBUT5AD49E3203D7C   \n",
      "286384  100562362 2021-09-30        canceled   905174    MATSAM5B6D7208C6D30   \n",
      "286387  100562365 2021-09-30            paid   905179    APPCHA5AF14939B8F8A   \n",
      "286391  100562386 2021-09-30      processing   905205    MATHUA5AF70A7D1E50A   \n",
      "\n",
      "        qty_ordered    price    value  discount_amount    total  ...  \\\n",
      "31               11    199.0   1990.0              0.0   1990.0  ...   \n",
      "32               11    199.9   1999.0              0.0   1999.0  ...   \n",
      "48                2   3139.2   3139.2              0.0   3139.2  ...   \n",
      "52                2   2900.0   2900.0              0.0   2900.0  ...   \n",
      "90                2   2625.0   2625.0              0.0   2625.0  ...   \n",
      "...             ...      ...      ...              ...      ...  ...   \n",
      "286358            2   2669.9   2669.9              0.0   2669.9  ...   \n",
      "286370            2   2295.0   2295.0              0.0   2295.0  ...   \n",
      "286384            2  12999.9  12999.9              0.0  12999.9  ...   \n",
      "286387            2   4419.9   4419.9              0.0   4419.9  ...   \n",
      "286391            2   3559.9   3559.9              0.0   3559.9  ...   \n",
      "\n",
      "       sign_in_date      phone_no   place_name      country         city  \\\n",
      "31        6/27/2010  701-522-6439  Grand Forks  Grand Forks  Grand Forks   \n",
      "32        6/27/2010  701-522-6439  Grand Forks  Grand Forks  Grand Forks   \n",
      "48       10/19/2016  229-364-7348   Farmington       Oconee   Farmington   \n",
      "52       05/11/1995  401-535-8490      Warwick         Kent      Warwick   \n",
      "90        3/31/2017  217-405-0048   Brownstown      Fayette   Brownstown   \n",
      "...             ...           ...          ...          ...          ...   \n",
      "286358    3/29/2016  304-257-7300     Crichton   Greenbrier     Crichton   \n",
      "286370   09/03/2015  210-282-1243       Valera      Coleman       Valera   \n",
      "286384   12/16/2003  212-413-5652        Bronx        Bronx        Bronx   \n",
      "286387    3/21/2007  212-772-7404    Rushville        Yates    Rushville   \n",
      "286391    1/28/2015  423-276-2699    Knoxville         Knox    Knoxville   \n",
      "\n",
      "       state    zip     region    user_name discount_percent  \n",
      "31        ND  58201    Midwest   jgsimoneau              0.0  \n",
      "32        ND  58201    Midwest   jgsimoneau              0.0  \n",
      "48        GA  30638      South      dtgalle              0.0  \n",
      "52        RI   2889  Northeast     bkdewald              0.0  \n",
      "90        IL  62418    Midwest    eeraminez              0.0  \n",
      "...      ...    ...        ...          ...              ...  \n",
      "286358    WV  25961      South     sestroup              0.0  \n",
      "286370    TX  76884      South     ctsoules              0.0  \n",
      "286384    NY  10465  Northeast       dpwell              0.0  \n",
      "286387    NY  14544  Northeast     bklatham              0.0  \n",
      "286391    TN  37920      South  reschlosser              0.0  \n",
      "\n",
      "[31011 rows x 35 columns]\n"
     ]
    }
   ],
   "source": [
    "# Check for outliers\n",
    "Q1 = Amazon_df['total'].quantile(0.25)\n",
    "Q3 = Amazon_df['total'].quantile(0.75)\n",
    "IQR = Q3 - Q1\n",
    "outliers = Amazon_df[(Amazon_df['total'] < (Q1 - 1.5 *IQR)) | (Amazon_df['total'] > (Q3 + 1.5 * IQR))]\n",
    "\n",
    "print(outliers)"
   ]
  },
  {
   "cell_type": "code",
   "execution_count": 280,
   "metadata": {
    "colab": {
     "base_uri": "https://localhost:8080/",
     "height": 526
    },
    "executionInfo": {
     "elapsed": 2606,
     "status": "ok",
     "timestamp": 1731028115967,
     "user": {
      "displayName": "Nyein Chan Aung",
      "userId": "10271779707834005263"
     },
     "user_tz": -420
    },
    "id": "e6R7Hraqlr4D",
    "outputId": "a4dd31ef-38e1-4271-9ec7-f1825f757818"
   },
   "outputs": [
    {
     "data": {
      "image/png": "[encoded data removed]",
      "text/plain": [
       "<Figure size 1000x600 with 1 Axes>"
      ]
     },
     "metadata": {},
     "output_type": "display_data"
    }
   ],
   "source": [
    "# Box plot to visualize outliers with vertical orientation\n",
    "plt.figure(figsize=(10, 6))\n",
    "sns.boxplot(y=Amazon_df['total'])\n",
    "plt.title('Box Plot of Total Column')\n",
    "plt.ylabel('Total')\n",
    "plt.show()"
   ]
  },
  {
   "cell_type": "code",
   "execution_count": 281,
   "metadata": {
    "executionInfo": {
     "elapsed": 7543,
     "status": "ok",
     "timestamp": 1731028537872,
     "user": {
      "displayName": "Nyein Chan Aung",
      "userId": "10271779707834005263"
     },
     "user_tz": -420
    },
    "id": "dJPnzy67Vns1"
   },
   "outputs": [],
   "source": [
    "Amazon_df.to_csv(\"data/_cleaned_df.csv\")"
   ]
  },
  {
   "cell_type": "markdown",
   "metadata": {
    "id": "ZJ0C5LNzlr4D"
   },
   "source": [
    "## Customer Segmentation (Baseline Model)"
   ]
  },
  {
   "cell_type": "markdown",
   "metadata": {
    "id": "depC1XUPlr4D"
   },
   "source": [
    "### Calculate Recency Score"
   ]
  },
  {
   "cell_type": "code",
   "execution_count": 282,
   "metadata": {
    "colab": {
     "base_uri": "https://localhost:8080/",
     "height": 0
    },
    "executionInfo": {
     "elapsed": 747,
     "status": "ok",
     "timestamp": 1731028116712,
     "user": {
      "displayName": "Nyein Chan Aung",
      "userId": "10271779707834005263"
     },
     "user_tz": -420
    },
    "id": "aXUNjyaFlr4F",
    "outputId": "f46b7638-eb5f-4490-9196-e67270a5ae8f"
   },
   "outputs": [
    {
     "data": {
      "text/html": [
       "<div>\n",
       "<style scoped>\n",
       "    .dataframe tbody tr th:only-of-type {\n",
       "        vertical-align: middle;\n",
       "    }\n",
       "\n",
       "    .dataframe tbody tr th {\n",
       "        vertical-align: top;\n",
       "    }\n",
       "\n",
       "    .dataframe thead th {\n",
       "        text-align: right;\n",
       "    }\n",
       "</style>\n",
       "<table border=\"1\" class=\"dataframe\">\n",
       "  <thead>\n",
       "    <tr style=\"text-align: right;\">\n",
       "      <th></th>\n",
       "      <th>cust_id</th>\n",
       "      <th>full_name</th>\n",
       "      <th>order_date</th>\n",
       "      <th>days_since_last_order</th>\n",
       "    </tr>\n",
       "  </thead>\n",
       "  <tbody>\n",
       "    <tr>\n",
       "      <th>0</th>\n",
       "      <td>4</td>\n",
       "      <td>Doughty, Reggie</td>\n",
       "      <td>2021-09-29</td>\n",
       "      <td>1</td>\n",
       "    </tr>\n",
       "    <tr>\n",
       "      <th>1</th>\n",
       "      <td>15</td>\n",
       "      <td>Diebold, Debbie</td>\n",
       "      <td>2021-02-11</td>\n",
       "      <td>231</td>\n",
       "    </tr>\n",
       "    <tr>\n",
       "      <th>2</th>\n",
       "      <td>16</td>\n",
       "      <td>Sturtevant, Michal</td>\n",
       "      <td>2020-11-12</td>\n",
       "      <td>322</td>\n",
       "    </tr>\n",
       "    <tr>\n",
       "      <th>3</th>\n",
       "      <td>20</td>\n",
       "      <td>Pulver, Eddy</td>\n",
       "      <td>2021-09-29</td>\n",
       "      <td>1</td>\n",
       "    </tr>\n",
       "    <tr>\n",
       "      <th>4</th>\n",
       "      <td>21</td>\n",
       "      <td>Kan, Adam</td>\n",
       "      <td>2021-02-03</td>\n",
       "      <td>239</td>\n",
       "    </tr>\n",
       "    <tr>\n",
       "      <th>...</th>\n",
       "      <td>...</td>\n",
       "      <td>...</td>\n",
       "      <td>...</td>\n",
       "      <td>...</td>\n",
       "    </tr>\n",
       "    <tr>\n",
       "      <th>64243</th>\n",
       "      <td>115322</td>\n",
       "      <td>Nowak, Shaina</td>\n",
       "      <td>2021-09-30</td>\n",
       "      <td>0</td>\n",
       "    </tr>\n",
       "    <tr>\n",
       "      <th>64244</th>\n",
       "      <td>115323</td>\n",
       "      <td>Latham, Brady</td>\n",
       "      <td>2021-09-30</td>\n",
       "      <td>0</td>\n",
       "    </tr>\n",
       "    <tr>\n",
       "      <th>64245</th>\n",
       "      <td>115324</td>\n",
       "      <td>Brunetti, Bennie</td>\n",
       "      <td>2021-09-30</td>\n",
       "      <td>0</td>\n",
       "    </tr>\n",
       "    <tr>\n",
       "      <th>64246</th>\n",
       "      <td>115325</td>\n",
       "      <td>Giusti, Francesca</td>\n",
       "      <td>2021-09-30</td>\n",
       "      <td>0</td>\n",
       "    </tr>\n",
       "    <tr>\n",
       "      <th>64247</th>\n",
       "      <td>115326</td>\n",
       "      <td>Schlosser, Rolf</td>\n",
       "      <td>2021-09-30</td>\n",
       "      <td>0</td>\n",
       "    </tr>\n",
       "  </tbody>\n",
       "</table>\n",
       "<p>64248 rows × 4 columns</p>\n",
       "</div>"
      ],
      "text/plain": [
       "       cust_id           full_name order_date  days_since_last_order\n",
       "0            4     Doughty, Reggie 2021-09-29                      1\n",
       "1           15     Diebold, Debbie 2021-02-11                    231\n",
       "2           16  Sturtevant, Michal 2020-11-12                    322\n",
       "3           20        Pulver, Eddy 2021-09-29                      1\n",
       "4           21           Kan, Adam 2021-02-03                    239\n",
       "...        ...                 ...        ...                    ...\n",
       "64243   115322       Nowak, Shaina 2021-09-30                      0\n",
       "64244   115323       Latham, Brady 2021-09-30                      0\n",
       "64245   115324    Brunetti, Bennie 2021-09-30                      0\n",
       "64246   115325   Giusti, Francesca 2021-09-30                      0\n",
       "64247   115326     Schlosser, Rolf 2021-09-30                      0\n",
       "\n",
       "[64248 rows x 4 columns]"
      ]
     },
     "execution_count": 282,
     "metadata": {},
     "output_type": "execute_result"
    }
   ],
   "source": [
    "# Get the most current order by customer\n",
    "last_cus_order = Amazon_df.groupby(['cust_id', 'full_name']) ['order_date'].max().reset_index()\n",
    "recency_table = last_cus_order.copy()\n",
    "\n",
    "current_date = Amazon_df['order_date'].max()\n",
    "recency_table['days_since_last_order'] = (current_date - recency_table['order_date']).dt.days\n",
    "recency_table"
   ]
  },
  {
   "cell_type": "code",
   "execution_count": 283,
   "metadata": {
    "colab": {
     "base_uri": "https://localhost:8080/"
    },
    "executionInfo": {
     "elapsed": 5,
     "status": "ok",
     "timestamp": 1731028116713,
     "user": {
      "displayName": "Nyein Chan Aung",
      "userId": "10271779707834005263"
     },
     "user_tz": -420
    },
    "id": "WPGleuL5lr4F",
    "outputId": "49275597-5876-40b3-f809-09533da8e082"
   },
   "outputs": [
    {
     "name": "stdout",
     "output_type": "stream",
     "text": [
      "   cust_id           full_name order_date  recency_score\n",
      "0        4     Doughty, Reggie 2021-09-29              1\n",
      "1       15     Diebold, Debbie 2021-02-11              3\n",
      "2       16  Sturtevant, Michal 2020-11-12              5\n",
      "3       20        Pulver, Eddy 2021-09-29              1\n",
      "4       21           Kan, Adam 2021-02-03              4\n"
     ]
    }
   ],
   "source": [
    "# Define function that scores the data\n",
    "def scoring(x):\n",
    "    #Calculate quantiles\n",
    "    quan_val_list = []\n",
    "    for quan in [0.2, 0.4, 0.6, 0.8]:\n",
    "        quan_val_list.append(np.quantile(x, quan))\n",
    "    # Label the data based on the quantile data\n",
    "    def labeling(x):\n",
    "        if x < quan_val_list[0]: return 1\n",
    "        elif x < quan_val_list[1]: return 2\n",
    "        elif x < quan_val_list[2]: return 3\n",
    "        elif x < quan_val_list[3]: return 4\n",
    "        else: return 5\n",
    "\n",
    "    return x.apply(labeling)\n",
    "\n",
    "recency_table['recency_score'] = scoring(recency_table['days_since_last_order'])\n",
    "\n",
    "print(recency_table[['cust_id', 'full_name', 'order_date','recency_score']].head())"
   ]
  },
  {
   "cell_type": "code",
   "execution_count": 284,
   "metadata": {
    "colab": {
     "base_uri": "https://localhost:8080/",
     "height": 0
    },
    "executionInfo": {
     "elapsed": 4,
     "status": "ok",
     "timestamp": 1731028116713,
     "user": {
      "displayName": "Nyein Chan Aung",
      "userId": "10271779707834005263"
     },
     "user_tz": -420
    },
    "id": "sr6nHssclr4F",
    "outputId": "41da439e-6b4f-45f1-c1c1-4ad39e296365"
   },
   "outputs": [
    {
     "data": {
      "text/plain": [
       "recency_score\n",
       "5    13777\n",
       "2    12950\n",
       "3    12909\n",
       "1    12668\n",
       "4    11944\n",
       "Name: count, dtype: int64"
      ]
     },
     "execution_count": 284,
     "metadata": {},
     "output_type": "execute_result"
    }
   ],
   "source": [
    "# Calculate value counts of recency_score and sort by counts (descending)\n",
    "score_counts = recency_table['recency_score'].value_counts().sort_values(ascending=False)\n",
    "\n",
    "score_counts"
   ]
  },
  {
   "cell_type": "code",
   "execution_count": 285,
   "metadata": {
    "colab": {
     "base_uri": "https://localhost:8080/",
     "height": 0
    },
    "executionInfo": {
     "elapsed": 996,
     "status": "ok",
     "timestamp": 1731028117706,
     "user": {
      "displayName": "Nyein Chan Aung",
      "userId": "10271779707834005263"
     },
     "user_tz": -420
    },
    "id": "VLXhoQqalr4F",
    "outputId": "5c8bc174-0297-43e3-ec55-981b772eec73"
   },
   "outputs": [
    {
     "data": {
      "image/png": "[encoded data removed]",
      "text/plain": [
       "<Figure size 800x600 with 1 Axes>"
      ]
     },
     "metadata": {},
     "output_type": "display_data"
    }
   ],
   "source": [
    "#Plotting the bar graph\n",
    "plt.figure(figsize=(8, 6))\n",
    "score_counts.plot(kind='bar')\n",
    "\n",
    "# Customizing the plot\n",
    "plt.title('Distribution of Recency Scores')\n",
    "plt.xlabel('Recency Score')\n",
    "plt.ylabel('Frequency')\n",
    "plt.xticks(rotation=0)  # Rotate x-axis labels if needed\n",
    "\n",
    "# Display the plot\n",
    "plt.tight_layout()\n",
    "plt.show()"
   ]
  },
  {
   "cell_type": "markdown",
   "metadata": {
    "id": "ryb-0XRSlr4F"
   },
   "source": [
    "### Calculate Frequency Score"
   ]
  },
  {
   "cell_type": "code",
   "execution_count": 286,
   "metadata": {
    "colab": {
     "base_uri": "https://localhost:8080/",
     "height": 0
    },
    "executionInfo": {
     "elapsed": 2255,
     "status": "ok",
     "timestamp": 1731028119959,
     "user": {
      "displayName": "Nyein Chan Aung",
      "userId": "10271779707834005263"
     },
     "user_tz": -420
    },
    "id": "thE0lH_8lr4F",
    "outputId": "fb56f4aa-1871-438c-cbb6-79e12711fd1e"
   },
   "outputs": [
    {
     "data": {
      "text/html": [
       "<div>\n",
       "<style scoped>\n",
       "    .dataframe tbody tr th:only-of-type {\n",
       "        vertical-align: middle;\n",
       "    }\n",
       "\n",
       "    .dataframe tbody tr th {\n",
       "        vertical-align: top;\n",
       "    }\n",
       "\n",
       "    .dataframe thead th {\n",
       "        text-align: right;\n",
       "    }\n",
       "</style>\n",
       "<table border=\"1\" class=\"dataframe\">\n",
       "  <thead>\n",
       "    <tr style=\"text-align: right;\">\n",
       "      <th></th>\n",
       "      <th>cust_id</th>\n",
       "      <th>full_name</th>\n",
       "      <th>start</th>\n",
       "      <th>end</th>\n",
       "      <th>count</th>\n",
       "      <th>duration</th>\n",
       "      <th>purchase_rate</th>\n",
       "      <th>frequency_score</th>\n",
       "    </tr>\n",
       "  </thead>\n",
       "  <tbody>\n",
       "    <tr>\n",
       "      <th>0</th>\n",
       "      <td>4</td>\n",
       "      <td>Doughty, Reggie</td>\n",
       "      <td>2020-11-13</td>\n",
       "      <td>2021-09-29</td>\n",
       "      <td>41</td>\n",
       "      <td>320</td>\n",
       "      <td>0.128125</td>\n",
       "      <td>2</td>\n",
       "    </tr>\n",
       "    <tr>\n",
       "      <th>1</th>\n",
       "      <td>15</td>\n",
       "      <td>Diebold, Debbie</td>\n",
       "      <td>2020-10-08</td>\n",
       "      <td>2021-02-11</td>\n",
       "      <td>6</td>\n",
       "      <td>126</td>\n",
       "      <td>0.047619</td>\n",
       "      <td>1</td>\n",
       "    </tr>\n",
       "    <tr>\n",
       "      <th>2</th>\n",
       "      <td>16</td>\n",
       "      <td>Sturtevant, Michal</td>\n",
       "      <td>2020-10-01</td>\n",
       "      <td>2020-11-12</td>\n",
       "      <td>20</td>\n",
       "      <td>42</td>\n",
       "      <td>0.476190</td>\n",
       "      <td>4</td>\n",
       "    </tr>\n",
       "    <tr>\n",
       "      <th>3</th>\n",
       "      <td>20</td>\n",
       "      <td>Pulver, Eddy</td>\n",
       "      <td>2021-03-20</td>\n",
       "      <td>2021-09-29</td>\n",
       "      <td>11</td>\n",
       "      <td>193</td>\n",
       "      <td>0.056995</td>\n",
       "      <td>1</td>\n",
       "    </tr>\n",
       "    <tr>\n",
       "      <th>5</th>\n",
       "      <td>23</td>\n",
       "      <td>Bostwick, Roscoe</td>\n",
       "      <td>2020-11-15</td>\n",
       "      <td>2021-08-07</td>\n",
       "      <td>6</td>\n",
       "      <td>265</td>\n",
       "      <td>0.022642</td>\n",
       "      <td>1</td>\n",
       "    </tr>\n",
       "    <tr>\n",
       "      <th>...</th>\n",
       "      <td>...</td>\n",
       "      <td>...</td>\n",
       "      <td>...</td>\n",
       "      <td>...</td>\n",
       "      <td>...</td>\n",
       "      <td>...</td>\n",
       "      <td>...</td>\n",
       "      <td>...</td>\n",
       "    </tr>\n",
       "    <tr>\n",
       "      <th>64070</th>\n",
       "      <td>115149</td>\n",
       "      <td>Poe, Mae</td>\n",
       "      <td>2021-09-26</td>\n",
       "      <td>2021-09-27</td>\n",
       "      <td>8</td>\n",
       "      <td>1</td>\n",
       "      <td>8.000000</td>\n",
       "      <td>5</td>\n",
       "    </tr>\n",
       "    <tr>\n",
       "      <th>64091</th>\n",
       "      <td>115170</td>\n",
       "      <td>Tremaine, Rene</td>\n",
       "      <td>2021-09-27</td>\n",
       "      <td>2021-09-28</td>\n",
       "      <td>2</td>\n",
       "      <td>1</td>\n",
       "      <td>2.000000</td>\n",
       "      <td>5</td>\n",
       "    </tr>\n",
       "    <tr>\n",
       "      <th>64116</th>\n",
       "      <td>115195</td>\n",
       "      <td>Daddario, Christi</td>\n",
       "      <td>2021-09-27</td>\n",
       "      <td>2021-09-28</td>\n",
       "      <td>11</td>\n",
       "      <td>1</td>\n",
       "      <td>11.000000</td>\n",
       "      <td>5</td>\n",
       "    </tr>\n",
       "    <tr>\n",
       "      <th>64144</th>\n",
       "      <td>115223</td>\n",
       "      <td>Bullion, Edgardo</td>\n",
       "      <td>2021-09-28</td>\n",
       "      <td>2021-09-29</td>\n",
       "      <td>3</td>\n",
       "      <td>1</td>\n",
       "      <td>3.000000</td>\n",
       "      <td>5</td>\n",
       "    </tr>\n",
       "    <tr>\n",
       "      <th>64230</th>\n",
       "      <td>115309</td>\n",
       "      <td>Cascio, Kendall</td>\n",
       "      <td>2021-09-29</td>\n",
       "      <td>2021-09-30</td>\n",
       "      <td>3</td>\n",
       "      <td>1</td>\n",
       "      <td>3.000000</td>\n",
       "      <td>5</td>\n",
       "    </tr>\n",
       "  </tbody>\n",
       "</table>\n",
       "<p>18820 rows × 8 columns</p>\n",
       "</div>"
      ],
      "text/plain": [
       "       cust_id           full_name      start        end  count  duration  \\\n",
       "0            4     Doughty, Reggie 2020-11-13 2021-09-29     41       320   \n",
       "1           15     Diebold, Debbie 2020-10-08 2021-02-11      6       126   \n",
       "2           16  Sturtevant, Michal 2020-10-01 2020-11-12     20        42   \n",
       "3           20        Pulver, Eddy 2021-03-20 2021-09-29     11       193   \n",
       "5           23    Bostwick, Roscoe 2020-11-15 2021-08-07      6       265   \n",
       "...        ...                 ...        ...        ...    ...       ...   \n",
       "64070   115149            Poe, Mae 2021-09-26 2021-09-27      8         1   \n",
       "64091   115170      Tremaine, Rene 2021-09-27 2021-09-28      2         1   \n",
       "64116   115195   Daddario, Christi 2021-09-27 2021-09-28     11         1   \n",
       "64144   115223    Bullion, Edgardo 2021-09-28 2021-09-29      3         1   \n",
       "64230   115309     Cascio, Kendall 2021-09-29 2021-09-30      3         1   \n",
       "\n",
       "       purchase_rate  frequency_score  \n",
       "0           0.128125                2  \n",
       "1           0.047619                1  \n",
       "2           0.476190                4  \n",
       "3           0.056995                1  \n",
       "5           0.022642                1  \n",
       "...              ...              ...  \n",
       "64070       8.000000                5  \n",
       "64091       2.000000                5  \n",
       "64116      11.000000                5  \n",
       "64144       3.000000                5  \n",
       "64230       3.000000                5  \n",
       "\n",
       "[18820 rows x 8 columns]"
      ]
     },
     "execution_count": 286,
     "metadata": {},
     "output_type": "execute_result"
    }
   ],
   "source": [
    "# Create a frequerncy_tabel\n",
    "frequency_table = Amazon_df.groupby(['cust_id', 'full_name']).agg({'order_date':['min', 'max'], 'order_id': 'count'}).reset_index()\n",
    "\n",
    "# Change column names order_date min to start, order_date max to end and order_id count to count\n",
    "frequency_table.columns=['cust_id', 'full_name', 'start', 'end', 'count']\n",
    "\n",
    "# Add duration end - start\n",
    "frequency_table['duration'] = (frequency_table['end'] - frequency_table['start']).apply(lambda x: int(str(x).split()[0]))\n",
    "\n",
    "# Add calculation for puchase rate count / duration\n",
    "frequency_table['purchase_rate'] = frequency_table['count']/frequency_table['duration']\n",
    "\n",
    "# Filter out duration 0\n",
    "frequency_table = frequency_table [frequency_table['duration'] > 0]\n",
    "\n",
    "# Apply scoring to purchase_rate and add column frequency_score\n",
    "frequency_table['frequency_score'] = scoring(frequency_table['purchase_rate'])\n",
    "\n",
    "frequency_table\n"
   ]
  },
  {
   "cell_type": "markdown",
   "metadata": {
    "id": "XZ2QCt6Plr4F"
   },
   "source": [
    "### Calculate Monetary Table"
   ]
  },
  {
   "cell_type": "code",
   "execution_count": 287,
   "metadata": {
    "colab": {
     "base_uri": "https://localhost:8080/",
     "height": 0
    },
    "executionInfo": {
     "elapsed": 417,
     "status": "ok",
     "timestamp": 1731028120374,
     "user": {
      "displayName": "Nyein Chan Aung",
      "userId": "10271779707834005263"
     },
     "user_tz": -420
    },
    "id": "21BWe6y7lr4F",
    "outputId": "13953104-5aff-44c0-f2ff-b8aa72fdbfbe"
   },
   "outputs": [
    {
     "data": {
      "text/html": [
       "<div>\n",
       "<style scoped>\n",
       "    .dataframe tbody tr th:only-of-type {\n",
       "        vertical-align: middle;\n",
       "    }\n",
       "\n",
       "    .dataframe tbody tr th {\n",
       "        vertical-align: top;\n",
       "    }\n",
       "\n",
       "    .dataframe thead th {\n",
       "        text-align: right;\n",
       "    }\n",
       "</style>\n",
       "<table border=\"1\" class=\"dataframe\">\n",
       "  <thead>\n",
       "    <tr style=\"text-align: right;\">\n",
       "      <th></th>\n",
       "      <th>cust_id</th>\n",
       "      <th>full_name</th>\n",
       "      <th>total</th>\n",
       "      <th>monetary_score</th>\n",
       "    </tr>\n",
       "  </thead>\n",
       "  <tbody>\n",
       "    <tr>\n",
       "      <th>0</th>\n",
       "      <td>4</td>\n",
       "      <td>Doughty, Reggie</td>\n",
       "      <td>27394.190</td>\n",
       "      <td>5</td>\n",
       "    </tr>\n",
       "    <tr>\n",
       "      <th>1</th>\n",
       "      <td>15</td>\n",
       "      <td>Diebold, Debbie</td>\n",
       "      <td>216.800</td>\n",
       "      <td>2</td>\n",
       "    </tr>\n",
       "    <tr>\n",
       "      <th>2</th>\n",
       "      <td>16</td>\n",
       "      <td>Sturtevant, Michal</td>\n",
       "      <td>11868.899</td>\n",
       "      <td>5</td>\n",
       "    </tr>\n",
       "    <tr>\n",
       "      <th>3</th>\n",
       "      <td>20</td>\n",
       "      <td>Pulver, Eddy</td>\n",
       "      <td>28719.018</td>\n",
       "      <td>5</td>\n",
       "    </tr>\n",
       "    <tr>\n",
       "      <th>4</th>\n",
       "      <td>21</td>\n",
       "      <td>Kan, Adam</td>\n",
       "      <td>105.000</td>\n",
       "      <td>2</td>\n",
       "    </tr>\n",
       "    <tr>\n",
       "      <th>...</th>\n",
       "      <td>...</td>\n",
       "      <td>...</td>\n",
       "      <td>...</td>\n",
       "      <td>...</td>\n",
       "    </tr>\n",
       "    <tr>\n",
       "      <th>64243</th>\n",
       "      <td>115322</td>\n",
       "      <td>Nowak, Shaina</td>\n",
       "      <td>209.600</td>\n",
       "      <td>2</td>\n",
       "    </tr>\n",
       "    <tr>\n",
       "      <th>64244</th>\n",
       "      <td>115323</td>\n",
       "      <td>Latham, Brady</td>\n",
       "      <td>4419.900</td>\n",
       "      <td>5</td>\n",
       "    </tr>\n",
       "    <tr>\n",
       "      <th>64245</th>\n",
       "      <td>115324</td>\n",
       "      <td>Brunetti, Bennie</td>\n",
       "      <td>39.900</td>\n",
       "      <td>1</td>\n",
       "    </tr>\n",
       "    <tr>\n",
       "      <th>64246</th>\n",
       "      <td>115325</td>\n",
       "      <td>Giusti, Francesca</td>\n",
       "      <td>89.900</td>\n",
       "      <td>1</td>\n",
       "    </tr>\n",
       "    <tr>\n",
       "      <th>64247</th>\n",
       "      <td>115326</td>\n",
       "      <td>Schlosser, Rolf</td>\n",
       "      <td>3559.900</td>\n",
       "      <td>5</td>\n",
       "    </tr>\n",
       "  </tbody>\n",
       "</table>\n",
       "<p>64248 rows × 4 columns</p>\n",
       "</div>"
      ],
      "text/plain": [
       "       cust_id           full_name      total  monetary_score\n",
       "0            4     Doughty, Reggie  27394.190               5\n",
       "1           15     Diebold, Debbie    216.800               2\n",
       "2           16  Sturtevant, Michal  11868.899               5\n",
       "3           20        Pulver, Eddy  28719.018               5\n",
       "4           21           Kan, Adam    105.000               2\n",
       "...        ...                 ...        ...             ...\n",
       "64243   115322       Nowak, Shaina    209.600               2\n",
       "64244   115323       Latham, Brady   4419.900               5\n",
       "64245   115324    Brunetti, Bennie     39.900               1\n",
       "64246   115325   Giusti, Francesca     89.900               1\n",
       "64247   115326     Schlosser, Rolf   3559.900               5\n",
       "\n",
       "[64248 rows x 4 columns]"
      ]
     },
     "execution_count": 287,
     "metadata": {},
     "output_type": "execute_result"
    }
   ],
   "source": [
    "# Create a monetary_table\n",
    "monetary_table = Amazon_df.groupby(['cust_id', 'full_name']).agg({'total':'sum'}).reset_index()\n",
    "\n",
    "# Create column 'monetary_score' by applying scoring to total\n",
    "monetary_table['monetary_score'] = scoring(monetary_table['total'])\n",
    "\n",
    "monetary_table"
   ]
  },
  {
   "cell_type": "code",
   "execution_count": 288,
   "metadata": {
    "colab": {
     "base_uri": "https://localhost:8080/"
    },
    "executionInfo": {
     "elapsed": 6,
     "status": "ok",
     "timestamp": 1731028120375,
     "user": {
      "displayName": "Nyein Chan Aung",
      "userId": "10271779707834005263"
     },
     "user_tz": -420
    },
    "id": "4kHPh1hdlr4G",
    "outputId": "93607f13-9729-4e94-8a66-33f631efaa88"
   },
   "outputs": [
    {
     "name": "stdout",
     "output_type": "stream",
     "text": [
      "0\n",
      "0\n",
      "0\n"
     ]
    }
   ],
   "source": [
    "# Check for duplicates in recency_table\n",
    "print(recency_table['cust_id'].duplicated().sum())\n",
    "\n",
    "# Check for duplicates in frequency_table\n",
    "print(frequency_table['cust_id'].duplicated().sum())\n",
    "\n",
    "# Check for dulpicates in monetary_table\n",
    "print(monetary_table['cust_id'].duplicated().sum())\n"
   ]
  },
  {
   "cell_type": "code",
   "execution_count": 289,
   "metadata": {
    "executionInfo": {
     "elapsed": 5,
     "status": "ok",
     "timestamp": 1731028120375,
     "user": {
      "displayName": "Nyein Chan Aung",
      "userId": "10271779707834005263"
     },
     "user_tz": -420
    },
    "id": "k1TNmSiWlr4G"
   },
   "outputs": [],
   "source": [
    "# Add segment dictionary\n",
    "segment_dict = {\n",
    "    # Hibernating\n",
    "    (1, 1): \"hibernating\",\n",
    "    (1, 2): \"hibernating\",\n",
    "    (2, 1): \"hibernating\",\n",
    "    (2, 2): \"hibernating\",\n",
    "    # About to sleep\n",
    "    (3, 1): \"about to sleep\",\n",
    "    (3, 2): \"about to sleep\",\n",
    "    # Promising\n",
    "    (4, 1): \"promising\",\n",
    "    # New Customer\n",
    "    (5, 1): \"new customer\",\n",
    "    # Potential Customers\n",
    "    (4, 2): \"potential customer\",\n",
    "    (4, 3): \"potential customer\",\n",
    "    (5, 2): \"potential customer\",\n",
    "    (5, 3): \"potential customer\",\n",
    "    # Need attention\n",
    "    (3, 3): \"need attention\",\n",
    "    # At risk\n",
    "    (1, 3): \"at risk\",\n",
    "    (1, 4): \"at risk\",\n",
    "    (2, 3): \"at risk\",\n",
    "    (2, 4): \"at risk\",\n",
    "    # Do not lose\n",
    "    (1, 5): \"do not lose\",\n",
    "    (2, 5): \"do not lose\",\n",
    "    # Loyal customer\n",
    "    (3, 4): \"loyal customer\",\n",
    "    (3, 5): \"loyal customer\",\n",
    "    (4, 4): \"loyal customer\",\n",
    "    (4, 5): \"loyal customer\",\n",
    "    # Champions\n",
    "    (5, 4): \"champions\",\n",
    "    (5, 5): \"champions\"}\n"
   ]
  },
  {
   "cell_type": "code",
   "execution_count": 290,
   "metadata": {
    "colab": {
     "base_uri": "https://localhost:8080/",
     "height": 0
    },
    "executionInfo": {
     "elapsed": 770,
     "status": "ok",
     "timestamp": 1731028121141,
     "user": {
      "displayName": "Nyein Chan Aung",
      "userId": "10271779707834005263"
     },
     "user_tz": -420
    },
    "id": "Gm9EqJ_Flr4M",
    "outputId": "aacfbd9f-bdcf-4feb-d2ab-533b0134abd7"
   },
   "outputs": [
    {
     "data": {
      "text/html": [
       "<div>\n",
       "<style scoped>\n",
       "    .dataframe tbody tr th:only-of-type {\n",
       "        vertical-align: middle;\n",
       "    }\n",
       "\n",
       "    .dataframe tbody tr th {\n",
       "        vertical-align: top;\n",
       "    }\n",
       "\n",
       "    .dataframe thead th {\n",
       "        text-align: right;\n",
       "    }\n",
       "</style>\n",
       "<table border=\"1\" class=\"dataframe\">\n",
       "  <thead>\n",
       "    <tr style=\"text-align: right;\">\n",
       "      <th></th>\n",
       "      <th>cust_id</th>\n",
       "      <th>full_name</th>\n",
       "      <th>recency_score</th>\n",
       "      <th>frequency_score</th>\n",
       "      <th>monetary_score</th>\n",
       "      <th>frequency_monetary</th>\n",
       "      <th>segment</th>\n",
       "    </tr>\n",
       "  </thead>\n",
       "  <tbody>\n",
       "    <tr>\n",
       "      <th>0</th>\n",
       "      <td>4</td>\n",
       "      <td>Doughty, Reggie</td>\n",
       "      <td>1</td>\n",
       "      <td>2</td>\n",
       "      <td>5</td>\n",
       "      <td>4</td>\n",
       "      <td>at risk</td>\n",
       "    </tr>\n",
       "    <tr>\n",
       "      <th>1</th>\n",
       "      <td>15</td>\n",
       "      <td>Diebold, Debbie</td>\n",
       "      <td>3</td>\n",
       "      <td>1</td>\n",
       "      <td>2</td>\n",
       "      <td>1</td>\n",
       "      <td>about to sleep</td>\n",
       "    </tr>\n",
       "    <tr>\n",
       "      <th>2</th>\n",
       "      <td>16</td>\n",
       "      <td>Sturtevant, Michal</td>\n",
       "      <td>5</td>\n",
       "      <td>4</td>\n",
       "      <td>5</td>\n",
       "      <td>5</td>\n",
       "      <td>champions</td>\n",
       "    </tr>\n",
       "    <tr>\n",
       "      <th>3</th>\n",
       "      <td>20</td>\n",
       "      <td>Pulver, Eddy</td>\n",
       "      <td>1</td>\n",
       "      <td>1</td>\n",
       "      <td>5</td>\n",
       "      <td>3</td>\n",
       "      <td>at risk</td>\n",
       "    </tr>\n",
       "    <tr>\n",
       "      <th>4</th>\n",
       "      <td>23</td>\n",
       "      <td>Bostwick, Roscoe</td>\n",
       "      <td>1</td>\n",
       "      <td>1</td>\n",
       "      <td>4</td>\n",
       "      <td>2</td>\n",
       "      <td>hibernating</td>\n",
       "    </tr>\n",
       "    <tr>\n",
       "      <th>...</th>\n",
       "      <td>...</td>\n",
       "      <td>...</td>\n",
       "      <td>...</td>\n",
       "      <td>...</td>\n",
       "      <td>...</td>\n",
       "      <td>...</td>\n",
       "      <td>...</td>\n",
       "    </tr>\n",
       "    <tr>\n",
       "      <th>18815</th>\n",
       "      <td>115149</td>\n",
       "      <td>Poe, Mae</td>\n",
       "      <td>1</td>\n",
       "      <td>5</td>\n",
       "      <td>5</td>\n",
       "      <td>5</td>\n",
       "      <td>do not lose</td>\n",
       "    </tr>\n",
       "    <tr>\n",
       "      <th>18816</th>\n",
       "      <td>115170</td>\n",
       "      <td>Tremaine, Rene</td>\n",
       "      <td>1</td>\n",
       "      <td>5</td>\n",
       "      <td>2</td>\n",
       "      <td>4</td>\n",
       "      <td>at risk</td>\n",
       "    </tr>\n",
       "    <tr>\n",
       "      <th>18817</th>\n",
       "      <td>115195</td>\n",
       "      <td>Daddario, Christi</td>\n",
       "      <td>1</td>\n",
       "      <td>5</td>\n",
       "      <td>4</td>\n",
       "      <td>5</td>\n",
       "      <td>do not lose</td>\n",
       "    </tr>\n",
       "    <tr>\n",
       "      <th>18818</th>\n",
       "      <td>115223</td>\n",
       "      <td>Bullion, Edgardo</td>\n",
       "      <td>1</td>\n",
       "      <td>5</td>\n",
       "      <td>2</td>\n",
       "      <td>4</td>\n",
       "      <td>at risk</td>\n",
       "    </tr>\n",
       "    <tr>\n",
       "      <th>18819</th>\n",
       "      <td>115309</td>\n",
       "      <td>Cascio, Kendall</td>\n",
       "      <td>1</td>\n",
       "      <td>5</td>\n",
       "      <td>3</td>\n",
       "      <td>4</td>\n",
       "      <td>at risk</td>\n",
       "    </tr>\n",
       "  </tbody>\n",
       "</table>\n",
       "<p>18820 rows × 7 columns</p>\n",
       "</div>"
      ],
      "text/plain": [
       "       cust_id           full_name  recency_score  frequency_score  \\\n",
       "0            4     Doughty, Reggie              1                2   \n",
       "1           15     Diebold, Debbie              3                1   \n",
       "2           16  Sturtevant, Michal              5                4   \n",
       "3           20        Pulver, Eddy              1                1   \n",
       "4           23    Bostwick, Roscoe              1                1   \n",
       "...        ...                 ...            ...              ...   \n",
       "18815   115149            Poe, Mae              1                5   \n",
       "18816   115170      Tremaine, Rene              1                5   \n",
       "18817   115195   Daddario, Christi              1                5   \n",
       "18818   115223    Bullion, Edgardo              1                5   \n",
       "18819   115309     Cascio, Kendall              1                5   \n",
       "\n",
       "       monetary_score  frequency_monetary         segment  \n",
       "0                   5                   4         at risk  \n",
       "1                   2                   1  about to sleep  \n",
       "2                   5                   5       champions  \n",
       "3                   5                   3         at risk  \n",
       "4                   4                   2     hibernating  \n",
       "...               ...                 ...             ...  \n",
       "18815               5                   5     do not lose  \n",
       "18816               2                   4         at risk  \n",
       "18817               4                   5     do not lose  \n",
       "18818               2                   4         at risk  \n",
       "18819               3                   4         at risk  \n",
       "\n",
       "[18820 rows x 7 columns]"
      ]
     },
     "execution_count": 290,
     "metadata": {},
     "output_type": "execute_result"
    }
   ],
   "source": [
    "# Create a final_table that has recency_score, _frequency_score and monetary_score\n",
    "final_table = frequency_table.merge(recency_table, on='cust_id').merge(monetary_table, on='cust_id')\n",
    "\n",
    "final_table = final_table[['cust_id', 'full_name', 'recency_score', 'frequency_score', 'monetary_score']]\n",
    "\n",
    "# Create new column 'frequency_monetary' by applying scoring and adding frequency_score+ montetary_score\n",
    "final_table['frequency_monetary'] = scoring(final_table['frequency_score'] + final_table['monetary_score'])\n",
    "\n",
    "# Apply segment dict and create a segment column\n",
    "final_table['segment'] = final_table.apply(lambda x:\n",
    "                 segment_dict[(x['recency_score'],x['frequency_monetary'])], axis=1)\n",
    "\n",
    "final_table\n"
   ]
  },
  {
   "cell_type": "code",
   "execution_count": 291,
   "metadata": {
    "colab": {
     "base_uri": "https://localhost:8080/",
     "height": 0
    },
    "executionInfo": {
     "elapsed": 6,
     "status": "ok",
     "timestamp": 1731028121141,
     "user": {
      "displayName": "Nyein Chan Aung",
      "userId": "10271779707834005263"
     },
     "user_tz": -420
    },
    "id": "bySNV0qClr4M",
    "outputId": "ff16acc7-84ee-46ab-b424-95f32c837e17"
   },
   "outputs": [
    {
     "data": {
      "text/plain": [
       "segment\n",
       "at risk               5256\n",
       "loyal customer        4548\n",
       "hibernating           2764\n",
       "do not lose           1549\n",
       "champions             1547\n",
       "potential customer    1411\n",
       "about to sleep         870\n",
       "need attention         558\n",
       "promising              188\n",
       "new customer           129\n",
       "Name: count, dtype: int64"
      ]
     },
     "execution_count": 291,
     "metadata": {},
     "output_type": "execute_result"
    }
   ],
   "source": [
    "final_data = final_table['segment'].value_counts()\n",
    "final_data"
   ]
  },
  {
   "cell_type": "code",
   "execution_count": 292,
   "metadata": {
    "colab": {
     "base_uri": "https://localhost:8080/",
     "height": 0
    },
    "executionInfo": {
     "elapsed": 400,
     "status": "ok",
     "timestamp": 1731028121536,
     "user": {
      "displayName": "Nyein Chan Aung",
      "userId": "10271779707834005263"
     },
     "user_tz": -420
    },
    "id": "BHmbyKE-lr4M",
    "outputId": "7052a079-8870-4055-9260-a746577f275d"
   },
   "outputs": [
    {
     "name": "stdout",
     "output_type": "stream",
     "text": [
      "[870, 5256, 1547, 1549, 2764, 4548, 558, 129, 1411, 188]\n",
      "Index(['about to sleep', 'at risk', 'champions', 'do not lose', 'hibernating',\n",
      "       'loyal customer', 'need attention', 'new customer',\n",
      "       'potential customer', 'promising'],\n",
      "      dtype='object', name='segment')\n"
     ]
    },
    {
     "data": {
      "image/png": "[encoded data removed]",
      "text/plain": [
       "<Figure size 1600x1000 with 1 Axes>"
      ]
     },
     "metadata": {},
     "output_type": "display_data"
    }
   ],
   "source": [
    "# RFM Result\n",
    "result = final_table.groupby(['segment'])['segment'].count()\n",
    "values = list(result)\n",
    "print(values)\n",
    "labels = result.index\n",
    "print(labels)\n",
    "\n",
    "colors = [list(np.random.uniform(size = 4)) for i in range(len(values))]\n",
    "# print(colors)\n",
    "\n",
    "plt.figure(figsize = (16, 10))\n",
    "squarify.plot(values,color=colors, label = labels, pad = True)\n",
    "plt.axis('off')\n",
    "plt.show()\n"
   ]
  },
  {
   "cell_type": "code",
   "execution_count": 293,
   "metadata": {
    "colab": {
     "base_uri": "https://localhost:8080/",
     "height": 0
    },
    "executionInfo": {
     "elapsed": 4,
     "status": "ok",
     "timestamp": 1731028121536,
     "user": {
      "displayName": "Nyein Chan Aung",
      "userId": "10271779707834005263"
     },
     "user_tz": -420
    },
    "id": "cgMtQlmulr4M",
    "outputId": "ba16a651-c263-4db9-fc3c-56cae65a8de6"
   },
   "outputs": [
    {
     "data": {
      "text/html": [
       "<style type=\"text/css\">\n",
       "#T_e7ed4_row0_col0, #T_e7ed4_row0_col1, #T_e7ed4_row0_col2, #T_e7ed4_row0_col3, #T_e7ed4_row0_col4, #T_e7ed4_row3_col0, #T_e7ed4_row3_col1, #T_e7ed4_row3_col2, #T_e7ed4_row3_col3, #T_e7ed4_row3_col4, #T_e7ed4_row6_col0, #T_e7ed4_row6_col1, #T_e7ed4_row6_col2, #T_e7ed4_row6_col3, #T_e7ed4_row6_col4, #T_e7ed4_row8_col0, #T_e7ed4_row8_col1, #T_e7ed4_row8_col2, #T_e7ed4_row8_col3, #T_e7ed4_row8_col4, #T_e7ed4_row9_col0, #T_e7ed4_row9_col1, #T_e7ed4_row9_col2, #T_e7ed4_row9_col3, #T_e7ed4_row9_col4 {\n",
       "  background-color: yellow;\n",
       "}\n",
       "#T_e7ed4_row1_col0, #T_e7ed4_row1_col1, #T_e7ed4_row1_col2, #T_e7ed4_row1_col3, #T_e7ed4_row1_col4, #T_e7ed4_row4_col0, #T_e7ed4_row4_col1, #T_e7ed4_row4_col2, #T_e7ed4_row4_col3, #T_e7ed4_row4_col4 {\n",
       "  background-color: lightgrey;\n",
       "}\n",
       "#T_e7ed4_row2_col0, #T_e7ed4_row2_col1, #T_e7ed4_row2_col2, #T_e7ed4_row2_col3, #T_e7ed4_row2_col4 {\n",
       "  background-color: lightgreen;\n",
       "}\n",
       "#T_e7ed4_row5_col0, #T_e7ed4_row5_col1, #T_e7ed4_row5_col2, #T_e7ed4_row5_col3, #T_e7ed4_row5_col4, #T_e7ed4_row7_col0, #T_e7ed4_row7_col1, #T_e7ed4_row7_col2, #T_e7ed4_row7_col3, #T_e7ed4_row7_col4 {\n",
       "  background-color: red;\n",
       "}\n",
       "</style>\n",
       "<table id=\"T_e7ed4\">\n",
       "  <thead>\n",
       "    <tr>\n",
       "      <th class=\"blank level0\" >&nbsp;</th>\n",
       "      <th id=\"T_e7ed4_level0_col0\" class=\"col_heading level0 col0\" >cust_id</th>\n",
       "      <th id=\"T_e7ed4_level0_col1\" class=\"col_heading level0 col1\" >full_name</th>\n",
       "      <th id=\"T_e7ed4_level0_col2\" class=\"col_heading level0 col2\" >segment</th>\n",
       "      <th id=\"T_e7ed4_level0_col3\" class=\"col_heading level0 col3\" >description</th>\n",
       "      <th id=\"T_e7ed4_level0_col4\" class=\"col_heading level0 col4\" >recommendations</th>\n",
       "    </tr>\n",
       "  </thead>\n",
       "  <tbody>\n",
       "    <tr>\n",
       "      <th id=\"T_e7ed4_level0_row0\" class=\"row_heading level0 row0\" >0</th>\n",
       "      <td id=\"T_e7ed4_row0_col0\" class=\"data row0 col0\" >4</td>\n",
       "      <td id=\"T_e7ed4_row0_col1\" class=\"data row0 col1\" >Doughty, Reggie</td>\n",
       "      <td id=\"T_e7ed4_row0_col2\" class=\"data row0 col2\" >at risk</td>\n",
       "      <td id=\"T_e7ed4_row0_col3\" class=\"data row0 col3\" >Customers with low recency but medium frequency and monetary value.</td>\n",
       "      <td id=\"T_e7ed4_row0_col4\" class=\"data row0 col4\" >Send win-back campaigns with attractive offers to re-engage them. Highlight any new products or services they might be interested in.</td>\n",
       "    </tr>\n",
       "    <tr>\n",
       "      <th id=\"T_e7ed4_level0_row1\" class=\"row_heading level0 row1\" >1</th>\n",
       "      <td id=\"T_e7ed4_row1_col0\" class=\"data row1 col0\" >15</td>\n",
       "      <td id=\"T_e7ed4_row1_col1\" class=\"data row1 col1\" >Diebold, Debbie</td>\n",
       "      <td id=\"T_e7ed4_row1_col2\" class=\"data row1 col2\" >about to sleep</td>\n",
       "      <td id=\"T_e7ed4_row1_col3\" class=\"data row1 col3\" >Customers with medium recency but low frequency and monetary value.</td>\n",
       "      <td id=\"T_e7ed4_row1_col4\" class=\"data row1 col4\" >Offer loyalty programs or rewards for their next purchase. Provide personalized recommendations based on previous purchases.</td>\n",
       "    </tr>\n",
       "    <tr>\n",
       "      <th id=\"T_e7ed4_level0_row2\" class=\"row_heading level0 row2\" >2</th>\n",
       "      <td id=\"T_e7ed4_row2_col0\" class=\"data row2 col0\" >16</td>\n",
       "      <td id=\"T_e7ed4_row2_col1\" class=\"data row2 col1\" >Sturtevant, Michal</td>\n",
       "      <td id=\"T_e7ed4_row2_col2\" class=\"data row2 col2\" >champions</td>\n",
       "      <td id=\"T_e7ed4_row2_col3\" class=\"data row2 col3\" >Customers with high recency, high frequency, and high monetary value.</td>\n",
       "      <td id=\"T_e7ed4_row2_col4\" class=\"data row2 col4\" >Offer exclusive access to new products, events, or sales. Provide personalized thank-you notes and exceptional customer service.</td>\n",
       "    </tr>\n",
       "    <tr>\n",
       "      <th id=\"T_e7ed4_level0_row3\" class=\"row_heading level0 row3\" >3</th>\n",
       "      <td id=\"T_e7ed4_row3_col0\" class=\"data row3 col0\" >20</td>\n",
       "      <td id=\"T_e7ed4_row3_col1\" class=\"data row3 col1\" >Pulver, Eddy</td>\n",
       "      <td id=\"T_e7ed4_row3_col2\" class=\"data row3 col2\" >at risk</td>\n",
       "      <td id=\"T_e7ed4_row3_col3\" class=\"data row3 col3\" >Customers with low recency but medium frequency and monetary value.</td>\n",
       "      <td id=\"T_e7ed4_row3_col4\" class=\"data row3 col4\" >Send win-back campaigns with attractive offers to re-engage them. Highlight any new products or services they might be interested in.</td>\n",
       "    </tr>\n",
       "    <tr>\n",
       "      <th id=\"T_e7ed4_level0_row4\" class=\"row_heading level0 row4\" >4</th>\n",
       "      <td id=\"T_e7ed4_row4_col0\" class=\"data row4 col0\" >23</td>\n",
       "      <td id=\"T_e7ed4_row4_col1\" class=\"data row4 col1\" >Bostwick, Roscoe</td>\n",
       "      <td id=\"T_e7ed4_row4_col2\" class=\"data row4 col2\" >hibernating</td>\n",
       "      <td id=\"T_e7ed4_row4_col3\" class=\"data row4 col3\" >Customers with low recency, low frequency, and low monetary value.</td>\n",
       "      <td id=\"T_e7ed4_row4_col4\" class=\"data row4 col4\" >Send re-engagement emails with special offers or discounts. Conduct surveys to understand why they've stopped purchasing.</td>\n",
       "    </tr>\n",
       "    <tr>\n",
       "      <th id=\"T_e7ed4_level0_row5\" class=\"row_heading level0 row5\" >5</th>\n",
       "      <td id=\"T_e7ed4_row5_col0\" class=\"data row5 col0\" >115149</td>\n",
       "      <td id=\"T_e7ed4_row5_col1\" class=\"data row5 col1\" >Poe, Mae</td>\n",
       "      <td id=\"T_e7ed4_row5_col2\" class=\"data row5 col2\" >do not lose</td>\n",
       "      <td id=\"T_e7ed4_row5_col3\" class=\"data row5 col3\" >Customers with low recency but high frequency and monetary value.</td>\n",
       "      <td id=\"T_e7ed4_row5_col4\" class=\"data row5 col4\" >Offer personalized incentives and discounts to win them back. Provide exceptional customer service to address any issues they may have.</td>\n",
       "    </tr>\n",
       "    <tr>\n",
       "      <th id=\"T_e7ed4_level0_row6\" class=\"row_heading level0 row6\" >6</th>\n",
       "      <td id=\"T_e7ed4_row6_col0\" class=\"data row6 col0\" >115170</td>\n",
       "      <td id=\"T_e7ed4_row6_col1\" class=\"data row6 col1\" >Tremaine, Rene</td>\n",
       "      <td id=\"T_e7ed4_row6_col2\" class=\"data row6 col2\" >at risk</td>\n",
       "      <td id=\"T_e7ed4_row6_col3\" class=\"data row6 col3\" >Customers with low recency but medium frequency and monetary value.</td>\n",
       "      <td id=\"T_e7ed4_row6_col4\" class=\"data row6 col4\" >Send win-back campaigns with attractive offers to re-engage them. Highlight any new products or services they might be interested in.</td>\n",
       "    </tr>\n",
       "    <tr>\n",
       "      <th id=\"T_e7ed4_level0_row7\" class=\"row_heading level0 row7\" >7</th>\n",
       "      <td id=\"T_e7ed4_row7_col0\" class=\"data row7 col0\" >115195</td>\n",
       "      <td id=\"T_e7ed4_row7_col1\" class=\"data row7 col1\" >Daddario, Christi</td>\n",
       "      <td id=\"T_e7ed4_row7_col2\" class=\"data row7 col2\" >do not lose</td>\n",
       "      <td id=\"T_e7ed4_row7_col3\" class=\"data row7 col3\" >Customers with low recency but high frequency and monetary value.</td>\n",
       "      <td id=\"T_e7ed4_row7_col4\" class=\"data row7 col4\" >Offer personalized incentives and discounts to win them back. Provide exceptional customer service to address any issues they may have.</td>\n",
       "    </tr>\n",
       "    <tr>\n",
       "      <th id=\"T_e7ed4_level0_row8\" class=\"row_heading level0 row8\" >8</th>\n",
       "      <td id=\"T_e7ed4_row8_col0\" class=\"data row8 col0\" >115223</td>\n",
       "      <td id=\"T_e7ed4_row8_col1\" class=\"data row8 col1\" >Bullion, Edgardo</td>\n",
       "      <td id=\"T_e7ed4_row8_col2\" class=\"data row8 col2\" >at risk</td>\n",
       "      <td id=\"T_e7ed4_row8_col3\" class=\"data row8 col3\" >Customers with low recency but medium frequency and monetary value.</td>\n",
       "      <td id=\"T_e7ed4_row8_col4\" class=\"data row8 col4\" >Send win-back campaigns with attractive offers to re-engage them. Highlight any new products or services they might be interested in.</td>\n",
       "    </tr>\n",
       "    <tr>\n",
       "      <th id=\"T_e7ed4_level0_row9\" class=\"row_heading level0 row9\" >9</th>\n",
       "      <td id=\"T_e7ed4_row9_col0\" class=\"data row9 col0\" >115309</td>\n",
       "      <td id=\"T_e7ed4_row9_col1\" class=\"data row9 col1\" >Cascio, Kendall</td>\n",
       "      <td id=\"T_e7ed4_row9_col2\" class=\"data row9 col2\" >at risk</td>\n",
       "      <td id=\"T_e7ed4_row9_col3\" class=\"data row9 col3\" >Customers with low recency but medium frequency and monetary value.</td>\n",
       "      <td id=\"T_e7ed4_row9_col4\" class=\"data row9 col4\" >Send win-back campaigns with attractive offers to re-engage them. Highlight any new products or services they might be interested in.</td>\n",
       "    </tr>\n",
       "  </tbody>\n",
       "</table>\n"
      ],
      "text/plain": [
       "<pandas.io.formats.style.Styler at 0x323cb3dd0>"
      ]
     },
     "execution_count": 293,
     "metadata": {},
     "output_type": "execute_result"
    }
   ],
   "source": [
    "import pandas as pd\n",
    "\n",
    "# Example final_table DataFrame\n",
    "data = {\n",
    "    \"cust_id\": [4, 15, 16, 20, 23, 115149, 115170, 115195, 115223, 115309],\n",
    "    \"full_name\": [\"Doughty, Reggie\", \"Diebold, Debbie\", \"Sturtevant, Michal\", \"Pulver, Eddy\", \"Bostwick, Roscoe\",\n",
    "                  \"Poe, Mae\", \"Tremaine, Rene\", \"Daddario, Christi\", \"Bullion, Edgardo\", \"Cascio, Kendall\"],\n",
    "    \"segment\": [\"at risk\", \"about to sleep\", \"champions\", \"at risk\", \"hibernating\",\n",
    "                \"do not lose\", \"at risk\", \"do not lose\", \"at risk\", \"at risk\"],\n",
    "    \"description\": [\n",
    "        \"Customers with low recency but medium frequency and monetary value.\",\n",
    "        \"Customers with medium recency but low frequency and monetary value.\",\n",
    "        \"Customers with high recency, high frequency, and high monetary value.\",\n",
    "        \"Customers with low recency but medium frequency and monetary value.\",\n",
    "        \"Customers with low recency, low frequency, and low monetary value.\",\n",
    "        \"Customers with low recency but high frequency and monetary value.\",\n",
    "        \"Customers with low recency but medium frequency and monetary value.\",\n",
    "        \"Customers with low recency but high frequency and monetary value.\",\n",
    "        \"Customers with low recency but medium frequency and monetary value.\",\n",
    "        \"Customers with low recency but medium frequency and monetary value.\"\n",
    "    ],\n",
    "    \"recommendations\": [\n",
    "        \"Send win-back campaigns with attractive offers to re-engage them. Highlight any new products or services they might be interested in.\",\n",
    "        \"Offer loyalty programs or rewards for their next purchase. Provide personalized recommendations based on previous purchases.\",\n",
    "        \"Offer exclusive access to new products, events, or sales. Provide personalized thank-you notes and exceptional customer service.\",\n",
    "        \"Send win-back campaigns with attractive offers to re-engage them. Highlight any new products or services they might be interested in.\",\n",
    "        \"Send re-engagement emails with special offers or discounts. Conduct surveys to understand why they've stopped purchasing.\",\n",
    "        \"Offer personalized incentives and discounts to win them back. Provide exceptional customer service to address any issues they may have.\",\n",
    "        \"Send win-back campaigns with attractive offers to re-engage them. Highlight any new products or services they might be interested in.\",\n",
    "        \"Offer personalized incentives and discounts to win them back. Provide exceptional customer service to address any issues they may have.\",\n",
    "        \"Send win-back campaigns with attractive offers to re-engage them. Highlight any new products or services they might be interested in.\",\n",
    "        \"Send win-back campaigns with attractive offers to re-engage them. Highlight any new products or services they might be interested in.\"\n",
    "    ]\n",
    "}\n",
    "\n",
    "final_table_descr = pd.DataFrame(data)\n",
    "\n",
    "def highlight_segment(segment):\n",
    "    if segment == \"champions\":\n",
    "        return ['background-color: lightgreen'] * 5\n",
    "    elif segment == \"loyal customer\":\n",
    "        return ['background-color: lightgreen'] * 5\n",
    "    elif segment == \"potential customers\":\n",
    "        return ['background-color: lightgreen'] * 5\n",
    "    elif segment == \"at risk\":\n",
    "        return ['background-color: yellow'] * 5\n",
    "    elif segment == \"do not lose\":\n",
    "        return ['background-color: red'] * 5\n",
    "    elif segment == \"hibernating\":\n",
    "        return ['background-color: lightgrey'] * 5\n",
    "    elif segment == \"about to sleep\":\n",
    "        return ['background-color: lightgrey'] * 5\n",
    "    else:\n",
    "        return [''] * 5\n",
    "\n",
    "styled_table = final_table_descr.style.apply(lambda x: highlight_segment(x['segment']), axis=1)\n",
    "styled_table"
   ]
  },
  {
   "cell_type": "code",
   "execution_count": 294,
   "metadata": {
    "colab": {
     "base_uri": "https://localhost:8080/",
     "height": 0
    },
    "executionInfo": {
     "elapsed": 1005,
     "status": "ok",
     "timestamp": 1731028122538,
     "user": {
      "displayName": "Nyein Chan Aung",
      "userId": "10271779707834005263"
     },
     "user_tz": -420
    },
    "id": "kS9SWJ7vlr4M",
    "outputId": "a196c890-2e32-4ddc-9ee4-f814cd3a2df9"
   },
   "outputs": [
    {
     "data": {
      "image/png": "[encoded data removed]",
      "text/plain": [
       "<Figure size 1000x800 with 1 Axes>"
      ]
     },
     "metadata": {},
     "output_type": "display_data"
    }
   ],
   "source": [
    "fig, ax = plt.subplots(figsize=(10, 8))\n",
    "bars = ax.barh(\n",
    "    y = final_data.index,\n",
    "    width = final_data.values\n",
    ")\n",
    "\n",
    "# Adding data labels with descriptions\n",
    "for bar, desc in zip(bars, final_table_descr['description']):\n",
    "    ax.text(\n",
    "        bar.get_width(),         # X coordinate\n",
    "        bar.get_y() + bar.get_height() / 2,  # Y coordinate\n",
    "        f'{desc}',               # Text\n",
    "        va='center',             # Vertical alignment\n",
    "        ha='left'                # Horizontal alignment\n",
    "    )\n",
    "\n",
    "# Remove the top and right spines\n",
    "ax.spines['top'].set_visible(False)\n",
    "ax.spines['right'].set_visible(False)\n",
    "\n",
    "ax.set_xlabel('Values')\n",
    "ax.set_title('Bar chart with descriptions as data labels')\n",
    "plt.show()"
   ]
  },
  {
   "cell_type": "markdown",
   "metadata": {},
   "source": [
    "## Customer Segmentation (Improvement)"
   ]
  },
  {
   "cell_type": "markdown",
   "metadata": {
    "id": "EsXFzXHZlr4M"
   },
   "source": [
    "### RFM Calculation"
   ]
  },
  {
   "cell_type": "code",
   "execution_count": 295,
   "metadata": {
    "executionInfo": {
     "elapsed": 4,
     "status": "ok",
     "timestamp": 1731028122538,
     "user": {
      "displayName": "Nyein Chan Aung",
      "userId": "10271779707834005263"
     },
     "user_tz": -420
    },
    "id": "jg83tifPyQP5"
   },
   "outputs": [],
   "source": [
    "# Calculate RFM score for Amazon_df\n"
   ]
  },
  {
   "cell_type": "code",
   "execution_count": 296,
   "metadata": {
    "colab": {
     "base_uri": "https://localhost:8080/"
    },
    "executionInfo": {
     "elapsed": 331,
     "status": "ok",
     "timestamp": 1731028122865,
     "user": {
      "displayName": "Nyein Chan Aung",
      "userId": "10271779707834005263"
     },
     "user_tz": -420
    },
    "id": "o0co8guSlr4N",
    "outputId": "f206404a-b3d2-4513-e564-3ef64bc07e3c"
   },
   "outputs": [
    {
     "name": "stdout",
     "output_type": "stream",
     "text": [
      "<class 'pandas.core.frame.DataFrame'>\n",
      "RangeIndex: 286392 entries, 0 to 286391\n",
      "Data columns (total 35 columns):\n",
      " #   Column            Non-Null Count   Dtype         \n",
      "---  ------            --------------   -----         \n",
      " 0   order_id          286392 non-null  object        \n",
      " 1   order_date        286392 non-null  datetime64[ns]\n",
      " 2   status            286392 non-null  object        \n",
      " 3   item_id           286392 non-null  int64         \n",
      " 4   sku               286392 non-null  object        \n",
      " 5   qty_ordered       286392 non-null  int64         \n",
      " 6   price             286392 non-null  float64       \n",
      " 7   value             286392 non-null  float64       \n",
      " 8   discount_amount   286392 non-null  float64       \n",
      " 9   total             286392 non-null  float64       \n",
      " 10  category          286392 non-null  object        \n",
      " 11  payment_method    286392 non-null  object        \n",
      " 12  bi_st             286392 non-null  object        \n",
      " 13  cust_id           286392 non-null  int64         \n",
      " 14  year              286392 non-null  int64         \n",
      " 15  month             286392 non-null  period[M]     \n",
      " 16  ref_num           286392 non-null  int64         \n",
      " 17  name_prefix       286392 non-null  object        \n",
      " 18  first_name        286392 non-null  object        \n",
      " 19  middle_name       286392 non-null  object        \n",
      " 20  last_name         286392 non-null  object        \n",
      " 21  gender            286392 non-null  object        \n",
      " 22  age               286392 non-null  int64         \n",
      " 23  full_name         286392 non-null  object        \n",
      " 24  email             286392 non-null  object        \n",
      " 25  sign_in_date      286392 non-null  object        \n",
      " 26  phone_no          286392 non-null  object        \n",
      " 27  place_name        286392 non-null  object        \n",
      " 28  country           286392 non-null  object        \n",
      " 29  city              286392 non-null  object        \n",
      " 30  state             286392 non-null  object        \n",
      " 31  zip               286392 non-null  int64         \n",
      " 32  region            286392 non-null  object        \n",
      " 33  user_name         286392 non-null  object        \n",
      " 34  discount_percent  286392 non-null  float64       \n",
      "dtypes: datetime64[ns](1), float64(5), int64(7), object(21), period[M](1)\n",
      "memory usage: 76.5+ MB\n"
     ]
    }
   ],
   "source": [
    "Amazon_df.info()"
   ]
  },
  {
   "cell_type": "code",
   "execution_count": 297,
   "metadata": {
    "colab": {
     "base_uri": "https://localhost:8080/",
     "height": 206
    },
    "executionInfo": {
     "elapsed": 6,
     "status": "ok",
     "timestamp": 1731028122866,
     "user": {
      "displayName": "Nyein Chan Aung",
      "userId": "10271779707834005263"
     },
     "user_tz": -420
    },
    "id": "SN2MIojJzHNH",
    "outputId": "36af620c-c6c2-4394-cfc5-5362e19c1351"
   },
   "outputs": [
    {
     "data": {
      "text/html": [
       "<div>\n",
       "<style scoped>\n",
       "    .dataframe tbody tr th:only-of-type {\n",
       "        vertical-align: middle;\n",
       "    }\n",
       "\n",
       "    .dataframe tbody tr th {\n",
       "        vertical-align: top;\n",
       "    }\n",
       "\n",
       "    .dataframe thead th {\n",
       "        text-align: right;\n",
       "    }\n",
       "</style>\n",
       "<table border=\"1\" class=\"dataframe\">\n",
       "  <thead>\n",
       "    <tr style=\"text-align: right;\">\n",
       "      <th></th>\n",
       "      <th>cust_id</th>\n",
       "      <th>last_purchase_timestamp</th>\n",
       "    </tr>\n",
       "  </thead>\n",
       "  <tbody>\n",
       "    <tr>\n",
       "      <th>0</th>\n",
       "      <td>4</td>\n",
       "      <td>2021-09-29</td>\n",
       "    </tr>\n",
       "    <tr>\n",
       "      <th>1</th>\n",
       "      <td>15</td>\n",
       "      <td>2021-02-11</td>\n",
       "    </tr>\n",
       "    <tr>\n",
       "      <th>2</th>\n",
       "      <td>16</td>\n",
       "      <td>2020-11-12</td>\n",
       "    </tr>\n",
       "    <tr>\n",
       "      <th>3</th>\n",
       "      <td>20</td>\n",
       "      <td>2021-09-29</td>\n",
       "    </tr>\n",
       "    <tr>\n",
       "      <th>4</th>\n",
       "      <td>21</td>\n",
       "      <td>2021-02-03</td>\n",
       "    </tr>\n",
       "  </tbody>\n",
       "</table>\n",
       "</div>"
      ],
      "text/plain": [
       "   cust_id last_purchase_timestamp\n",
       "0        4              2021-09-29\n",
       "1       15              2021-02-11\n",
       "2       16              2020-11-12\n",
       "3       20              2021-09-29\n",
       "4       21              2021-02-03"
      ]
     },
     "execution_count": 297,
     "metadata": {},
     "output_type": "execute_result"
    }
   ],
   "source": [
    "# Set RFM Analysis Data set\n",
    "recency = Amazon_df[['cust_id', 'order_date']].copy()\n",
    "recency = recency.groupby('cust_id')['order_date'].max().reset_index()\n",
    "recency.columns = ['cust_id', 'last_purchase_timestamp']\n",
    "recency.head()"
   ]
  },
  {
   "cell_type": "code",
   "execution_count": 298,
   "metadata": {
    "executionInfo": {
     "elapsed": 330,
     "status": "ok",
     "timestamp": 1731028123191,
     "user": {
      "displayName": "Nyein Chan Aung",
      "userId": "10271779707834005263"
     },
     "user_tz": -420
    },
    "id": "sBYet0MczqmY"
   },
   "outputs": [],
   "source": [
    "# Recency, Frequency, Monetary\n",
    "recency['purchase_int'] = (recency['last_purchase_timestamp'].max() - recency['last_purchase_timestamp']).dt.days\n",
    "frequency =pd.DataFrame(Amazon_df.groupby('cust_id')['order_id'].count().reset_index())\n",
    "monetary =pd.DataFrame(Amazon_df.groupby('cust_id')['total'].sum().reset_index())\n"
   ]
  },
  {
   "cell_type": "code",
   "execution_count": 299,
   "metadata": {
    "colab": {
     "base_uri": "https://localhost:8080/",
     "height": 206
    },
    "executionInfo": {
     "elapsed": 7,
     "status": "ok",
     "timestamp": 1731028123191,
     "user": {
      "displayName": "Nyein Chan Aung",
      "userId": "10271779707834005263"
     },
     "user_tz": -420
    },
    "id": "pltcSdNVzwxe",
    "outputId": "b670bda5-8752-4ceb-eebb-311189693a40"
   },
   "outputs": [
    {
     "data": {
      "text/html": [
       "<div>\n",
       "<style scoped>\n",
       "    .dataframe tbody tr th:only-of-type {\n",
       "        vertical-align: middle;\n",
       "    }\n",
       "\n",
       "    .dataframe tbody tr th {\n",
       "        vertical-align: top;\n",
       "    }\n",
       "\n",
       "    .dataframe thead th {\n",
       "        text-align: right;\n",
       "    }\n",
       "</style>\n",
       "<table border=\"1\" class=\"dataframe\">\n",
       "  <thead>\n",
       "    <tr style=\"text-align: right;\">\n",
       "      <th></th>\n",
       "      <th>cust_id</th>\n",
       "      <th>last_purchase_timestamp</th>\n",
       "      <th>recency</th>\n",
       "      <th>frequency</th>\n",
       "      <th>monetary</th>\n",
       "    </tr>\n",
       "  </thead>\n",
       "  <tbody>\n",
       "    <tr>\n",
       "      <th>0</th>\n",
       "      <td>4</td>\n",
       "      <td>2021-09-29</td>\n",
       "      <td>1</td>\n",
       "      <td>41</td>\n",
       "      <td>27394.190</td>\n",
       "    </tr>\n",
       "    <tr>\n",
       "      <th>1</th>\n",
       "      <td>15</td>\n",
       "      <td>2021-02-11</td>\n",
       "      <td>231</td>\n",
       "      <td>6</td>\n",
       "      <td>216.800</td>\n",
       "    </tr>\n",
       "    <tr>\n",
       "      <th>2</th>\n",
       "      <td>16</td>\n",
       "      <td>2020-11-12</td>\n",
       "      <td>322</td>\n",
       "      <td>20</td>\n",
       "      <td>11868.899</td>\n",
       "    </tr>\n",
       "    <tr>\n",
       "      <th>3</th>\n",
       "      <td>20</td>\n",
       "      <td>2021-09-29</td>\n",
       "      <td>1</td>\n",
       "      <td>11</td>\n",
       "      <td>28719.018</td>\n",
       "    </tr>\n",
       "    <tr>\n",
       "      <th>4</th>\n",
       "      <td>21</td>\n",
       "      <td>2021-02-03</td>\n",
       "      <td>239</td>\n",
       "      <td>1</td>\n",
       "      <td>105.000</td>\n",
       "    </tr>\n",
       "  </tbody>\n",
       "</table>\n",
       "</div>"
      ],
      "text/plain": [
       "   cust_id last_purchase_timestamp  recency  frequency   monetary\n",
       "0        4              2021-09-29        1         41  27394.190\n",
       "1       15              2021-02-11      231          6    216.800\n",
       "2       16              2020-11-12      322         20  11868.899\n",
       "3       20              2021-09-29        1         11  28719.018\n",
       "4       21              2021-02-03      239          1    105.000"
      ]
     },
     "execution_count": 299,
     "metadata": {},
     "output_type": "execute_result"
    }
   ],
   "source": [
    "# Merge\n",
    "overall = recency.merge(frequency, on='cust_id')\n",
    "overall = overall.merge(monetary, on='cust_id')\n",
    "\n",
    "# Rename columns for better intepretation\n",
    "overall.rename(columns={ 'purchase_int':'recency', 'num_transaction':'frequency','total':'monetary','order_id':'frequency'}, inplace=True)\n",
    "\n",
    "overall.head()"
   ]
  },
  {
   "cell_type": "markdown",
   "metadata": {},
   "source": [
    "### Scalling with StandardScaler"
   ]
  },
  {
   "cell_type": "code",
   "execution_count": 300,
   "metadata": {
    "colab": {
     "base_uri": "https://localhost:8080/",
     "height": 424
    },
    "executionInfo": {
     "elapsed": 6,
     "status": "ok",
     "timestamp": 1731028123191,
     "user": {
      "displayName": "Nyein Chan Aung",
      "userId": "10271779707834005263"
     },
     "user_tz": -420
    },
    "id": "4d1jPRvk1Xy8",
    "outputId": "b4a1a872-639d-4bc8-fe38-b42c04a5ccbe"
   },
   "outputs": [
    {
     "data": {
      "text/html": [
       "<div>\n",
       "<style scoped>\n",
       "    .dataframe tbody tr th:only-of-type {\n",
       "        vertical-align: middle;\n",
       "    }\n",
       "\n",
       "    .dataframe tbody tr th {\n",
       "        vertical-align: top;\n",
       "    }\n",
       "\n",
       "    .dataframe thead th {\n",
       "        text-align: right;\n",
       "    }\n",
       "</style>\n",
       "<table border=\"1\" class=\"dataframe\">\n",
       "  <thead>\n",
       "    <tr style=\"text-align: right;\">\n",
       "      <th></th>\n",
       "      <th>cust_id</th>\n",
       "      <th>r</th>\n",
       "      <th>f</th>\n",
       "      <th>m</th>\n",
       "    </tr>\n",
       "  </thead>\n",
       "  <tbody>\n",
       "    <tr>\n",
       "      <th>0</th>\n",
       "      <td>4</td>\n",
       "      <td>-2.135036</td>\n",
       "      <td>2.465659</td>\n",
       "      <td>1.104669</td>\n",
       "    </tr>\n",
       "    <tr>\n",
       "      <th>1</th>\n",
       "      <td>15</td>\n",
       "      <td>0.418431</td>\n",
       "      <td>0.104072</td>\n",
       "      <td>-0.159017</td>\n",
       "    </tr>\n",
       "    <tr>\n",
       "      <th>2</th>\n",
       "      <td>16</td>\n",
       "      <td>1.428715</td>\n",
       "      <td>1.048707</td>\n",
       "      <td>0.382779</td>\n",
       "    </tr>\n",
       "    <tr>\n",
       "      <th>3</th>\n",
       "      <td>20</td>\n",
       "      <td>-2.135036</td>\n",
       "      <td>0.441441</td>\n",
       "      <td>1.166270</td>\n",
       "    </tr>\n",
       "    <tr>\n",
       "      <th>4</th>\n",
       "      <td>21</td>\n",
       "      <td>0.507247</td>\n",
       "      <td>-0.233298</td>\n",
       "      <td>-0.164215</td>\n",
       "    </tr>\n",
       "    <tr>\n",
       "      <th>...</th>\n",
       "      <td>...</td>\n",
       "      <td>...</td>\n",
       "      <td>...</td>\n",
       "      <td>...</td>\n",
       "    </tr>\n",
       "    <tr>\n",
       "      <th>64243</th>\n",
       "      <td>115322</td>\n",
       "      <td>-2.146138</td>\n",
       "      <td>-0.165824</td>\n",
       "      <td>-0.159352</td>\n",
       "    </tr>\n",
       "    <tr>\n",
       "      <th>64244</th>\n",
       "      <td>115323</td>\n",
       "      <td>-2.146138</td>\n",
       "      <td>-0.233298</td>\n",
       "      <td>0.036417</td>\n",
       "    </tr>\n",
       "    <tr>\n",
       "      <th>64245</th>\n",
       "      <td>115324</td>\n",
       "      <td>-2.146138</td>\n",
       "      <td>-0.233298</td>\n",
       "      <td>-0.167242</td>\n",
       "    </tr>\n",
       "    <tr>\n",
       "      <th>64246</th>\n",
       "      <td>115325</td>\n",
       "      <td>-2.146138</td>\n",
       "      <td>-0.165824</td>\n",
       "      <td>-0.164918</td>\n",
       "    </tr>\n",
       "    <tr>\n",
       "      <th>64247</th>\n",
       "      <td>115326</td>\n",
       "      <td>-2.146138</td>\n",
       "      <td>-0.233298</td>\n",
       "      <td>-0.003571</td>\n",
       "    </tr>\n",
       "  </tbody>\n",
       "</table>\n",
       "<p>64248 rows × 4 columns</p>\n",
       "</div>"
      ],
      "text/plain": [
       "       cust_id         r         f         m\n",
       "0            4 -2.135036  2.465659  1.104669\n",
       "1           15  0.418431  0.104072 -0.159017\n",
       "2           16  1.428715  1.048707  0.382779\n",
       "3           20 -2.135036  0.441441  1.166270\n",
       "4           21  0.507247 -0.233298 -0.164215\n",
       "...        ...       ...       ...       ...\n",
       "64243   115322 -2.146138 -0.165824 -0.159352\n",
       "64244   115323 -2.146138 -0.233298  0.036417\n",
       "64245   115324 -2.146138 -0.233298 -0.167242\n",
       "64246   115325 -2.146138 -0.165824 -0.164918\n",
       "64247   115326 -2.146138 -0.233298 -0.003571\n",
       "\n",
       "[64248 rows x 4 columns]"
      ]
     },
     "execution_count": 300,
     "metadata": {},
     "output_type": "execute_result"
    }
   ],
   "source": [
    "# scaling the data\n",
    "scaled_features = overall[['cust_id','recency','frequency','monetary']].copy()\n",
    "\n",
    "scaled_features['r'] = StandardScaler().fit_transform(scaled_features[['recency']])\n",
    "scaled_features['f'] = StandardScaler().fit_transform(scaled_features[['frequency']])\n",
    "scaled_features['m'] = StandardScaler().fit_transform(scaled_features[['monetary']])\n",
    "scaled_features = scaled_features.drop(['recency','frequency','monetary'], axis=1)\n",
    "scaled_features"
   ]
  },
  {
   "cell_type": "markdown",
   "metadata": {},
   "source": [
    "### Calculating silhouette_score"
   ]
  },
  {
   "cell_type": "code",
   "execution_count": 301,
   "metadata": {},
   "outputs": [
    {
     "name": "stdout",
     "output_type": "stream",
     "text": [
      "silhouette_scores for cluster 2: 0.9915833212611026\n",
      "silhouette_scores for cluster 3: 0.5522768123097602\n",
      "silhouette_scores for cluster 4: 0.5605788866361462\n",
      "silhouette_scores for cluster 5: 0.5373550194469808\n",
      "silhouette_scores for cluster 6: 0.5345211595414834\n",
      "silhouette_scores for cluster 7: 0.5392396207398354\n",
      "silhouette_scores for cluster 8: 0.5469663630688951\n",
      "silhouette_scores for cluster 9: 0.551295529178044\n",
      "optimal_clusters:2\n"
     ]
    }
   ],
   "source": [
    "from sklearn.metrics import silhouette_score\n",
    "\n",
    "# Preprocessing\n",
    "# scaler = StandardScaler()\n",
    "# rfm_scaled = scaler.fit_transform(scaled_features_minmax)\n",
    "\n",
    "# Determine optimal clusters\n",
    "silhouette_scores = []\n",
    "for n_clusters in range(2, 10):\n",
    "    kmeans = KMeans(n_clusters=n_clusters)\n",
    "    kmeans.fit(scaled_features[['m', 'r','f']]) #standard scaler\n",
    "    score = silhouette_score(scaled_features[['m', 'r','f']], kmeans.labels_)\n",
    "    silhouette_scores.append(score)\n",
    "    print(F\"silhouette_scores for cluster {n_clusters}: {score}\")\n",
    "\n",
    "# Choose optimal number of clusters\n",
    "optimal_clusters = silhouette_scores.index(max(silhouette_scores)) + 2\n",
    "print(F\"optimal_clusters:{optimal_clusters}\")"
   ]
  },
  {
   "cell_type": "markdown",
   "metadata": {},
   "source": [
    "### Kmean Clustering"
   ]
  },
  {
   "cell_type": "code",
   "execution_count": 302,
   "metadata": {
    "colab": {
     "base_uri": "https://localhost:8080/",
     "height": 472
    },
    "executionInfo": {
     "elapsed": 2363,
     "status": "ok",
     "timestamp": 1731028125549,
     "user": {
      "displayName": "Nyein Chan Aung",
      "userId": "10271779707834005263"
     },
     "user_tz": -420
    },
    "id": "URyiz0q2lr4N",
    "outputId": "233cb585-9681-4730-9860-6e998845ef28"
   },
   "outputs": [
    {
     "data": {
      "image/png": "[encoded data removed]",
      "text/plain": [
       "<Figure size 640x480 with 1 Axes>"
      ]
     },
     "metadata": {},
     "output_type": "display_data"
    }
   ],
   "source": [
    "# generate k-mean Elbow chat for scaled_features\n",
    "wcss = []\n",
    "for i in range(1, 10):\n",
    "    kmeans = KMeans(n_clusters = i, init = 'k-means++', random_state = 42)\n",
    "    kmeans.fit(scaled_features[['m', 'r','f']])\n",
    "    wcss.append(kmeans.inertia_)\n",
    "\n",
    "plt.plot(range(1, 10), wcss, '-o')\n",
    "plt.title('The Elbow Method - StandardScaler')\n",
    "plt.xlabel('Number of clusters')\n",
    "plt.ylabel('WCSS')\n",
    "plt.show()"
   ]
  },
  {
   "cell_type": "code",
   "execution_count": 303,
   "metadata": {
    "colab": {
     "base_uri": "https://localhost:8080/",
     "height": 424
    },
    "executionInfo": {
     "elapsed": 6,
     "status": "ok",
     "timestamp": 1731028125549,
     "user": {
      "displayName": "Nyein Chan Aung",
      "userId": "10271779707834005263"
     },
     "user_tz": -420
    },
    "id": "gMDCI9JAT9CC",
    "outputId": "fddca503-c180-4f86-ee69-82bd0bc5915e"
   },
   "outputs": [],
   "source": [
    "# scaled_features['k_means_clust'] = kmeans.labels_\n",
    "# scaled_features"
   ]
  },
  {
   "cell_type": "code",
   "execution_count": 304,
   "metadata": {
    "colab": {
     "base_uri": "https://localhost:8080/",
     "height": 675
    },
    "executionInfo": {
     "elapsed": 4839,
     "status": "ok",
     "timestamp": 1731028130383,
     "user": {
      "displayName": "Nyein Chan Aung",
      "userId": "10271779707834005263"
     },
     "user_tz": -420
    },
    "id": "p8vggODuYUbk",
    "outputId": "02f89aab-fe79-4374-e522-a1ec074af449"
   },
   "outputs": [],
   "source": [
    "# # generate 3D plot with scaled_features_minmax\n",
    "# from mpl_toolkits.mplot3d import Axes3D\n",
    "# from mpl_toolkits.mplot3d import axes3d\n",
    "\n",
    "# # 3D Scatter Plot\n",
    "# fig = plt.figure(figsize=(12, 8))\n",
    "# ax = fig.add_subplot(111, projection='3d')\n",
    "# scatter = ax.scatter(scaled_features['recency'],\n",
    "#                      scaled_features['frequency'],\n",
    "#                      scaled_features['monetary'],\n",
    "#                      c=scaled_features['k_means_clust'],\n",
    "#                      cmap='spring', s=50)\n",
    "\n",
    "# # Axis Labels\n",
    "# ax.set_xlabel('Recency')\n",
    "# ax.set_ylabel('Frequency')\n",
    "# ax.set_zlabel('Monetary')\n",
    "# ax.set_title('3D RFM K-Means Clustering')\n",
    "\n",
    "# plt.show()\n"
   ]
  },
  {
   "cell_type": "markdown",
   "metadata": {
    "id": "T9Qb_mxWO7_R"
   },
   "source": [
    "### Scaling with MinMaxScaler"
   ]
  },
  {
   "cell_type": "code",
   "execution_count": 305,
   "metadata": {
    "colab": {
     "base_uri": "https://localhost:8080/"
    },
    "executionInfo": {
     "elapsed": 10,
     "status": "ok",
     "timestamp": 1731028130383,
     "user": {
      "displayName": "Nyein Chan Aung",
      "userId": "10271779707834005263"
     },
     "user_tz": -420
    },
    "id": "m79ihgp3T9CC",
    "outputId": "418080bb-1008-4fc4-d44e-40025d0b70b5"
   },
   "outputs": [
    {
     "name": "stdout",
     "output_type": "stream",
     "text": [
      "       cust_id         r         f         m\n",
      "0            4  0.002747  0.015854  0.014416\n",
      "1           15  0.634615  0.001982  0.000114\n",
      "2           16  0.884615  0.007531  0.006246\n",
      "3           20  0.002747  0.003964  0.015113\n",
      "4           21  0.656593  0.000000  0.000055\n",
      "...        ...       ...       ...       ...\n",
      "64243   115322  0.000000  0.000396  0.000110\n",
      "64244   115323  0.000000  0.000000  0.002326\n",
      "64245   115324  0.000000  0.000000  0.000021\n",
      "64246   115325  0.000000  0.000396  0.000047\n",
      "64247   115326  0.000000  0.000000  0.001873\n",
      "\n",
      "[64248 rows x 4 columns]\n"
     ]
    }
   ],
   "source": [
    "# import module\n",
    "from sklearn.preprocessing import MinMaxScaler\n",
    "# copy data\n",
    "\n",
    "scaled_features_minmax = overall[['cust_id','recency','frequency','monetary']].copy()\n",
    "# scale features\n",
    "scaled_features_minmax['r'] = MinMaxScaler().fit_transform(scaled_features_minmax[['recency']])\n",
    "scaled_features_minmax['f'] = MinMaxScaler().fit_transform(scaled_features_minmax[['frequency']])\n",
    "scaled_features_minmax['m'] = MinMaxScaler().fit_transform(scaled_features_minmax[['monetary']])\n",
    "scaled_features_minmax = scaled_features_minmax.drop(['recency','frequency','monetary'], axis=1)\n",
    "\n",
    "# print scaled features\n",
    "print(scaled_features_minmax)\n"
   ]
  },
  {
   "cell_type": "code",
   "execution_count": 306,
   "metadata": {
    "colab": {
     "base_uri": "https://localhost:8080/",
     "height": 472
    },
    "executionInfo": {
     "elapsed": 1933,
     "status": "ok",
     "timestamp": 1731028132310,
     "user": {
      "displayName": "Nyein Chan Aung",
      "userId": "10271779707834005263"
     },
     "user_tz": -420
    },
    "id": "eGnn0XRdT9CC",
    "outputId": "0fddf95e-68b5-46a6-c80c-e21ffdef1bd1"
   },
   "outputs": [
    {
     "data": {
      "image/png": "[encoded data removed]",
      "text/plain": [
       "<Figure size 640x480 with 1 Axes>"
      ]
     },
     "metadata": {},
     "output_type": "display_data"
    }
   ],
   "source": [
    "# generate k-mean Elbow chat for scaled_features\n",
    "wcss = []\n",
    "for i in range(1, 10):\n",
    "    kmeans = KMeans(n_clusters = i, init = 'k-means++', random_state = 42)\n",
    "    kmeans.fit(scaled_features_minmax[['r', 'f','m']])\n",
    "    wcss.append(kmeans.inertia_)\n",
    "\n",
    "plt.plot(range(1, 10), wcss, '-o')\n",
    "plt.title('The Elbow Method - MinMaxScaler')\n",
    "plt.xlabel('Number of clusters')\n",
    "plt.ylabel('WCSS')\n",
    "plt.show()"
   ]
  },
  {
   "cell_type": "code",
   "execution_count": null,
   "metadata": {},
   "outputs": [
    {
     "data": {
      "text/html": [
       "<style>#sk-container-id-4 {\n",
       "  /* Definition of color scheme common for light and dark mode */\n",
       "  --sklearn-color-text: black;\n",
       "  --sklearn-color-line: gray;\n",
       "  /* Definition of color scheme for unfitted estimators */\n",
       "  --sklearn-color-unfitted-level-0: #fff5e6;\n",
       "  --sklearn-color-unfitted-level-1: #f6e4d2;\n",
       "  --sklearn-color-unfitted-level-2: #ffe0b3;\n",
       "  --sklearn-color-unfitted-level-3: chocolate;\n",
       "  /* Definition of color scheme for fitted estimators */\n",
       "  --sklearn-color-fitted-level-0: #f0f8ff;\n",
       "  --sklearn-color-fitted-level-1: #d4ebff;\n",
       "  --sklearn-color-fitted-level-2: #b3dbfd;\n",
       "  --sklearn-color-fitted-level-3: cornflowerblue;\n",
       "\n",
       "  /* Specific color for light theme */\n",
       "  --sklearn-color-text-on-default-background: var(--sg-text-color, var(--theme-code-foreground, var(--jp-content-font-color1, black)));\n",
       "  --sklearn-color-background: var(--sg-background-color, var(--theme-background, var(--jp-layout-color0, white)));\n",
       "  --sklearn-color-border-box: var(--sg-text-color, var(--theme-code-foreground, var(--jp-content-font-color1, black)));\n",
       "  --sklearn-color-icon: #696969;\n",
       "\n",
       "  @media (prefers-color-scheme: dark) {\n",
       "    /* Redefinition of color scheme for dark theme */\n",
       "    --sklearn-color-text-on-default-background: var(--sg-text-color, var(--theme-code-foreground, var(--jp-content-font-color1, white)));\n",
       "    --sklearn-color-background: var(--sg-background-color, var(--theme-background, var(--jp-layout-color0, #111)));\n",
       "    --sklearn-color-border-box: var(--sg-text-color, var(--theme-code-foreground, var(--jp-content-font-color1, white)));\n",
       "    --sklearn-color-icon: #878787;\n",
       "  }\n",
       "}\n",
       "\n",
       "#sk-container-id-4 {\n",
       "  color: var(--sklearn-color-text);\n",
       "}\n",
       "\n",
       "#sk-container-id-4 pre {\n",
       "  padding: 0;\n",
       "}\n",
       "\n",
       "#sk-container-id-4 input.sk-hidden--visually {\n",
       "  border: 0;\n",
       "  clip: rect(1px 1px 1px 1px);\n",
       "  clip: rect(1px, 1px, 1px, 1px);\n",
       "  height: 1px;\n",
       "  margin: -1px;\n",
       "  overflow: hidden;\n",
       "  padding: 0;\n",
       "  position: absolute;\n",
       "  width: 1px;\n",
       "}\n",
       "\n",
       "#sk-container-id-4 div.sk-dashed-wrapped {\n",
       "  border: 1px dashed var(--sklearn-color-line);\n",
       "  margin: 0 0.4em 0.5em 0.4em;\n",
       "  box-sizing: border-box;\n",
       "  padding-bottom: 0.4em;\n",
       "  background-color: var(--sklearn-color-background);\n",
       "}\n",
       "\n",
       "#sk-container-id-4 div.sk-container {\n",
       "  /* jupyter's `normalize.less` sets `[hidden] { display: none; }`\n",
       "     but bootstrap.min.css set `[hidden] { display: none !important; }`\n",
       "     so we also need the `!important` here to be able to override the\n",
       "     default hidden behavior on the sphinx rendered scikit-learn.org.\n",
       "     See: https://github.com/scikit-learn/scikit-learn/issues/21755 */\n",
       "  display: inline-block !important;\n",
       "  position: relative;\n",
       "}\n",
       "\n",
       "#sk-container-id-4 div.sk-text-repr-fallback {\n",
       "  display: none;\n",
       "}\n",
       "\n",
       "div.sk-parallel-item,\n",
       "div.sk-serial,\n",
       "div.sk-item {\n",
       "  /* draw centered vertical line to link estimators */\n",
       "  background-image: linear-gradient(var(--sklearn-color-text-on-default-background), var(--sklearn-color-text-on-default-background));\n",
       "  background-size: 2px 100%;\n",
       "  background-repeat: no-repeat;\n",
       "  background-position: center center;\n",
       "}\n",
       "\n",
       "/* Parallel-specific style estimator block */\n",
       "\n",
       "#sk-container-id-4 div.sk-parallel-item::after {\n",
       "  content: \"\";\n",
       "  width: 100%;\n",
       "  border-bottom: 2px solid var(--sklearn-color-text-on-default-background);\n",
       "  flex-grow: 1;\n",
       "}\n",
       "\n",
       "#sk-container-id-4 div.sk-parallel {\n",
       "  display: flex;\n",
       "  align-items: stretch;\n",
       "  justify-content: center;\n",
       "  background-color: var(--sklearn-color-background);\n",
       "  position: relative;\n",
       "}\n",
       "\n",
       "#sk-container-id-4 div.sk-parallel-item {\n",
       "  display: flex;\n",
       "  flex-direction: column;\n",
       "}\n",
       "\n",
       "#sk-container-id-4 div.sk-parallel-item:first-child::after {\n",
       "  align-self: flex-end;\n",
       "  width: 50%;\n",
       "}\n",
       "\n",
       "#sk-container-id-4 div.sk-parallel-item:last-child::after {\n",
       "  align-self: flex-start;\n",
       "  width: 50%;\n",
       "}\n",
       "\n",
       "#sk-container-id-4 div.sk-parallel-item:only-child::after {\n",
       "  width: 0;\n",
       "}\n",
       "\n",
       "/* Serial-specific style estimator block */\n",
       "\n",
       "#sk-container-id-4 div.sk-serial {\n",
       "  display: flex;\n",
       "  flex-direction: column;\n",
       "  align-items: center;\n",
       "  background-color: var(--sklearn-color-background);\n",
       "  padding-right: 1em;\n",
       "  padding-left: 1em;\n",
       "}\n",
       "\n",
       "\n",
       "/* Toggleable style: style used for estimator/Pipeline/ColumnTransformer box that is\n",
       "clickable and can be expanded/collapsed.\n",
       "- Pipeline and ColumnTransformer use this feature and define the default style\n",
       "- Estimators will overwrite some part of the style using the `sk-estimator` class\n",
       "*/\n",
       "\n",
       "/* Pipeline and ColumnTransformer style (default) */\n",
       "\n",
       "#sk-container-id-4 div.sk-toggleable {\n",
       "  /* Default theme specific background. It is overwritten whether we have a\n",
       "  specific estimator or a Pipeline/ColumnTransformer */\n",
       "  background-color: var(--sklearn-color-background);\n",
       "}\n",
       "\n",
       "/* Toggleable label */\n",
       "#sk-container-id-4 label.sk-toggleable__label {\n",
       "  cursor: pointer;\n",
       "  display: block;\n",
       "  width: 100%;\n",
       "  margin-bottom: 0;\n",
       "  padding: 0.5em;\n",
       "  box-sizing: border-box;\n",
       "  text-align: center;\n",
       "}\n",
       "\n",
       "#sk-container-id-4 label.sk-toggleable__label-arrow:before {\n",
       "  /* Arrow on the left of the label */\n",
       "  content: \"▸\";\n",
       "  float: left;\n",
       "  margin-right: 0.25em;\n",
       "  color: var(--sklearn-color-icon);\n",
       "}\n",
       "\n",
       "#sk-container-id-4 label.sk-toggleable__label-arrow:hover:before {\n",
       "  color: var(--sklearn-color-text);\n",
       "}\n",
       "\n",
       "/* Toggleable content - dropdown */\n",
       "\n",
       "#sk-container-id-4 div.sk-toggleable__content {\n",
       "  max-height: 0;\n",
       "  max-width: 0;\n",
       "  overflow: hidden;\n",
       "  text-align: left;\n",
       "  /* unfitted */\n",
       "  background-color: var(--sklearn-color-unfitted-level-0);\n",
       "}\n",
       "\n",
       "#sk-container-id-4 div.sk-toggleable__content.fitted {\n",
       "  /* fitted */\n",
       "  background-color: var(--sklearn-color-fitted-level-0);\n",
       "}\n",
       "\n",
       "#sk-container-id-4 div.sk-toggleable__content pre {\n",
       "  margin: 0.2em;\n",
       "  border-radius: 0.25em;\n",
       "  color: var(--sklearn-color-text);\n",
       "  /* unfitted */\n",
       "  background-color: var(--sklearn-color-unfitted-level-0);\n",
       "}\n",
       "\n",
       "#sk-container-id-4 div.sk-toggleable__content.fitted pre {\n",
       "  /* unfitted */\n",
       "  background-color: var(--sklearn-color-fitted-level-0);\n",
       "}\n",
       "\n",
       "#sk-container-id-4 input.sk-toggleable__control:checked~div.sk-toggleable__content {\n",
       "  /* Expand drop-down */\n",
       "  max-height: 200px;\n",
       "  max-width: 100%;\n",
       "  overflow: auto;\n",
       "}\n",
       "\n",
       "#sk-container-id-4 input.sk-toggleable__control:checked~label.sk-toggleable__label-arrow:before {\n",
       "  content: \"▾\";\n",
       "}\n",
       "\n",
       "/* Pipeline/ColumnTransformer-specific style */\n",
       "\n",
       "#sk-container-id-4 div.sk-label input.sk-toggleable__control:checked~label.sk-toggleable__label {\n",
       "  color: var(--sklearn-color-text);\n",
       "  background-color: var(--sklearn-color-unfitted-level-2);\n",
       "}\n",
       "\n",
       "#sk-container-id-4 div.sk-label.fitted input.sk-toggleable__control:checked~label.sk-toggleable__label {\n",
       "  background-color: var(--sklearn-color-fitted-level-2);\n",
       "}\n",
       "\n",
       "/* Estimator-specific style */\n",
       "\n",
       "/* Colorize estimator box */\n",
       "#sk-container-id-4 div.sk-estimator input.sk-toggleable__control:checked~label.sk-toggleable__label {\n",
       "  /* unfitted */\n",
       "  background-color: var(--sklearn-color-unfitted-level-2);\n",
       "}\n",
       "\n",
       "#sk-container-id-4 div.sk-estimator.fitted input.sk-toggleable__control:checked~label.sk-toggleable__label {\n",
       "  /* fitted */\n",
       "  background-color: var(--sklearn-color-fitted-level-2);\n",
       "}\n",
       "\n",
       "#sk-container-id-4 div.sk-label label.sk-toggleable__label,\n",
       "#sk-container-id-4 div.sk-label label {\n",
       "  /* The background is the default theme color */\n",
       "  color: var(--sklearn-color-text-on-default-background);\n",
       "}\n",
       "\n",
       "/* On hover, darken the color of the background */\n",
       "#sk-container-id-4 div.sk-label:hover label.sk-toggleable__label {\n",
       "  color: var(--sklearn-color-text);\n",
       "  background-color: var(--sklearn-color-unfitted-level-2);\n",
       "}\n",
       "\n",
       "/* Label box, darken color on hover, fitted */\n",
       "#sk-container-id-4 div.sk-label.fitted:hover label.sk-toggleable__label.fitted {\n",
       "  color: var(--sklearn-color-text);\n",
       "  background-color: var(--sklearn-color-fitted-level-2);\n",
       "}\n",
       "\n",
       "/* Estimator label */\n",
       "\n",
       "#sk-container-id-4 div.sk-label label {\n",
       "  font-family: monospace;\n",
       "  font-weight: bold;\n",
       "  display: inline-block;\n",
       "  line-height: 1.2em;\n",
       "}\n",
       "\n",
       "#sk-container-id-4 div.sk-label-container {\n",
       "  text-align: center;\n",
       "}\n",
       "\n",
       "/* Estimator-specific */\n",
       "#sk-container-id-4 div.sk-estimator {\n",
       "  font-family: monospace;\n",
       "  border: 1px dotted var(--sklearn-color-border-box);\n",
       "  border-radius: 0.25em;\n",
       "  box-sizing: border-box;\n",
       "  margin-bottom: 0.5em;\n",
       "  /* unfitted */\n",
       "  background-color: var(--sklearn-color-unfitted-level-0);\n",
       "}\n",
       "\n",
       "#sk-container-id-4 div.sk-estimator.fitted {\n",
       "  /* fitted */\n",
       "  background-color: var(--sklearn-color-fitted-level-0);\n",
       "}\n",
       "\n",
       "/* on hover */\n",
       "#sk-container-id-4 div.sk-estimator:hover {\n",
       "  /* unfitted */\n",
       "  background-color: var(--sklearn-color-unfitted-level-2);\n",
       "}\n",
       "\n",
       "#sk-container-id-4 div.sk-estimator.fitted:hover {\n",
       "  /* fitted */\n",
       "  background-color: var(--sklearn-color-fitted-level-2);\n",
       "}\n",
       "\n",
       "/* Specification for estimator info (e.g. \"i\" and \"?\") */\n",
       "\n",
       "/* Common style for \"i\" and \"?\" */\n",
       "\n",
       ".sk-estimator-doc-link,\n",
       "a:link.sk-estimator-doc-link,\n",
       "a:visited.sk-estimator-doc-link {\n",
       "  float: right;\n",
       "  font-size: smaller;\n",
       "  line-height: 1em;\n",
       "  font-family: monospace;\n",
       "  background-color: var(--sklearn-color-background);\n",
       "  border-radius: 1em;\n",
       "  height: 1em;\n",
       "  width: 1em;\n",
       "  text-decoration: none !important;\n",
       "  margin-left: 1ex;\n",
       "  /* unfitted */\n",
       "  border: var(--sklearn-color-unfitted-level-1) 1pt solid;\n",
       "  color: var(--sklearn-color-unfitted-level-1);\n",
       "}\n",
       "\n",
       ".sk-estimator-doc-link.fitted,\n",
       "a:link.sk-estimator-doc-link.fitted,\n",
       "a:visited.sk-estimator-doc-link.fitted {\n",
       "  /* fitted */\n",
       "  border: var(--sklearn-color-fitted-level-1) 1pt solid;\n",
       "  color: var(--sklearn-color-fitted-level-1);\n",
       "}\n",
       "\n",
       "/* On hover */\n",
       "div.sk-estimator:hover .sk-estimator-doc-link:hover,\n",
       ".sk-estimator-doc-link:hover,\n",
       "div.sk-label-container:hover .sk-estimator-doc-link:hover,\n",
       ".sk-estimator-doc-link:hover {\n",
       "  /* unfitted */\n",
       "  background-color: var(--sklearn-color-unfitted-level-3);\n",
       "  color: var(--sklearn-color-background);\n",
       "  text-decoration: none;\n",
       "}\n",
       "\n",
       "div.sk-estimator.fitted:hover .sk-estimator-doc-link.fitted:hover,\n",
       ".sk-estimator-doc-link.fitted:hover,\n",
       "div.sk-label-container:hover .sk-estimator-doc-link.fitted:hover,\n",
       ".sk-estimator-doc-link.fitted:hover {\n",
       "  /* fitted */\n",
       "  background-color: var(--sklearn-color-fitted-level-3);\n",
       "  color: var(--sklearn-color-background);\n",
       "  text-decoration: none;\n",
       "}\n",
       "\n",
       "/* Span, style for the box shown on hovering the info icon */\n",
       ".sk-estimator-doc-link span {\n",
       "  display: none;\n",
       "  z-index: 9999;\n",
       "  position: relative;\n",
       "  font-weight: normal;\n",
       "  right: .2ex;\n",
       "  padding: .5ex;\n",
       "  margin: .5ex;\n",
       "  width: min-content;\n",
       "  min-width: 20ex;\n",
       "  max-width: 50ex;\n",
       "  color: var(--sklearn-color-text);\n",
       "  box-shadow: 2pt 2pt 4pt #999;\n",
       "  /* unfitted */\n",
       "  background: var(--sklearn-color-unfitted-level-0);\n",
       "  border: .5pt solid var(--sklearn-color-unfitted-level-3);\n",
       "}\n",
       "\n",
       ".sk-estimator-doc-link.fitted span {\n",
       "  /* fitted */\n",
       "  background: var(--sklearn-color-fitted-level-0);\n",
       "  border: var(--sklearn-color-fitted-level-3);\n",
       "}\n",
       "\n",
       ".sk-estimator-doc-link:hover span {\n",
       "  display: block;\n",
       "}\n",
       "\n",
       "/* \"?\"-specific style due to the `<a>` HTML tag */\n",
       "\n",
       "#sk-container-id-4 a.estimator_doc_link {\n",
       "  float: right;\n",
       "  font-size: 1rem;\n",
       "  line-height: 1em;\n",
       "  font-family: monospace;\n",
       "  background-color: var(--sklearn-color-background);\n",
       "  border-radius: 1rem;\n",
       "  height: 1rem;\n",
       "  width: 1rem;\n",
       "  text-decoration: none;\n",
       "  /* unfitted */\n",
       "  color: var(--sklearn-color-unfitted-level-1);\n",
       "  border: var(--sklearn-color-unfitted-level-1) 1pt solid;\n",
       "}\n",
       "\n",
       "#sk-container-id-4 a.estimator_doc_link.fitted {\n",
       "  /* fitted */\n",
       "  border: var(--sklearn-color-fitted-level-1) 1pt solid;\n",
       "  color: var(--sklearn-color-fitted-level-1);\n",
       "}\n",
       "\n",
       "/* On hover */\n",
       "#sk-container-id-4 a.estimator_doc_link:hover {\n",
       "  /* unfitted */\n",
       "  background-color: var(--sklearn-color-unfitted-level-3);\n",
       "  color: var(--sklearn-color-background);\n",
       "  text-decoration: none;\n",
       "}\n",
       "\n",
       "#sk-container-id-4 a.estimator_doc_link.fitted:hover {\n",
       "  /* fitted */\n",
       "  background-color: var(--sklearn-color-fitted-level-3);\n",
       "}\n",
       "</style><div id=\"sk-container-id-4\" class=\"sk-top-container\"><div class=\"sk-text-repr-fallback\"><pre>KMeans(max_iter=50, n_clusters=3)</pre><b>In a Jupyter environment, please rerun this cell to show the HTML representation or trust the notebook. <br />On GitHub, the HTML representation is unable to render, please try loading this page with nbviewer.org.</b></div><div class=\"sk-container\" hidden><div class=\"sk-item\"><div class=\"sk-estimator fitted sk-toggleable\"><input class=\"sk-toggleable__control sk-hidden--visually\" id=\"sk-estimator-id-4\" type=\"checkbox\" checked><label for=\"sk-estimator-id-4\" class=\"sk-toggleable__label fitted sk-toggleable__label-arrow fitted\">&nbsp;&nbsp;KMeans<a class=\"sk-estimator-doc-link fitted\" rel=\"noreferrer\" target=\"_blank\" href=\"https://scikit-learn.org/1.5/modules/generated/sklearn.cluster.KMeans.html\">?<span>Documentation for KMeans</span></a><span class=\"sk-estimator-doc-link fitted\">i<span>Fitted</span></span></label><div class=\"sk-toggleable__content fitted\"><pre>KMeans(max_iter=50, n_clusters=3)</pre></div> </div></div></div></div>"
      ],
      "text/plain": [
       "KMeans(max_iter=50, n_clusters=3)"
      ]
     },
     "execution_count": 307,
     "metadata": {},
     "output_type": "execute_result"
    }
   ],
   "source": [
    "# kmeans = KMeans(n_clusters=3, max_iter=50)\n",
    "# kmeans.fit(scaled_features_minmax[['r', 'f','m']])"
   ]
  },
  {
   "cell_type": "markdown",
   "metadata": {},
   "source": [
    "### Calculating silhouette_score for min-max scaler"
   ]
  },
  {
   "cell_type": "code",
   "execution_count": 308,
   "metadata": {},
   "outputs": [
    {
     "name": "stdout",
     "output_type": "stream",
     "text": [
      "silhouette_scores for cluster 2: 0.6661860054524471\n",
      "silhouette_scores for cluster 3: 0.672792639781346\n",
      "silhouette_scores for cluster 4: 0.6653096892864028\n",
      "silhouette_scores for cluster 5: 0.6007388562915039\n",
      "silhouette_scores for cluster 6: 0.6503071188030142\n",
      "silhouette_scores for cluster 7: 0.6511900634911207\n",
      "silhouette_scores for cluster 8: 0.6519273665596296\n",
      "silhouette_scores for cluster 9: 0.6495332471916766\n",
      "optimal_clusters:3\n"
     ]
    }
   ],
   "source": [
    "from sklearn.metrics import silhouette_score\n",
    "\n",
    "# Preprocessing\n",
    "# scaler = StandardScaler()\n",
    "# rfm_scaled = scaler.fit_transform(scaled_features_minmax)\n",
    "\n",
    "# Determine optimal clusters\n",
    "silhouette_scores = []\n",
    "for n_clusters in range(2, 10):\n",
    "    kmeans = KMeans(n_clusters=n_clusters)\n",
    "    kmeans.fit(scaled_features_minmax[['m', 'r','f']])\n",
    "    score = silhouette_score(scaled_features_minmax[['m', 'r','f']], kmeans.labels_)\n",
    "    silhouette_scores.append(score)\n",
    "    print(F\"silhouette_scores for cluster {n_clusters}: {score}\")\n",
    "\n",
    "# Choose optimal number of clusters\n",
    "optimal_clusters = silhouette_scores.index(max(silhouette_scores)) + 2\n",
    "print(F\"optimal_clusters:{optimal_clusters}\")"
   ]
  },
  {
   "cell_type": "markdown",
   "metadata": {},
   "source": [
    "### Analysis\n",
    "\n",
    "- RFM results  have different units or ranges \n",
    "- According to data distribution of RFM standard scaler should be appied but there is no significant result of Elbow with the result of standard scaler\n",
    "- So, tried to evaluate with min-max scaler but the silhouette_score is not significant  \n",
    "\n",
    "The best number of **K**\n",
    "- As a result, the best number of K can be assumed as **3**.\n",
    "- So, try to find the averate number of Silhouette Score and Fit the model with StandardScaler"
   ]
  },
  {
   "cell_type": "code",
   "execution_count": 309,
   "metadata": {},
   "outputs": [
    {
     "data": {
      "text/html": [
       "<div>\n",
       "<style scoped>\n",
       "    .dataframe tbody tr th:only-of-type {\n",
       "        vertical-align: middle;\n",
       "    }\n",
       "\n",
       "    .dataframe tbody tr th {\n",
       "        vertical-align: top;\n",
       "    }\n",
       "\n",
       "    .dataframe thead th {\n",
       "        text-align: right;\n",
       "    }\n",
       "</style>\n",
       "<table border=\"1\" class=\"dataframe\">\n",
       "  <thead>\n",
       "    <tr style=\"text-align: right;\">\n",
       "      <th></th>\n",
       "      <th>cust_id</th>\n",
       "      <th>r</th>\n",
       "      <th>f</th>\n",
       "      <th>m</th>\n",
       "    </tr>\n",
       "  </thead>\n",
       "  <tbody>\n",
       "    <tr>\n",
       "      <th>0</th>\n",
       "      <td>4</td>\n",
       "      <td>-2.135036</td>\n",
       "      <td>2.465659</td>\n",
       "      <td>1.104669</td>\n",
       "    </tr>\n",
       "    <tr>\n",
       "      <th>1</th>\n",
       "      <td>15</td>\n",
       "      <td>0.418431</td>\n",
       "      <td>0.104072</td>\n",
       "      <td>-0.159017</td>\n",
       "    </tr>\n",
       "    <tr>\n",
       "      <th>2</th>\n",
       "      <td>16</td>\n",
       "      <td>1.428715</td>\n",
       "      <td>1.048707</td>\n",
       "      <td>0.382779</td>\n",
       "    </tr>\n",
       "    <tr>\n",
       "      <th>3</th>\n",
       "      <td>20</td>\n",
       "      <td>-2.135036</td>\n",
       "      <td>0.441441</td>\n",
       "      <td>1.166270</td>\n",
       "    </tr>\n",
       "    <tr>\n",
       "      <th>4</th>\n",
       "      <td>21</td>\n",
       "      <td>0.507247</td>\n",
       "      <td>-0.233298</td>\n",
       "      <td>-0.164215</td>\n",
       "    </tr>\n",
       "  </tbody>\n",
       "</table>\n",
       "</div>"
      ],
      "text/plain": [
       "   cust_id         r         f         m\n",
       "0        4 -2.135036  2.465659  1.104669\n",
       "1       15  0.418431  0.104072 -0.159017\n",
       "2       16  1.428715  1.048707  0.382779\n",
       "3       20 -2.135036  0.441441  1.166270\n",
       "4       21  0.507247 -0.233298 -0.164215"
      ]
     },
     "execution_count": 309,
     "metadata": {},
     "output_type": "execute_result"
    }
   ],
   "source": [
    "scaled_features.head()"
   ]
  },
  {
   "cell_type": "markdown",
   "metadata": {},
   "source": [
    "### Kmean Clustering"
   ]
  },
  {
   "cell_type": "code",
   "execution_count": 310,
   "metadata": {},
   "outputs": [],
   "source": [
    "# from sklearn.preprocessing import StandardScaler\n",
    "# from sklearn.cluster import KMeans\n",
    "# from sklearn.metrics import silhouette_score\n",
    "# import matplotlib.pyplot as plt\n",
    "\n",
    "\n",
    "# # Apply K-Means\n",
    "# kmeans = KMeans(n_clusters=3, random_state=42)\n",
    "# kmeans.fit(scaled_features[['recency', 'frequency', 'monetary']])\n",
    "\n",
    "# # Calculate Silhouette Score\n",
    "# silhouette_avg = silhouette_score(scaled_features[['recency', 'frequency', 'monetary']], kmeans.labels_)\n",
    "# print(f\"Silhouette Score: {silhouette_avg}\")\n",
    "\n",
    "# # Elbow Method\n",
    "# wcss = []\n",
    "# for k in range(1, 11):\n",
    "#     kmeans = KMeans(n_clusters=k, random_state=42)\n",
    "#     kmeans.fit(scaled_features[['recency', 'frequency', 'monetary']])\n",
    "#     wcss.append(kmeans.inertia_)\n",
    "\n",
    "# # Plot Elbow Method\n",
    "# plt.plot(range(1, 11), wcss, marker='o')\n",
    "# plt.xlabel('Number of Clusters (k)')\n",
    "# plt.ylabel('WCSS')\n",
    "# plt.title('Elbow Method')\n",
    "# plt.show()\n"
   ]
  },
  {
   "cell_type": "code",
   "execution_count": 311,
   "metadata": {
    "executionInfo": {
     "elapsed": 6,
     "status": "ok",
     "timestamp": 1731028132310,
     "user": {
      "displayName": "Nyein Chan Aung",
      "userId": "10271779707834005263"
     },
     "user_tz": -420
    },
    "id": "nXDPXpLpT9CD"
   },
   "outputs": [],
   "source": [
    "# for i in range(1, 10):\n",
    "#     kmeans = KMeans(n_clusters = i, max_iter=50 , random_state = 42)\n",
    "#     kmeans.fit(scaled_features_minmax[['r', 'f','m']])\n",
    "#     cluster_labels = kmeans.labels_"
   ]
  },
  {
   "cell_type": "code",
   "execution_count": 312,
   "metadata": {
    "colab": {
     "base_uri": "https://localhost:8080/",
     "height": 80
    },
    "executionInfo": {
     "elapsed": 6,
     "status": "ok",
     "timestamp": 1731028132311,
     "user": {
      "displayName": "Nyein Chan Aung",
      "userId": "10271779707834005263"
     },
     "user_tz": -420
    },
    "id": "9z1zEQONZqrl",
    "outputId": "9f8169a2-2fd1-4e6f-a40d-1c0269531da8"
   },
   "outputs": [
    {
     "data": {
      "text/html": [
       "<style>#sk-container-id-5 {\n",
       "  /* Definition of color scheme common for light and dark mode */\n",
       "  --sklearn-color-text: black;\n",
       "  --sklearn-color-line: gray;\n",
       "  /* Definition of color scheme for unfitted estimators */\n",
       "  --sklearn-color-unfitted-level-0: #fff5e6;\n",
       "  --sklearn-color-unfitted-level-1: #f6e4d2;\n",
       "  --sklearn-color-unfitted-level-2: #ffe0b3;\n",
       "  --sklearn-color-unfitted-level-3: chocolate;\n",
       "  /* Definition of color scheme for fitted estimators */\n",
       "  --sklearn-color-fitted-level-0: #f0f8ff;\n",
       "  --sklearn-color-fitted-level-1: #d4ebff;\n",
       "  --sklearn-color-fitted-level-2: #b3dbfd;\n",
       "  --sklearn-color-fitted-level-3: cornflowerblue;\n",
       "\n",
       "  /* Specific color for light theme */\n",
       "  --sklearn-color-text-on-default-background: var(--sg-text-color, var(--theme-code-foreground, var(--jp-content-font-color1, black)));\n",
       "  --sklearn-color-background: var(--sg-background-color, var(--theme-background, var(--jp-layout-color0, white)));\n",
       "  --sklearn-color-border-box: var(--sg-text-color, var(--theme-code-foreground, var(--jp-content-font-color1, black)));\n",
       "  --sklearn-color-icon: #696969;\n",
       "\n",
       "  @media (prefers-color-scheme: dark) {\n",
       "    /* Redefinition of color scheme for dark theme */\n",
       "    --sklearn-color-text-on-default-background: var(--sg-text-color, var(--theme-code-foreground, var(--jp-content-font-color1, white)));\n",
       "    --sklearn-color-background: var(--sg-background-color, var(--theme-background, var(--jp-layout-color0, #111)));\n",
       "    --sklearn-color-border-box: var(--sg-text-color, var(--theme-code-foreground, var(--jp-content-font-color1, white)));\n",
       "    --sklearn-color-icon: #878787;\n",
       "  }\n",
       "}\n",
       "\n",
       "#sk-container-id-5 {\n",
       "  color: var(--sklearn-color-text);\n",
       "}\n",
       "\n",
       "#sk-container-id-5 pre {\n",
       "  padding: 0;\n",
       "}\n",
       "\n",
       "#sk-container-id-5 input.sk-hidden--visually {\n",
       "  border: 0;\n",
       "  clip: rect(1px 1px 1px 1px);\n",
       "  clip: rect(1px, 1px, 1px, 1px);\n",
       "  height: 1px;\n",
       "  margin: -1px;\n",
       "  overflow: hidden;\n",
       "  padding: 0;\n",
       "  position: absolute;\n",
       "  width: 1px;\n",
       "}\n",
       "\n",
       "#sk-container-id-5 div.sk-dashed-wrapped {\n",
       "  border: 1px dashed var(--sklearn-color-line);\n",
       "  margin: 0 0.4em 0.5em 0.4em;\n",
       "  box-sizing: border-box;\n",
       "  padding-bottom: 0.4em;\n",
       "  background-color: var(--sklearn-color-background);\n",
       "}\n",
       "\n",
       "#sk-container-id-5 div.sk-container {\n",
       "  /* jupyter's `normalize.less` sets `[hidden] { display: none; }`\n",
       "     but bootstrap.min.css set `[hidden] { display: none !important; }`\n",
       "     so we also need the `!important` here to be able to override the\n",
       "     default hidden behavior on the sphinx rendered scikit-learn.org.\n",
       "     See: https://github.com/scikit-learn/scikit-learn/issues/21755 */\n",
       "  display: inline-block !important;\n",
       "  position: relative;\n",
       "}\n",
       "\n",
       "#sk-container-id-5 div.sk-text-repr-fallback {\n",
       "  display: none;\n",
       "}\n",
       "\n",
       "div.sk-parallel-item,\n",
       "div.sk-serial,\n",
       "div.sk-item {\n",
       "  /* draw centered vertical line to link estimators */\n",
       "  background-image: linear-gradient(var(--sklearn-color-text-on-default-background), var(--sklearn-color-text-on-default-background));\n",
       "  background-size: 2px 100%;\n",
       "  background-repeat: no-repeat;\n",
       "  background-position: center center;\n",
       "}\n",
       "\n",
       "/* Parallel-specific style estimator block */\n",
       "\n",
       "#sk-container-id-5 div.sk-parallel-item::after {\n",
       "  content: \"\";\n",
       "  width: 100%;\n",
       "  border-bottom: 2px solid var(--sklearn-color-text-on-default-background);\n",
       "  flex-grow: 1;\n",
       "}\n",
       "\n",
       "#sk-container-id-5 div.sk-parallel {\n",
       "  display: flex;\n",
       "  align-items: stretch;\n",
       "  justify-content: center;\n",
       "  background-color: var(--sklearn-color-background);\n",
       "  position: relative;\n",
       "}\n",
       "\n",
       "#sk-container-id-5 div.sk-parallel-item {\n",
       "  display: flex;\n",
       "  flex-direction: column;\n",
       "}\n",
       "\n",
       "#sk-container-id-5 div.sk-parallel-item:first-child::after {\n",
       "  align-self: flex-end;\n",
       "  width: 50%;\n",
       "}\n",
       "\n",
       "#sk-container-id-5 div.sk-parallel-item:last-child::after {\n",
       "  align-self: flex-start;\n",
       "  width: 50%;\n",
       "}\n",
       "\n",
       "#sk-container-id-5 div.sk-parallel-item:only-child::after {\n",
       "  width: 0;\n",
       "}\n",
       "\n",
       "/* Serial-specific style estimator block */\n",
       "\n",
       "#sk-container-id-5 div.sk-serial {\n",
       "  display: flex;\n",
       "  flex-direction: column;\n",
       "  align-items: center;\n",
       "  background-color: var(--sklearn-color-background);\n",
       "  padding-right: 1em;\n",
       "  padding-left: 1em;\n",
       "}\n",
       "\n",
       "\n",
       "/* Toggleable style: style used for estimator/Pipeline/ColumnTransformer box that is\n",
       "clickable and can be expanded/collapsed.\n",
       "- Pipeline and ColumnTransformer use this feature and define the default style\n",
       "- Estimators will overwrite some part of the style using the `sk-estimator` class\n",
       "*/\n",
       "\n",
       "/* Pipeline and ColumnTransformer style (default) */\n",
       "\n",
       "#sk-container-id-5 div.sk-toggleable {\n",
       "  /* Default theme specific background. It is overwritten whether we have a\n",
       "  specific estimator or a Pipeline/ColumnTransformer */\n",
       "  background-color: var(--sklearn-color-background);\n",
       "}\n",
       "\n",
       "/* Toggleable label */\n",
       "#sk-container-id-5 label.sk-toggleable__label {\n",
       "  cursor: pointer;\n",
       "  display: block;\n",
       "  width: 100%;\n",
       "  margin-bottom: 0;\n",
       "  padding: 0.5em;\n",
       "  box-sizing: border-box;\n",
       "  text-align: center;\n",
       "}\n",
       "\n",
       "#sk-container-id-5 label.sk-toggleable__label-arrow:before {\n",
       "  /* Arrow on the left of the label */\n",
       "  content: \"▸\";\n",
       "  float: left;\n",
       "  margin-right: 0.25em;\n",
       "  color: var(--sklearn-color-icon);\n",
       "}\n",
       "\n",
       "#sk-container-id-5 label.sk-toggleable__label-arrow:hover:before {\n",
       "  color: var(--sklearn-color-text);\n",
       "}\n",
       "\n",
       "/* Toggleable content - dropdown */\n",
       "\n",
       "#sk-container-id-5 div.sk-toggleable__content {\n",
       "  max-height: 0;\n",
       "  max-width: 0;\n",
       "  overflow: hidden;\n",
       "  text-align: left;\n",
       "  /* unfitted */\n",
       "  background-color: var(--sklearn-color-unfitted-level-0);\n",
       "}\n",
       "\n",
       "#sk-container-id-5 div.sk-toggleable__content.fitted {\n",
       "  /* fitted */\n",
       "  background-color: var(--sklearn-color-fitted-level-0);\n",
       "}\n",
       "\n",
       "#sk-container-id-5 div.sk-toggleable__content pre {\n",
       "  margin: 0.2em;\n",
       "  border-radius: 0.25em;\n",
       "  color: var(--sklearn-color-text);\n",
       "  /* unfitted */\n",
       "  background-color: var(--sklearn-color-unfitted-level-0);\n",
       "}\n",
       "\n",
       "#sk-container-id-5 div.sk-toggleable__content.fitted pre {\n",
       "  /* unfitted */\n",
       "  background-color: var(--sklearn-color-fitted-level-0);\n",
       "}\n",
       "\n",
       "#sk-container-id-5 input.sk-toggleable__control:checked~div.sk-toggleable__content {\n",
       "  /* Expand drop-down */\n",
       "  max-height: 200px;\n",
       "  max-width: 100%;\n",
       "  overflow: auto;\n",
       "}\n",
       "\n",
       "#sk-container-id-5 input.sk-toggleable__control:checked~label.sk-toggleable__label-arrow:before {\n",
       "  content: \"▾\";\n",
       "}\n",
       "\n",
       "/* Pipeline/ColumnTransformer-specific style */\n",
       "\n",
       "#sk-container-id-5 div.sk-label input.sk-toggleable__control:checked~label.sk-toggleable__label {\n",
       "  color: var(--sklearn-color-text);\n",
       "  background-color: var(--sklearn-color-unfitted-level-2);\n",
       "}\n",
       "\n",
       "#sk-container-id-5 div.sk-label.fitted input.sk-toggleable__control:checked~label.sk-toggleable__label {\n",
       "  background-color: var(--sklearn-color-fitted-level-2);\n",
       "}\n",
       "\n",
       "/* Estimator-specific style */\n",
       "\n",
       "/* Colorize estimator box */\n",
       "#sk-container-id-5 div.sk-estimator input.sk-toggleable__control:checked~label.sk-toggleable__label {\n",
       "  /* unfitted */\n",
       "  background-color: var(--sklearn-color-unfitted-level-2);\n",
       "}\n",
       "\n",
       "#sk-container-id-5 div.sk-estimator.fitted input.sk-toggleable__control:checked~label.sk-toggleable__label {\n",
       "  /* fitted */\n",
       "  background-color: var(--sklearn-color-fitted-level-2);\n",
       "}\n",
       "\n",
       "#sk-container-id-5 div.sk-label label.sk-toggleable__label,\n",
       "#sk-container-id-5 div.sk-label label {\n",
       "  /* The background is the default theme color */\n",
       "  color: var(--sklearn-color-text-on-default-background);\n",
       "}\n",
       "\n",
       "/* On hover, darken the color of the background */\n",
       "#sk-container-id-5 div.sk-label:hover label.sk-toggleable__label {\n",
       "  color: var(--sklearn-color-text);\n",
       "  background-color: var(--sklearn-color-unfitted-level-2);\n",
       "}\n",
       "\n",
       "/* Label box, darken color on hover, fitted */\n",
       "#sk-container-id-5 div.sk-label.fitted:hover label.sk-toggleable__label.fitted {\n",
       "  color: var(--sklearn-color-text);\n",
       "  background-color: var(--sklearn-color-fitted-level-2);\n",
       "}\n",
       "\n",
       "/* Estimator label */\n",
       "\n",
       "#sk-container-id-5 div.sk-label label {\n",
       "  font-family: monospace;\n",
       "  font-weight: bold;\n",
       "  display: inline-block;\n",
       "  line-height: 1.2em;\n",
       "}\n",
       "\n",
       "#sk-container-id-5 div.sk-label-container {\n",
       "  text-align: center;\n",
       "}\n",
       "\n",
       "/* Estimator-specific */\n",
       "#sk-container-id-5 div.sk-estimator {\n",
       "  font-family: monospace;\n",
       "  border: 1px dotted var(--sklearn-color-border-box);\n",
       "  border-radius: 0.25em;\n",
       "  box-sizing: border-box;\n",
       "  margin-bottom: 0.5em;\n",
       "  /* unfitted */\n",
       "  background-color: var(--sklearn-color-unfitted-level-0);\n",
       "}\n",
       "\n",
       "#sk-container-id-5 div.sk-estimator.fitted {\n",
       "  /* fitted */\n",
       "  background-color: var(--sklearn-color-fitted-level-0);\n",
       "}\n",
       "\n",
       "/* on hover */\n",
       "#sk-container-id-5 div.sk-estimator:hover {\n",
       "  /* unfitted */\n",
       "  background-color: var(--sklearn-color-unfitted-level-2);\n",
       "}\n",
       "\n",
       "#sk-container-id-5 div.sk-estimator.fitted:hover {\n",
       "  /* fitted */\n",
       "  background-color: var(--sklearn-color-fitted-level-2);\n",
       "}\n",
       "\n",
       "/* Specification for estimator info (e.g. \"i\" and \"?\") */\n",
       "\n",
       "/* Common style for \"i\" and \"?\" */\n",
       "\n",
       ".sk-estimator-doc-link,\n",
       "a:link.sk-estimator-doc-link,\n",
       "a:visited.sk-estimator-doc-link {\n",
       "  float: right;\n",
       "  font-size: smaller;\n",
       "  line-height: 1em;\n",
       "  font-family: monospace;\n",
       "  background-color: var(--sklearn-color-background);\n",
       "  border-radius: 1em;\n",
       "  height: 1em;\n",
       "  width: 1em;\n",
       "  text-decoration: none !important;\n",
       "  margin-left: 1ex;\n",
       "  /* unfitted */\n",
       "  border: var(--sklearn-color-unfitted-level-1) 1pt solid;\n",
       "  color: var(--sklearn-color-unfitted-level-1);\n",
       "}\n",
       "\n",
       ".sk-estimator-doc-link.fitted,\n",
       "a:link.sk-estimator-doc-link.fitted,\n",
       "a:visited.sk-estimator-doc-link.fitted {\n",
       "  /* fitted */\n",
       "  border: var(--sklearn-color-fitted-level-1) 1pt solid;\n",
       "  color: var(--sklearn-color-fitted-level-1);\n",
       "}\n",
       "\n",
       "/* On hover */\n",
       "div.sk-estimator:hover .sk-estimator-doc-link:hover,\n",
       ".sk-estimator-doc-link:hover,\n",
       "div.sk-label-container:hover .sk-estimator-doc-link:hover,\n",
       ".sk-estimator-doc-link:hover {\n",
       "  /* unfitted */\n",
       "  background-color: var(--sklearn-color-unfitted-level-3);\n",
       "  color: var(--sklearn-color-background);\n",
       "  text-decoration: none;\n",
       "}\n",
       "\n",
       "div.sk-estimator.fitted:hover .sk-estimator-doc-link.fitted:hover,\n",
       ".sk-estimator-doc-link.fitted:hover,\n",
       "div.sk-label-container:hover .sk-estimator-doc-link.fitted:hover,\n",
       ".sk-estimator-doc-link.fitted:hover {\n",
       "  /* fitted */\n",
       "  background-color: var(--sklearn-color-fitted-level-3);\n",
       "  color: var(--sklearn-color-background);\n",
       "  text-decoration: none;\n",
       "}\n",
       "\n",
       "/* Span, style for the box shown on hovering the info icon */\n",
       ".sk-estimator-doc-link span {\n",
       "  display: none;\n",
       "  z-index: 9999;\n",
       "  position: relative;\n",
       "  font-weight: normal;\n",
       "  right: .2ex;\n",
       "  padding: .5ex;\n",
       "  margin: .5ex;\n",
       "  width: min-content;\n",
       "  min-width: 20ex;\n",
       "  max-width: 50ex;\n",
       "  color: var(--sklearn-color-text);\n",
       "  box-shadow: 2pt 2pt 4pt #999;\n",
       "  /* unfitted */\n",
       "  background: var(--sklearn-color-unfitted-level-0);\n",
       "  border: .5pt solid var(--sklearn-color-unfitted-level-3);\n",
       "}\n",
       "\n",
       ".sk-estimator-doc-link.fitted span {\n",
       "  /* fitted */\n",
       "  background: var(--sklearn-color-fitted-level-0);\n",
       "  border: var(--sklearn-color-fitted-level-3);\n",
       "}\n",
       "\n",
       ".sk-estimator-doc-link:hover span {\n",
       "  display: block;\n",
       "}\n",
       "\n",
       "/* \"?\"-specific style due to the `<a>` HTML tag */\n",
       "\n",
       "#sk-container-id-5 a.estimator_doc_link {\n",
       "  float: right;\n",
       "  font-size: 1rem;\n",
       "  line-height: 1em;\n",
       "  font-family: monospace;\n",
       "  background-color: var(--sklearn-color-background);\n",
       "  border-radius: 1rem;\n",
       "  height: 1rem;\n",
       "  width: 1rem;\n",
       "  text-decoration: none;\n",
       "  /* unfitted */\n",
       "  color: var(--sklearn-color-unfitted-level-1);\n",
       "  border: var(--sklearn-color-unfitted-level-1) 1pt solid;\n",
       "}\n",
       "\n",
       "#sk-container-id-5 a.estimator_doc_link.fitted {\n",
       "  /* fitted */\n",
       "  border: var(--sklearn-color-fitted-level-1) 1pt solid;\n",
       "  color: var(--sklearn-color-fitted-level-1);\n",
       "}\n",
       "\n",
       "/* On hover */\n",
       "#sk-container-id-5 a.estimator_doc_link:hover {\n",
       "  /* unfitted */\n",
       "  background-color: var(--sklearn-color-unfitted-level-3);\n",
       "  color: var(--sklearn-color-background);\n",
       "  text-decoration: none;\n",
       "}\n",
       "\n",
       "#sk-container-id-5 a.estimator_doc_link.fitted:hover {\n",
       "  /* fitted */\n",
       "  background-color: var(--sklearn-color-fitted-level-3);\n",
       "}\n",
       "</style><div id=\"sk-container-id-5\" class=\"sk-top-container\"><div class=\"sk-text-repr-fallback\"><pre>KMeans(max_iter=50, n_clusters=3)</pre><b>In a Jupyter environment, please rerun this cell to show the HTML representation or trust the notebook. <br />On GitHub, the HTML representation is unable to render, please try loading this page with nbviewer.org.</b></div><div class=\"sk-container\" hidden><div class=\"sk-item\"><div class=\"sk-estimator fitted sk-toggleable\"><input class=\"sk-toggleable__control sk-hidden--visually\" id=\"sk-estimator-id-5\" type=\"checkbox\" checked><label for=\"sk-estimator-id-5\" class=\"sk-toggleable__label fitted sk-toggleable__label-arrow fitted\">&nbsp;&nbsp;KMeans<a class=\"sk-estimator-doc-link fitted\" rel=\"noreferrer\" target=\"_blank\" href=\"https://scikit-learn.org/1.5/modules/generated/sklearn.cluster.KMeans.html\">?<span>Documentation for KMeans</span></a><span class=\"sk-estimator-doc-link fitted\">i<span>Fitted</span></span></label><div class=\"sk-toggleable__content fitted\"><pre>KMeans(max_iter=50, n_clusters=3)</pre></div> </div></div></div></div>"
      ],
      "text/plain": [
       "KMeans(max_iter=50, n_clusters=3)"
      ]
     },
     "execution_count": 312,
     "metadata": {},
     "output_type": "execute_result"
    }
   ],
   "source": [
    "kmeans = KMeans(n_clusters=3, max_iter=50)\n",
    "kmeans.fit(scaled_features_minmax[['r', 'f','m']])"
   ]
  },
  {
   "cell_type": "code",
   "execution_count": 323,
   "metadata": {
    "executionInfo": {
     "elapsed": 5,
     "status": "ok",
     "timestamp": 1731028132311,
     "user": {
      "displayName": "Nyein Chan Aung",
      "userId": "10271779707834005263"
     },
     "user_tz": -420
    },
    "id": "eeDEv-_ZT9CD"
   },
   "outputs": [
    {
     "data": {
      "text/html": [
       "<div>\n",
       "<style scoped>\n",
       "    .dataframe tbody tr th:only-of-type {\n",
       "        vertical-align: middle;\n",
       "    }\n",
       "\n",
       "    .dataframe tbody tr th {\n",
       "        vertical-align: top;\n",
       "    }\n",
       "\n",
       "    .dataframe thead th {\n",
       "        text-align: right;\n",
       "    }\n",
       "</style>\n",
       "<table border=\"1\" class=\"dataframe\">\n",
       "  <thead>\n",
       "    <tr style=\"text-align: right;\">\n",
       "      <th></th>\n",
       "      <th>cust_id</th>\n",
       "      <th>r</th>\n",
       "      <th>f</th>\n",
       "      <th>m</th>\n",
       "      <th>k_means_clust</th>\n",
       "    </tr>\n",
       "  </thead>\n",
       "  <tbody>\n",
       "    <tr>\n",
       "      <th>0</th>\n",
       "      <td>4</td>\n",
       "      <td>-2.135036</td>\n",
       "      <td>2.465659</td>\n",
       "      <td>1.104669</td>\n",
       "      <td>1</td>\n",
       "    </tr>\n",
       "    <tr>\n",
       "      <th>1</th>\n",
       "      <td>15</td>\n",
       "      <td>0.418431</td>\n",
       "      <td>0.104072</td>\n",
       "      <td>-0.159017</td>\n",
       "      <td>0</td>\n",
       "    </tr>\n",
       "    <tr>\n",
       "      <th>2</th>\n",
       "      <td>16</td>\n",
       "      <td>1.428715</td>\n",
       "      <td>1.048707</td>\n",
       "      <td>0.382779</td>\n",
       "      <td>0</td>\n",
       "    </tr>\n",
       "    <tr>\n",
       "      <th>3</th>\n",
       "      <td>20</td>\n",
       "      <td>-2.135036</td>\n",
       "      <td>0.441441</td>\n",
       "      <td>1.166270</td>\n",
       "      <td>1</td>\n",
       "    </tr>\n",
       "    <tr>\n",
       "      <th>4</th>\n",
       "      <td>21</td>\n",
       "      <td>0.507247</td>\n",
       "      <td>-0.233298</td>\n",
       "      <td>-0.164215</td>\n",
       "      <td>0</td>\n",
       "    </tr>\n",
       "    <tr>\n",
       "      <th>...</th>\n",
       "      <td>...</td>\n",
       "      <td>...</td>\n",
       "      <td>...</td>\n",
       "      <td>...</td>\n",
       "      <td>...</td>\n",
       "    </tr>\n",
       "    <tr>\n",
       "      <th>64243</th>\n",
       "      <td>115322</td>\n",
       "      <td>-2.146138</td>\n",
       "      <td>-0.165824</td>\n",
       "      <td>-0.159352</td>\n",
       "      <td>1</td>\n",
       "    </tr>\n",
       "    <tr>\n",
       "      <th>64244</th>\n",
       "      <td>115323</td>\n",
       "      <td>-2.146138</td>\n",
       "      <td>-0.233298</td>\n",
       "      <td>0.036417</td>\n",
       "      <td>1</td>\n",
       "    </tr>\n",
       "    <tr>\n",
       "      <th>64245</th>\n",
       "      <td>115324</td>\n",
       "      <td>-2.146138</td>\n",
       "      <td>-0.233298</td>\n",
       "      <td>-0.167242</td>\n",
       "      <td>1</td>\n",
       "    </tr>\n",
       "    <tr>\n",
       "      <th>64246</th>\n",
       "      <td>115325</td>\n",
       "      <td>-2.146138</td>\n",
       "      <td>-0.165824</td>\n",
       "      <td>-0.164918</td>\n",
       "      <td>1</td>\n",
       "    </tr>\n",
       "    <tr>\n",
       "      <th>64247</th>\n",
       "      <td>115326</td>\n",
       "      <td>-2.146138</td>\n",
       "      <td>-0.233298</td>\n",
       "      <td>-0.003571</td>\n",
       "      <td>1</td>\n",
       "    </tr>\n",
       "  </tbody>\n",
       "</table>\n",
       "<p>64248 rows × 5 columns</p>\n",
       "</div>"
      ],
      "text/plain": [
       "       cust_id         r         f         m  k_means_clust\n",
       "0            4 -2.135036  2.465659  1.104669              1\n",
       "1           15  0.418431  0.104072 -0.159017              0\n",
       "2           16  1.428715  1.048707  0.382779              0\n",
       "3           20 -2.135036  0.441441  1.166270              1\n",
       "4           21  0.507247 -0.233298 -0.164215              0\n",
       "...        ...       ...       ...       ...            ...\n",
       "64243   115322 -2.146138 -0.165824 -0.159352              1\n",
       "64244   115323 -2.146138 -0.233298  0.036417              1\n",
       "64245   115324 -2.146138 -0.233298 -0.167242              1\n",
       "64246   115325 -2.146138 -0.165824 -0.164918              1\n",
       "64247   115326 -2.146138 -0.233298 -0.003571              1\n",
       "\n",
       "[64248 rows x 5 columns]"
      ]
     },
     "execution_count": 323,
     "metadata": {},
     "output_type": "execute_result"
    }
   ],
   "source": [
    "scaled_features['k_means_clust'] = kmeans.labels_\n",
    "scaled_features"
   ]
  },
  {
   "cell_type": "code",
   "execution_count": 324,
   "metadata": {
    "colab": {
     "base_uri": "https://localhost:8080/",
     "height": 206
    },
    "executionInfo": {
     "elapsed": 360,
     "status": "ok",
     "timestamp": 1731028132666,
     "user": {
      "displayName": "Nyein Chan Aung",
      "userId": "10271779707834005263"
     },
     "user_tz": -420
    },
    "id": "MAFr7TqwT9CD",
    "outputId": "bc507ed0-a0c0-498b-905d-86ea2c347180"
   },
   "outputs": [
    {
     "data": {
      "text/html": [
       "<div>\n",
       "<style scoped>\n",
       "    .dataframe tbody tr th:only-of-type {\n",
       "        vertical-align: middle;\n",
       "    }\n",
       "\n",
       "    .dataframe tbody tr th {\n",
       "        vertical-align: top;\n",
       "    }\n",
       "\n",
       "    .dataframe thead th {\n",
       "        text-align: right;\n",
       "    }\n",
       "</style>\n",
       "<table border=\"1\" class=\"dataframe\">\n",
       "  <thead>\n",
       "    <tr style=\"text-align: right;\">\n",
       "      <th></th>\n",
       "      <th>cust_id</th>\n",
       "      <th>r</th>\n",
       "      <th>f</th>\n",
       "      <th>m</th>\n",
       "      <th>k_means_clust</th>\n",
       "    </tr>\n",
       "  </thead>\n",
       "  <tbody>\n",
       "    <tr>\n",
       "      <th>0</th>\n",
       "      <td>4</td>\n",
       "      <td>-2.135036</td>\n",
       "      <td>2.465659</td>\n",
       "      <td>1.104669</td>\n",
       "      <td>1</td>\n",
       "    </tr>\n",
       "    <tr>\n",
       "      <th>1</th>\n",
       "      <td>15</td>\n",
       "      <td>0.418431</td>\n",
       "      <td>0.104072</td>\n",
       "      <td>-0.159017</td>\n",
       "      <td>0</td>\n",
       "    </tr>\n",
       "    <tr>\n",
       "      <th>2</th>\n",
       "      <td>16</td>\n",
       "      <td>1.428715</td>\n",
       "      <td>1.048707</td>\n",
       "      <td>0.382779</td>\n",
       "      <td>0</td>\n",
       "    </tr>\n",
       "    <tr>\n",
       "      <th>3</th>\n",
       "      <td>20</td>\n",
       "      <td>-2.135036</td>\n",
       "      <td>0.441441</td>\n",
       "      <td>1.166270</td>\n",
       "      <td>1</td>\n",
       "    </tr>\n",
       "    <tr>\n",
       "      <th>4</th>\n",
       "      <td>21</td>\n",
       "      <td>0.507247</td>\n",
       "      <td>-0.233298</td>\n",
       "      <td>-0.164215</td>\n",
       "      <td>0</td>\n",
       "    </tr>\n",
       "  </tbody>\n",
       "</table>\n",
       "</div>"
      ],
      "text/plain": [
       "   cust_id         r         f         m  k_means_clust\n",
       "0        4 -2.135036  2.465659  1.104669              1\n",
       "1       15  0.418431  0.104072 -0.159017              0\n",
       "2       16  1.428715  1.048707  0.382779              0\n",
       "3       20 -2.135036  0.441441  1.166270              1\n",
       "4       21  0.507247 -0.233298 -0.164215              0"
      ]
     },
     "execution_count": 324,
     "metadata": {},
     "output_type": "execute_result"
    }
   ],
   "source": [
    "scaled_features.head()"
   ]
  },
  {
   "cell_type": "code",
   "execution_count": 325,
   "metadata": {
    "colab": {
     "base_uri": "https://localhost:8080/",
     "height": 675
    },
    "executionInfo": {
     "elapsed": 5110,
     "status": "ok",
     "timestamp": 1731028137772,
     "user": {
      "displayName": "Nyein Chan Aung",
      "userId": "10271779707834005263"
     },
     "user_tz": -420
    },
    "id": "BOStUiv3Udlf",
    "outputId": "861a7974-c3f0-4188-f6dc-ecba68ea93ad"
   },
   "outputs": [
    {
     "data": {
      "image/png": "[encoded data removed]",
      "text/plain": [
       "<Figure size 1200x800 with 1 Axes>"
      ]
     },
     "metadata": {},
     "output_type": "display_data"
    }
   ],
   "source": [
    "# generate 3D plot with scaled_features_minmax\n",
    "from mpl_toolkits.mplot3d import Axes3D\n",
    "from mpl_toolkits.mplot3d import axes3d\n",
    "\n",
    "# 3D Scatter Plot\n",
    "fig = plt.figure(figsize=(12, 8))\n",
    "ax = fig.add_subplot(111, projection='3d')\n",
    "scatter = ax.scatter(scaled_features['r'],\n",
    "                     scaled_features['f'],\n",
    "                     scaled_features['m'],\n",
    "                     c=scaled_features['k_means_clust'],\n",
    "                     cmap='viridis', s=50)\n",
    "\n",
    "# Axis Labels\n",
    "ax.set_xlabel('Recency')\n",
    "ax.set_ylabel('Frequency')\n",
    "ax.set_zlabel('Monetary')\n",
    "ax.set_title('3D RFM K-Means Clustering')\n",
    "\n",
    "plt.show()\n"
   ]
  },
  {
   "cell_type": "markdown",
   "metadata": {
    "id": "NWC5KtYzT9CD"
   },
   "source": [
    "https://medium.com/thedeephub/exploring-customers-segmentation-with-rfm-analysis-and-k-means-clustering-118f9ffcd9f0"
   ]
  },
  {
   "cell_type": "markdown",
   "metadata": {},
   "source": [
    "### Kmean Clustering"
   ]
  },
  {
   "cell_type": "code",
   "execution_count": 316,
   "metadata": {},
   "outputs": [],
   "source": [
    "# for num_clusters in range(2, 10):\n",
    "#     kmeans = KMeans(n_clusters=num_clusters, max_iter=50)\n",
    "#     kmeans.fit(scaled_features[['recency', 'frequency', 'monetary']])\n",
    "#     cluster_labels = kmeans.labels_\n",
    "#     silhouette_avg = silhouette_score(scaled_features[['recency', 'frequency', 'monetary']], cluster_labels)\n",
    "#     print(F\"For n_clusters={num_clusters}, the silhouette score is {silhouette_avg}\")"
   ]
  },
  {
   "cell_type": "code",
   "execution_count": 327,
   "metadata": {
    "executionInfo": {
     "elapsed": 11,
     "status": "ok",
     "timestamp": 1731028137773,
     "user": {
      "displayName": "Nyein Chan Aung",
      "userId": "10271779707834005263"
     },
     "user_tz": -420
    },
    "id": "82EMKyG6lr4N"
   },
   "outputs": [],
   "source": [
    "#assign customer segmentation based on overall score\n",
    "ksegment_lst = scaled_features['k_means_clust']\n",
    "ksegment_cluster = []\n",
    "\n",
    "for i in ksegment_lst:\n",
    "    if i == 2:\n",
    "        cluster = 'loyal'\n",
    "        ksegment_cluster.append(cluster)\n",
    "    elif i == 1:\n",
    "        cluster = 'best'\n",
    "        ksegment_cluster.append(cluster)\n",
    "    else:\n",
    "        cluster = 'regular'\n",
    "        ksegment_cluster.append(cluster)\n"
   ]
  },
  {
   "cell_type": "code",
   "execution_count": 328,
   "metadata": {
    "colab": {
     "base_uri": "https://localhost:8080/",
     "height": 424
    },
    "executionInfo": {
     "elapsed": 11,
     "status": "ok",
     "timestamp": 1731028137773,
     "user": {
      "displayName": "Nyein Chan Aung",
      "userId": "10271779707834005263"
     },
     "user_tz": -420
    },
    "id": "K0VWfAkPlr4N",
    "outputId": "80f65dbb-f1c5-4827-98d1-e03b6a8a082b"
   },
   "outputs": [
    {
     "data": {
      "text/html": [
       "<div>\n",
       "<style scoped>\n",
       "    .dataframe tbody tr th:only-of-type {\n",
       "        vertical-align: middle;\n",
       "    }\n",
       "\n",
       "    .dataframe tbody tr th {\n",
       "        vertical-align: top;\n",
       "    }\n",
       "\n",
       "    .dataframe thead th {\n",
       "        text-align: right;\n",
       "    }\n",
       "</style>\n",
       "<table border=\"1\" class=\"dataframe\">\n",
       "  <thead>\n",
       "    <tr style=\"text-align: right;\">\n",
       "      <th></th>\n",
       "      <th>cust_id</th>\n",
       "      <th>r</th>\n",
       "      <th>f</th>\n",
       "      <th>m</th>\n",
       "      <th>k_means_clust</th>\n",
       "      <th>k_means_segment</th>\n",
       "    </tr>\n",
       "  </thead>\n",
       "  <tbody>\n",
       "    <tr>\n",
       "      <th>0</th>\n",
       "      <td>4</td>\n",
       "      <td>-2.135036</td>\n",
       "      <td>2.465659</td>\n",
       "      <td>1.104669</td>\n",
       "      <td>1</td>\n",
       "      <td>best</td>\n",
       "    </tr>\n",
       "    <tr>\n",
       "      <th>1</th>\n",
       "      <td>15</td>\n",
       "      <td>0.418431</td>\n",
       "      <td>0.104072</td>\n",
       "      <td>-0.159017</td>\n",
       "      <td>0</td>\n",
       "      <td>regular</td>\n",
       "    </tr>\n",
       "    <tr>\n",
       "      <th>2</th>\n",
       "      <td>16</td>\n",
       "      <td>1.428715</td>\n",
       "      <td>1.048707</td>\n",
       "      <td>0.382779</td>\n",
       "      <td>0</td>\n",
       "      <td>regular</td>\n",
       "    </tr>\n",
       "    <tr>\n",
       "      <th>3</th>\n",
       "      <td>20</td>\n",
       "      <td>-2.135036</td>\n",
       "      <td>0.441441</td>\n",
       "      <td>1.166270</td>\n",
       "      <td>1</td>\n",
       "      <td>best</td>\n",
       "    </tr>\n",
       "    <tr>\n",
       "      <th>4</th>\n",
       "      <td>21</td>\n",
       "      <td>0.507247</td>\n",
       "      <td>-0.233298</td>\n",
       "      <td>-0.164215</td>\n",
       "      <td>0</td>\n",
       "      <td>regular</td>\n",
       "    </tr>\n",
       "    <tr>\n",
       "      <th>...</th>\n",
       "      <td>...</td>\n",
       "      <td>...</td>\n",
       "      <td>...</td>\n",
       "      <td>...</td>\n",
       "      <td>...</td>\n",
       "      <td>...</td>\n",
       "    </tr>\n",
       "    <tr>\n",
       "      <th>64243</th>\n",
       "      <td>115322</td>\n",
       "      <td>-2.146138</td>\n",
       "      <td>-0.165824</td>\n",
       "      <td>-0.159352</td>\n",
       "      <td>1</td>\n",
       "      <td>best</td>\n",
       "    </tr>\n",
       "    <tr>\n",
       "      <th>64244</th>\n",
       "      <td>115323</td>\n",
       "      <td>-2.146138</td>\n",
       "      <td>-0.233298</td>\n",
       "      <td>0.036417</td>\n",
       "      <td>1</td>\n",
       "      <td>best</td>\n",
       "    </tr>\n",
       "    <tr>\n",
       "      <th>64245</th>\n",
       "      <td>115324</td>\n",
       "      <td>-2.146138</td>\n",
       "      <td>-0.233298</td>\n",
       "      <td>-0.167242</td>\n",
       "      <td>1</td>\n",
       "      <td>best</td>\n",
       "    </tr>\n",
       "    <tr>\n",
       "      <th>64246</th>\n",
       "      <td>115325</td>\n",
       "      <td>-2.146138</td>\n",
       "      <td>-0.165824</td>\n",
       "      <td>-0.164918</td>\n",
       "      <td>1</td>\n",
       "      <td>best</td>\n",
       "    </tr>\n",
       "    <tr>\n",
       "      <th>64247</th>\n",
       "      <td>115326</td>\n",
       "      <td>-2.146138</td>\n",
       "      <td>-0.233298</td>\n",
       "      <td>-0.003571</td>\n",
       "      <td>1</td>\n",
       "      <td>best</td>\n",
       "    </tr>\n",
       "  </tbody>\n",
       "</table>\n",
       "<p>64248 rows × 6 columns</p>\n",
       "</div>"
      ],
      "text/plain": [
       "       cust_id         r         f         m  k_means_clust k_means_segment\n",
       "0            4 -2.135036  2.465659  1.104669              1            best\n",
       "1           15  0.418431  0.104072 -0.159017              0         regular\n",
       "2           16  1.428715  1.048707  0.382779              0         regular\n",
       "3           20 -2.135036  0.441441  1.166270              1            best\n",
       "4           21  0.507247 -0.233298 -0.164215              0         regular\n",
       "...        ...       ...       ...       ...            ...             ...\n",
       "64243   115322 -2.146138 -0.165824 -0.159352              1            best\n",
       "64244   115323 -2.146138 -0.233298  0.036417              1            best\n",
       "64245   115324 -2.146138 -0.233298 -0.167242              1            best\n",
       "64246   115325 -2.146138 -0.165824 -0.164918              1            best\n",
       "64247   115326 -2.146138 -0.233298 -0.003571              1            best\n",
       "\n",
       "[64248 rows x 6 columns]"
      ]
     },
     "execution_count": 328,
     "metadata": {},
     "output_type": "execute_result"
    }
   ],
   "source": [
    "scaled_features['k_means_segment'] = ksegment_cluster\n",
    "scaled_features"
   ]
  },
  {
   "cell_type": "code",
   "execution_count": 330,
   "metadata": {
    "colab": {
     "base_uri": "https://localhost:8080/",
     "height": 226
    },
    "executionInfo": {
     "elapsed": 10,
     "status": "ok",
     "timestamp": 1731028137773,
     "user": {
      "displayName": "Nyein Chan Aung",
      "userId": "10271779707834005263"
     },
     "user_tz": -420
    },
    "id": "e8CCaeLmTdIV",
    "outputId": "545fe831-8a88-4de3-c135-1802833eb27f"
   },
   "outputs": [
    {
     "data": {
      "text/html": [
       "<div>\n",
       "<style scoped>\n",
       "    .dataframe tbody tr th:only-of-type {\n",
       "        vertical-align: middle;\n",
       "    }\n",
       "\n",
       "    .dataframe tbody tr th {\n",
       "        vertical-align: top;\n",
       "    }\n",
       "\n",
       "    .dataframe thead th {\n",
       "        text-align: right;\n",
       "    }\n",
       "</style>\n",
       "<table border=\"1\" class=\"dataframe\">\n",
       "  <thead>\n",
       "    <tr style=\"text-align: right;\">\n",
       "      <th></th>\n",
       "      <th>cust_id</th>\n",
       "      <th>last_purchase_timestamp</th>\n",
       "      <th>recency</th>\n",
       "      <th>frequency</th>\n",
       "      <th>monetary</th>\n",
       "      <th>r</th>\n",
       "      <th>f</th>\n",
       "      <th>m</th>\n",
       "      <th>k_means_clust</th>\n",
       "      <th>k_means_segment</th>\n",
       "    </tr>\n",
       "  </thead>\n",
       "  <tbody>\n",
       "    <tr>\n",
       "      <th>0</th>\n",
       "      <td>4</td>\n",
       "      <td>2021-09-29</td>\n",
       "      <td>1</td>\n",
       "      <td>41</td>\n",
       "      <td>27394.190</td>\n",
       "      <td>-2.135036</td>\n",
       "      <td>2.465659</td>\n",
       "      <td>1.104669</td>\n",
       "      <td>1</td>\n",
       "      <td>best</td>\n",
       "    </tr>\n",
       "    <tr>\n",
       "      <th>1</th>\n",
       "      <td>15</td>\n",
       "      <td>2021-02-11</td>\n",
       "      <td>231</td>\n",
       "      <td>6</td>\n",
       "      <td>216.800</td>\n",
       "      <td>0.418431</td>\n",
       "      <td>0.104072</td>\n",
       "      <td>-0.159017</td>\n",
       "      <td>0</td>\n",
       "      <td>regular</td>\n",
       "    </tr>\n",
       "    <tr>\n",
       "      <th>2</th>\n",
       "      <td>16</td>\n",
       "      <td>2020-11-12</td>\n",
       "      <td>322</td>\n",
       "      <td>20</td>\n",
       "      <td>11868.899</td>\n",
       "      <td>1.428715</td>\n",
       "      <td>1.048707</td>\n",
       "      <td>0.382779</td>\n",
       "      <td>0</td>\n",
       "      <td>regular</td>\n",
       "    </tr>\n",
       "    <tr>\n",
       "      <th>3</th>\n",
       "      <td>20</td>\n",
       "      <td>2021-09-29</td>\n",
       "      <td>1</td>\n",
       "      <td>11</td>\n",
       "      <td>28719.018</td>\n",
       "      <td>-2.135036</td>\n",
       "      <td>0.441441</td>\n",
       "      <td>1.166270</td>\n",
       "      <td>1</td>\n",
       "      <td>best</td>\n",
       "    </tr>\n",
       "    <tr>\n",
       "      <th>4</th>\n",
       "      <td>21</td>\n",
       "      <td>2021-02-03</td>\n",
       "      <td>239</td>\n",
       "      <td>1</td>\n",
       "      <td>105.000</td>\n",
       "      <td>0.507247</td>\n",
       "      <td>-0.233298</td>\n",
       "      <td>-0.164215</td>\n",
       "      <td>0</td>\n",
       "      <td>regular</td>\n",
       "    </tr>\n",
       "  </tbody>\n",
       "</table>\n",
       "</div>"
      ],
      "text/plain": [
       "   cust_id last_purchase_timestamp  recency  frequency   monetary         r  \\\n",
       "0        4              2021-09-29        1         41  27394.190 -2.135036   \n",
       "1       15              2021-02-11      231          6    216.800  0.418431   \n",
       "2       16              2020-11-12      322         20  11868.899  1.428715   \n",
       "3       20              2021-09-29        1         11  28719.018 -2.135036   \n",
       "4       21              2021-02-03      239          1    105.000  0.507247   \n",
       "\n",
       "          f         m  k_means_clust k_means_segment  \n",
       "0  2.465659  1.104669              1            best  \n",
       "1  0.104072 -0.159017              0         regular  \n",
       "2  1.048707  0.382779              0         regular  \n",
       "3  0.441441  1.166270              1            best  \n",
       "4 -0.233298 -0.164215              0         regular  "
      ]
     },
     "execution_count": 330,
     "metadata": {},
     "output_type": "execute_result"
    }
   ],
   "source": [
    "# mearge data into overall\n",
    "overall = overall.merge(scaled_features[['cust_id','r','f','m','k_means_clust','k_means_segment',]], on='cust_id')\n",
    "overall.head()"
   ]
  },
  {
   "cell_type": "code",
   "execution_count": 333,
   "metadata": {
    "executionInfo": {
     "elapsed": 3192,
     "status": "ok",
     "timestamp": 1731028355237,
     "user": {
      "displayName": "Nyein Chan Aung",
      "userId": "10271779707834005263"
     },
     "user_tz": -420
    },
    "id": "ZdUMUrXjVC97"
   },
   "outputs": [],
   "source": [
    "overall.to_csv(\"data/_user_segmentation.csv\")"
   ]
  },
  {
   "cell_type": "markdown",
   "metadata": {
    "id": "M6dveOUGlr4O"
   },
   "source": [
    "## RFM Analysis"
   ]
  },
  {
   "cell_type": "code",
   "execution_count": 332,
   "metadata": {},
   "outputs": [
    {
     "name": "stdout",
     "output_type": "stream",
     "text": [
      "[870, 5256, 1547, 1549, 2764, 4548, 558, 129, 1411, 188]\n",
      "Index(['about to sleep', 'at risk', 'champions', 'do not lose', 'hibernating',\n",
      "       'loyal customer', 'need attention', 'new customer',\n",
      "       'potential customer', 'promising'],\n",
      "      dtype='object', name='segment')\n",
      "[13682, 24014, 26552]\n",
      "Index(['best', 'loyal', 'regular'], dtype='object', name='k_means_segment')\n"
     ]
    }
   ],
   "source": [
    "# compare RFM and K-Means\n",
    "# RFM Result\n",
    "result = final_table.groupby(['segment'])['segment'].count()\n",
    "values = list(result)\n",
    "print(values)\n",
    "labels = result.index\n",
    "print(labels)\n",
    "\n",
    "# K-Means Result\n",
    "result = overall.groupby(['k_means_segment'])['k_means_segment'].count()\n",
    "values = list(result)\n",
    "print(values)\n",
    "labels = result.index\n",
    "print(labels)\n"
   ]
  },
  {
   "cell_type": "code",
   "execution_count": null,
   "metadata": {},
   "outputs": [],
   "source": []
  }
 ],
 "metadata": {
  "colab": {
   "collapsed_sections": [
    "depC1XUPlr4D",
    "ryb-0XRSlr4F",
    "XZ2QCt6Plr4F"
   ],
   "provenance": []
  },
  "kernelspec": {
   "display_name": "venv",
   "language": "python",
   "name": "python3"
  },
  "language_info": {
   "codemirror_mode": {
    "name": "ipython",
    "version": 3
   },
   "file_extension": ".py",
   "mimetype": "text/x-python",
   "name": "python",
   "nbconvert_exporter": "python",
   "pygments_lexer": "ipython3",
   "version": "3.12.7"
  }
 },
 "nbformat": 4,
 "nbformat_minor": 0
}
